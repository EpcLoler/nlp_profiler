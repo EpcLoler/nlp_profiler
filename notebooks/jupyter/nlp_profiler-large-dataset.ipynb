{
 "cells": [
  {
   "cell_type": "code",
   "execution_count": 1,
   "metadata": {},
   "outputs": [
    {
     "name": "stdout",
     "output_type": "stream",
     "text": [
      "Processing /home/satyasai/git-repos/ai-ml-dl-stuff/nlp_profiler\n",
      "  Installing build dependencies: started\n",
      "  Installing build dependencies: finished with status 'done'\n",
      "  Getting requirements to build wheel: started\n",
      "  Getting requirements to build wheel: finished with status 'done'\n",
      "    Preparing wheel metadata: started\n",
      "    Preparing wheel metadata: finished with status 'done'\n",
      "Requirement already satisfied: tqdm>=4.46.0 in /home/satyasai/.local/lib/python3.7/site-packages (from nlp-profiler==0.0.1) (4.46.1)\n",
      "Requirement already satisfied: joblib>=0.14.1 in /home/satyasai/.local/lib/python3.7/site-packages (from nlp-profiler==0.0.1) (0.15.1)\n",
      "Requirement already satisfied: swifter>=1.0.3 in /home/satyasai/.local/lib/python3.7/site-packages (from nlp-profiler==0.0.1) (1.0.3)\n",
      "Requirement already satisfied: nltk>=3.5 in /home/satyasai/.local/lib/python3.7/site-packages (from nlp-profiler==0.0.1) (3.5)\n",
      "Requirement already satisfied: textblob>=0.15.3 in /home/satyasai/.local/lib/python3.7/site-packages (from nlp-profiler==0.0.1) (0.15.3)\n",
      "Requirement already satisfied: pandas in /home/satyasai/.local/lib/python3.7/site-packages (from nlp-profiler==0.0.1) (0.24.1)\n",
      "Requirement already satisfied: ipython>=7.12.0 in /home/satyasai/.local/lib/python3.7/site-packages (from nlp-profiler==0.0.1) (7.15.0)\n",
      "Requirement already satisfied: language-tool-python>=2.3.1 in /home/satyasai/.local/lib/python3.7/site-packages (from nlp-profiler==0.0.1) (2.4.2)\n",
      "Requirement already satisfied: requests>=2.23.0 in /home/satyasai/.local/lib/python3.7/site-packages (from nlp-profiler==0.0.1) (2.23.0)\n",
      "Requirement already satisfied: emoji>=0.5.4 in /home/satyasai/.local/lib/python3.7/site-packages (from nlp-profiler==0.0.1) (0.5.4)\n",
      "Requirement already satisfied: bleach>=3.1.1 in /home/satyasai/.local/lib/python3.7/site-packages (from swifter>=1.0.3->nlp-profiler==0.0.1) (3.1.5)\n",
      "Requirement already satisfied: dask[complete]>=0.19.0 in /home/satyasai/.local/lib/python3.7/site-packages (from swifter>=1.0.3->nlp-profiler==0.0.1) (2.27.0)\n",
      "Requirement already satisfied: psutil>=5.6.6 in /home/satyasai/.local/lib/python3.7/site-packages (from swifter>=1.0.3->nlp-profiler==0.0.1) (5.7.0)\n",
      "Requirement already satisfied: parso>0.4.0 in /home/satyasai/.local/lib/python3.7/site-packages (from swifter>=1.0.3->nlp-profiler==0.0.1) (0.7.0)\n",
      "Requirement already satisfied: modin[ray]>=0.7.4 in /home/satyasai/.local/lib/python3.7/site-packages (from swifter>=1.0.3->nlp-profiler==0.0.1) (0.8.0)\n",
      "Requirement already satisfied: ipywidgets>=7.0.0 in /home/satyasai/.local/lib/python3.7/site-packages (from swifter>=1.0.3->nlp-profiler==0.0.1) (7.5.1)\n",
      "Requirement already satisfied: click in /home/satyasai/.local/lib/python3.7/site-packages (from nltk>=3.5->nlp-profiler==0.0.1) (7.1.2)\n",
      "Requirement already satisfied: regex in /home/satyasai/.local/lib/python3.7/site-packages (from nltk>=3.5->nlp-profiler==0.0.1) (2020.6.8)\n",
      "Requirement already satisfied: python-dateutil>=2.5.0 in /home/satyasai/.local/lib/python3.7/site-packages (from pandas->nlp-profiler==0.0.1) (2.8.1)\n",
      "Requirement already satisfied: numpy>=1.12.0 in /home/satyasai/.local/lib/python3.7/site-packages (from pandas->nlp-profiler==0.0.1) (1.18.5)\n",
      "Requirement already satisfied: pytz>=2011k in /home/satyasai/.local/lib/python3.7/site-packages (from pandas->nlp-profiler==0.0.1) (2020.1)\n",
      "Requirement already satisfied: decorator in /home/satyasai/.local/lib/python3.7/site-packages (from ipython>=7.12.0->nlp-profiler==0.0.1) (4.4.2)\n",
      "Requirement already satisfied: jedi>=0.10 in /home/satyasai/.local/lib/python3.7/site-packages (from ipython>=7.12.0->nlp-profiler==0.0.1) (0.17.0)\n",
      "Requirement already satisfied: pickleshare in /home/satyasai/.local/lib/python3.7/site-packages (from ipython>=7.12.0->nlp-profiler==0.0.1) (0.7.5)\n",
      "Requirement already satisfied: pygments in /home/satyasai/.local/lib/python3.7/site-packages (from ipython>=7.12.0->nlp-profiler==0.0.1) (2.6.1)\n",
      "Requirement already satisfied: prompt-toolkit!=3.0.0,!=3.0.1,<3.1.0,>=2.0.0 in /home/satyasai/.local/lib/python3.7/site-packages (from ipython>=7.12.0->nlp-profiler==0.0.1) (3.0.5)\n",
      "Requirement already satisfied: setuptools>=18.5 in /home/satyasai/.local/lib/python3.7/site-packages (from ipython>=7.12.0->nlp-profiler==0.0.1) (49.1.0)\n",
      "Requirement already satisfied: pexpect; sys_platform != \"win32\" in /home/satyasai/.local/lib/python3.7/site-packages (from ipython>=7.12.0->nlp-profiler==0.0.1) (4.8.0)\n",
      "Requirement already satisfied: backcall in /home/satyasai/.local/lib/python3.7/site-packages (from ipython>=7.12.0->nlp-profiler==0.0.1) (0.2.0)\n",
      "Requirement already satisfied: traitlets>=4.2 in /home/satyasai/.local/lib/python3.7/site-packages (from ipython>=7.12.0->nlp-profiler==0.0.1) (4.3.3)\n",
      "Requirement already satisfied: certifi>=2017.4.17 in /home/satyasai/.local/lib/python3.7/site-packages (from requests>=2.23.0->nlp-profiler==0.0.1) (2020.4.5.2)\n",
      "Requirement already satisfied: urllib3!=1.25.0,!=1.25.1,<1.26,>=1.21.1 in /home/satyasai/.local/lib/python3.7/site-packages (from requests>=2.23.0->nlp-profiler==0.0.1) (1.24.3)\n",
      "Requirement already satisfied: chardet<4,>=3.0.2 in /home/satyasai/.local/lib/python3.7/site-packages (from requests>=2.23.0->nlp-profiler==0.0.1) (3.0.4)\n",
      "Requirement already satisfied: idna<3,>=2.5 in /home/satyasai/.local/lib/python3.7/site-packages (from requests>=2.23.0->nlp-profiler==0.0.1) (2.9)\n",
      "Requirement already satisfied: webencodings in /home/satyasai/.local/lib/python3.7/site-packages (from bleach>=3.1.1->swifter>=1.0.3->nlp-profiler==0.0.1) (0.5.1)\n",
      "Requirement already satisfied: packaging in /home/satyasai/.local/lib/python3.7/site-packages (from bleach>=3.1.1->swifter>=1.0.3->nlp-profiler==0.0.1) (20.4)\n",
      "Requirement already satisfied: six>=1.9.0 in /home/satyasai/.local/lib/python3.7/site-packages (from bleach>=3.1.1->swifter>=1.0.3->nlp-profiler==0.0.1) (1.15.0)\n",
      "Requirement already satisfied: pyyaml in /home/satyasai/.local/lib/python3.7/site-packages (from dask[complete]>=0.19.0->swifter>=1.0.3->nlp-profiler==0.0.1) (5.3.1)\n",
      "Requirement already satisfied: distributed>=2.0; extra == \"complete\" in /home/satyasai/.local/lib/python3.7/site-packages (from dask[complete]>=0.19.0->swifter>=1.0.3->nlp-profiler==0.0.1) (2.27.0)\n",
      "Requirement already satisfied: partd>=0.3.10; extra == \"complete\" in /home/satyasai/.local/lib/python3.7/site-packages (from dask[complete]>=0.19.0->swifter>=1.0.3->nlp-profiler==0.0.1) (1.1.0)\n",
      "Requirement already satisfied: cloudpickle>=0.2.2; extra == \"complete\" in /home/satyasai/.local/lib/python3.7/site-packages (from dask[complete]>=0.19.0->swifter>=1.0.3->nlp-profiler==0.0.1) (1.3.0)\n",
      "Requirement already satisfied: bokeh!=2.0.0,>=1.0.0; extra == \"complete\" in /home/satyasai/.local/lib/python3.7/site-packages (from dask[complete]>=0.19.0->swifter>=1.0.3->nlp-profiler==0.0.1) (2.2.1)\n",
      "Requirement already satisfied: fsspec>=0.6.0; extra == \"complete\" in /home/satyasai/.local/lib/python3.7/site-packages (from dask[complete]>=0.19.0->swifter>=1.0.3->nlp-profiler==0.0.1) (0.8.2)\n",
      "Requirement already satisfied: toolz>=0.8.2; extra == \"complete\" in /home/satyasai/.local/lib/python3.7/site-packages (from dask[complete]>=0.19.0->swifter>=1.0.3->nlp-profiler==0.0.1) (0.10.0)\n",
      "Requirement already satisfied: ray==0.8.6; extra == \"ray\" in /home/satyasai/.local/lib/python3.7/site-packages (from modin[ray]>=0.7.4->swifter>=1.0.3->nlp-profiler==0.0.1) (0.8.6)\n",
      "Requirement already satisfied: pyarrow<0.17; extra == \"ray\" in /home/satyasai/.local/lib/python3.7/site-packages (from modin[ray]>=0.7.4->swifter>=1.0.3->nlp-profiler==0.0.1) (0.16.0)\n",
      "Requirement already satisfied: ipykernel>=4.5.1 in /home/satyasai/.local/lib/python3.7/site-packages (from ipywidgets>=7.0.0->swifter>=1.0.3->nlp-profiler==0.0.1) (5.3.0)\n",
      "Requirement already satisfied: nbformat>=4.2.0 in /home/satyasai/.local/lib/python3.7/site-packages (from ipywidgets>=7.0.0->swifter>=1.0.3->nlp-profiler==0.0.1) (5.0.7)\n",
      "Requirement already satisfied: widgetsnbextension~=3.5.0 in /home/satyasai/.local/lib/python3.7/site-packages (from ipywidgets>=7.0.0->swifter>=1.0.3->nlp-profiler==0.0.1) (3.5.1)\n",
      "Requirement already satisfied: wcwidth in /home/satyasai/.local/lib/python3.7/site-packages (from prompt-toolkit!=3.0.0,!=3.0.1,<3.1.0,>=2.0.0->ipython>=7.12.0->nlp-profiler==0.0.1) (0.2.4)\n",
      "Requirement already satisfied: ptyprocess>=0.5 in /home/satyasai/.local/lib/python3.7/site-packages (from pexpect; sys_platform != \"win32\"->ipython>=7.12.0->nlp-profiler==0.0.1) (0.6.0)\n",
      "Requirement already satisfied: ipython-genutils in /home/satyasai/.local/lib/python3.7/site-packages (from traitlets>=4.2->ipython>=7.12.0->nlp-profiler==0.0.1) (0.2.0)\n",
      "Requirement already satisfied: pyparsing>=2.0.2 in /home/satyasai/.local/lib/python3.7/site-packages (from packaging->bleach>=3.1.1->swifter>=1.0.3->nlp-profiler==0.0.1) (2.4.7)\n",
      "Requirement already satisfied: sortedcontainers!=2.0.0,!=2.0.1 in /home/satyasai/.local/lib/python3.7/site-packages (from distributed>=2.0; extra == \"complete\"->dask[complete]>=0.19.0->swifter>=1.0.3->nlp-profiler==0.0.1) (2.2.2)\n",
      "Requirement already satisfied: tblib>=1.6.0 in /home/satyasai/.local/lib/python3.7/site-packages (from distributed>=2.0; extra == \"complete\"->dask[complete]>=0.19.0->swifter>=1.0.3->nlp-profiler==0.0.1) (1.7.0)\n",
      "Requirement already satisfied: tornado>=5; python_version < \"3.8\" in /home/satyasai/.local/lib/python3.7/site-packages (from distributed>=2.0; extra == \"complete\"->dask[complete]>=0.19.0->swifter>=1.0.3->nlp-profiler==0.0.1) (6.0.4)\n",
      "Requirement already satisfied: zict>=0.1.3 in /home/satyasai/.local/lib/python3.7/site-packages (from distributed>=2.0; extra == \"complete\"->dask[complete]>=0.19.0->swifter>=1.0.3->nlp-profiler==0.0.1) (2.0.0)\n",
      "Requirement already satisfied: msgpack>=0.6.0 in /home/satyasai/.local/lib/python3.7/site-packages (from distributed>=2.0; extra == \"complete\"->dask[complete]>=0.19.0->swifter>=1.0.3->nlp-profiler==0.0.1) (1.0.0)\n",
      "Requirement already satisfied: locket in /home/satyasai/.local/lib/python3.7/site-packages (from partd>=0.3.10; extra == \"complete\"->dask[complete]>=0.19.0->swifter>=1.0.3->nlp-profiler==0.0.1) (0.2.0)\n",
      "Requirement already satisfied: Jinja2>=2.7 in /home/satyasai/.local/lib/python3.7/site-packages (from bokeh!=2.0.0,>=1.0.0; extra == \"complete\"->dask[complete]>=0.19.0->swifter>=1.0.3->nlp-profiler==0.0.1) (2.11.2)\n",
      "Requirement already satisfied: pillow>=7.1.0 in /home/satyasai/.local/lib/python3.7/site-packages (from bokeh!=2.0.0,>=1.0.0; extra == \"complete\"->dask[complete]>=0.19.0->swifter>=1.0.3->nlp-profiler==0.0.1) (7.2.0)\n",
      "Requirement already satisfied: typing-extensions>=3.7.4 in /home/satyasai/.local/lib/python3.7/site-packages (from bokeh!=2.0.0,>=1.0.0; extra == \"complete\"->dask[complete]>=0.19.0->swifter>=1.0.3->nlp-profiler==0.0.1) (3.7.4.2)\n",
      "Requirement already satisfied: protobuf>=3.8.0 in /home/satyasai/.local/lib/python3.7/site-packages (from ray==0.8.6; extra == \"ray\"->modin[ray]>=0.7.4->swifter>=1.0.3->nlp-profiler==0.0.1) (3.12.2)\n",
      "Requirement already satisfied: colorama in /home/satyasai/.local/lib/python3.7/site-packages (from ray==0.8.6; extra == \"ray\"->modin[ray]>=0.7.4->swifter>=1.0.3->nlp-profiler==0.0.1) (0.4.3)\n",
      "Requirement already satisfied: redis<3.5.0,>=3.3.2 in /home/satyasai/.local/lib/python3.7/site-packages (from ray==0.8.6; extra == \"ray\"->modin[ray]>=0.7.4->swifter>=1.0.3->nlp-profiler==0.0.1) (3.4.1)\n",
      "Requirement already satisfied: google in /home/satyasai/.local/lib/python3.7/site-packages (from ray==0.8.6; extra == \"ray\"->modin[ray]>=0.7.4->swifter>=1.0.3->nlp-profiler==0.0.1) (3.0.0)\n",
      "Requirement already satisfied: grpcio in /home/satyasai/.local/lib/python3.7/site-packages (from ray==0.8.6; extra == \"ray\"->modin[ray]>=0.7.4->swifter>=1.0.3->nlp-profiler==0.0.1) (1.29.0)\n",
      "Requirement already satisfied: aiohttp in /home/satyasai/.local/lib/python3.7/site-packages (from ray==0.8.6; extra == \"ray\"->modin[ray]>=0.7.4->swifter>=1.0.3->nlp-profiler==0.0.1) (3.6.2)\n",
      "Requirement already satisfied: py-spy>=0.2.0 in /home/satyasai/.local/lib/python3.7/site-packages (from ray==0.8.6; extra == \"ray\"->modin[ray]>=0.7.4->swifter>=1.0.3->nlp-profiler==0.0.1) (0.3.3)\n",
      "Requirement already satisfied: filelock in /home/satyasai/.local/lib/python3.7/site-packages (from ray==0.8.6; extra == \"ray\"->modin[ray]>=0.7.4->swifter>=1.0.3->nlp-profiler==0.0.1) (3.0.12)\n",
      "Requirement already satisfied: jsonschema in /home/satyasai/.local/lib/python3.7/site-packages (from ray==0.8.6; extra == \"ray\"->modin[ray]>=0.7.4->swifter>=1.0.3->nlp-profiler==0.0.1) (3.2.0)\n",
      "Requirement already satisfied: jupyter-client in /home/satyasai/.local/lib/python3.7/site-packages (from ipykernel>=4.5.1->ipywidgets>=7.0.0->swifter>=1.0.3->nlp-profiler==0.0.1) (6.1.3)\n",
      "Requirement already satisfied: jupyter-core in /home/satyasai/.local/lib/python3.7/site-packages (from nbformat>=4.2.0->ipywidgets>=7.0.0->swifter>=1.0.3->nlp-profiler==0.0.1) (4.6.3)\n",
      "Requirement already satisfied: notebook>=4.4.1 in /home/satyasai/.local/lib/python3.7/site-packages (from widgetsnbextension~=3.5.0->ipywidgets>=7.0.0->swifter>=1.0.3->nlp-profiler==0.0.1) (6.0.3)\n",
      "Requirement already satisfied: heapdict in /home/satyasai/.local/lib/python3.7/site-packages (from zict>=0.1.3->distributed>=2.0; extra == \"complete\"->dask[complete]>=0.19.0->swifter>=1.0.3->nlp-profiler==0.0.1) (1.0.1)\n",
      "Requirement already satisfied: MarkupSafe>=0.23 in /home/satyasai/.local/lib/python3.7/site-packages (from Jinja2>=2.7->bokeh!=2.0.0,>=1.0.0; extra == \"complete\"->dask[complete]>=0.19.0->swifter>=1.0.3->nlp-profiler==0.0.1) (1.1.1)\n",
      "Requirement already satisfied: beautifulsoup4 in /home/satyasai/.local/lib/python3.7/site-packages (from google->ray==0.8.6; extra == \"ray\"->modin[ray]>=0.7.4->swifter>=1.0.3->nlp-profiler==0.0.1) (4.9.1)\n",
      "Requirement already satisfied: multidict<5.0,>=4.5 in /home/satyasai/.local/lib/python3.7/site-packages (from aiohttp->ray==0.8.6; extra == \"ray\"->modin[ray]>=0.7.4->swifter>=1.0.3->nlp-profiler==0.0.1) (4.7.6)\n",
      "Requirement already satisfied: yarl<2.0,>=1.0 in /home/satyasai/.local/lib/python3.7/site-packages (from aiohttp->ray==0.8.6; extra == \"ray\"->modin[ray]>=0.7.4->swifter>=1.0.3->nlp-profiler==0.0.1) (1.5.1)\n",
      "Requirement already satisfied: async-timeout<4.0,>=3.0 in /home/satyasai/.local/lib/python3.7/site-packages (from aiohttp->ray==0.8.6; extra == \"ray\"->modin[ray]>=0.7.4->swifter>=1.0.3->nlp-profiler==0.0.1) (3.0.1)\n",
      "Requirement already satisfied: attrs>=17.3.0 in /home/satyasai/.local/lib/python3.7/site-packages (from aiohttp->ray==0.8.6; extra == \"ray\"->modin[ray]>=0.7.4->swifter>=1.0.3->nlp-profiler==0.0.1) (19.3.0)\n",
      "Requirement already satisfied: pyrsistent>=0.14.0 in /home/satyasai/.local/lib/python3.7/site-packages (from jsonschema->ray==0.8.6; extra == \"ray\"->modin[ray]>=0.7.4->swifter>=1.0.3->nlp-profiler==0.0.1) (0.16.0)\n",
      "Requirement already satisfied: importlib-metadata; python_version < \"3.8\" in /home/satyasai/.local/lib/python3.7/site-packages (from jsonschema->ray==0.8.6; extra == \"ray\"->modin[ray]>=0.7.4->swifter>=1.0.3->nlp-profiler==0.0.1) (1.6.1)\n",
      "Requirement already satisfied: pyzmq>=13 in /home/satyasai/.local/lib/python3.7/site-packages (from jupyter-client->ipykernel>=4.5.1->ipywidgets>=7.0.0->swifter>=1.0.3->nlp-profiler==0.0.1) (19.0.1)\n",
      "Requirement already satisfied: prometheus-client in /home/satyasai/.local/lib/python3.7/site-packages (from notebook>=4.4.1->widgetsnbextension~=3.5.0->ipywidgets>=7.0.0->swifter>=1.0.3->nlp-profiler==0.0.1) (0.8.0)\n",
      "Requirement already satisfied: terminado>=0.8.1 in /home/satyasai/.local/lib/python3.7/site-packages (from notebook>=4.4.1->widgetsnbextension~=3.5.0->ipywidgets>=7.0.0->swifter>=1.0.3->nlp-profiler==0.0.1) (0.8.3)\n",
      "Requirement already satisfied: Send2Trash in /home/satyasai/.local/lib/python3.7/site-packages (from notebook>=4.4.1->widgetsnbextension~=3.5.0->ipywidgets>=7.0.0->swifter>=1.0.3->nlp-profiler==0.0.1) (1.5.0)\n",
      "Requirement already satisfied: nbconvert in /home/satyasai/.local/lib/python3.7/site-packages (from notebook>=4.4.1->widgetsnbextension~=3.5.0->ipywidgets>=7.0.0->swifter>=1.0.3->nlp-profiler==0.0.1) (5.6.1)\n",
      "Requirement already satisfied: soupsieve>1.2 in /home/satyasai/.local/lib/python3.7/site-packages (from beautifulsoup4->google->ray==0.8.6; extra == \"ray\"->modin[ray]>=0.7.4->swifter>=1.0.3->nlp-profiler==0.0.1) (2.0.1)\n",
      "Requirement already satisfied: zipp>=0.5 in /home/satyasai/.local/lib/python3.7/site-packages (from importlib-metadata; python_version < \"3.8\"->jsonschema->ray==0.8.6; extra == \"ray\"->modin[ray]>=0.7.4->swifter>=1.0.3->nlp-profiler==0.0.1) (3.1.0)\n",
      "Requirement already satisfied: mistune<2,>=0.8.1 in /home/satyasai/.local/lib/python3.7/site-packages (from nbconvert->notebook>=4.4.1->widgetsnbextension~=3.5.0->ipywidgets>=7.0.0->swifter>=1.0.3->nlp-profiler==0.0.1) (0.8.4)\n",
      "Requirement already satisfied: entrypoints>=0.2.2 in /home/satyasai/.local/lib/python3.7/site-packages (from nbconvert->notebook>=4.4.1->widgetsnbextension~=3.5.0->ipywidgets>=7.0.0->swifter>=1.0.3->nlp-profiler==0.0.1) (0.3)\n",
      "Requirement already satisfied: pandocfilters>=1.4.1 in /home/satyasai/.local/lib/python3.7/site-packages (from nbconvert->notebook>=4.4.1->widgetsnbextension~=3.5.0->ipywidgets>=7.0.0->swifter>=1.0.3->nlp-profiler==0.0.1) (1.4.2)\n",
      "Requirement already satisfied: defusedxml in /home/satyasai/.local/lib/python3.7/site-packages (from nbconvert->notebook>=4.4.1->widgetsnbextension~=3.5.0->ipywidgets>=7.0.0->swifter>=1.0.3->nlp-profiler==0.0.1) (0.6.0)\n",
      "Requirement already satisfied: testpath in /home/satyasai/.local/lib/python3.7/site-packages (from nbconvert->notebook>=4.4.1->widgetsnbextension~=3.5.0->ipywidgets>=7.0.0->swifter>=1.0.3->nlp-profiler==0.0.1) (0.4.4)\n",
      "Building wheels for collected packages: nlp-profiler\n",
      "  Building wheel for nlp-profiler (PEP 517): started\n",
      "  Building wheel for nlp-profiler (PEP 517): finished with status 'done'\n",
      "  Created wheel for nlp-profiler: filename=nlp_profiler-0.0.1-py3-none-any.whl size=29416 sha256=b769eba7afbea360cb629dcd24ef6c9de10abc259fb385a4468d5604ea496463\n",
      "  Stored in directory: /tmp/pip-ephem-wheel-cache-jeig9e2v/wheels/c3/37/38/edb4b584186d5fd35cdc7b72765631b03c281241ea480af1fd\n",
      "Successfully built nlp-profiler\n",
      "Installing collected packages: nlp-profiler\n",
      "  Attempting uninstall: nlp-profiler\n",
      "    Found existing installation: nlp-profiler 0.0.1\n",
      "    Can't uninstall 'nlp-profiler'. No files were found to uninstall.\n",
      "Successfully installed nlp-profiler-0.0.1\n",
      "Once successfully installed, please RESTART your Jupyter kernels or Colab runtimes for the changes to take effect\n"
     ]
    },
    {
     "name": "stderr",
     "output_type": "stream",
     "text": [
      "WARNING: You are using pip version 20.1.1; however, version 20.2.3 is available.\n",
      "You should consider upgrading via the '/usr/local/bin/python3.7 -m pip install --upgrade pip' command.\n"
     ]
    }
   ],
   "source": [
    "%%bash\n",
    "\n",
    "# When running from inside this repo:\n",
    "cd ../..\n",
    "# python setup.py install\n",
    "\n",
    "pip install --prefix .\n",
    "\n",
    "# When running independently\n",
    "# pip install -U git+https://github.com/neomatrix369/nlp_profiler.git\n",
    "echo \"Once successfully installed, please RESTART your Jupyter kernels or Colab runtimes for the changes to take effect\""
   ]
  },
  {
   "cell_type": "code",
   "execution_count": 2,
   "metadata": {},
   "outputs": [
    {
     "name": "stderr",
     "output_type": "stream",
     "text": [
      "[nltk_data] Downloading package stopwords to\n",
      "[nltk_data]     /home/satyasai/nltk_data...\n",
      "[nltk_data]   Package stopwords is already up-to-date!\n",
      "[nltk_data] Downloading package punkt to /home/satyasai/nltk_data...\n",
      "[nltk_data]   Package punkt is already up-to-date!\n"
     ]
    }
   ],
   "source": [
    "import pandas as pd\n",
    "\n",
    "import sys\n",
    "sys.path.insert(0, '../..')\n",
    "\n",
    "from nlp_profiler.core import apply_text_profiling"
   ]
  },
  {
   "cell_type": "markdown",
   "metadata": {},
   "source": [
    "#### Text messages with Emojis, Numbers, Alphanumeric, None-alphanumeric, Punctuations, Dates and Duplicates"
   ]
  },
  {
   "cell_type": "code",
   "execution_count": 3,
   "metadata": {},
   "outputs": [
    {
     "data": {
      "text/html": [
       "<div>\n",
       "<style scoped>\n",
       "    .dataframe tbody tr th:only-of-type {\n",
       "        vertical-align: middle;\n",
       "    }\n",
       "\n",
       "    .dataframe tbody tr th {\n",
       "        vertical-align: top;\n",
       "    }\n",
       "\n",
       "    .dataframe thead th {\n",
       "        text-align: right;\n",
       "    }\n",
       "</style>\n",
       "<table border=\"1\" class=\"dataframe\">\n",
       "  <thead>\n",
       "    <tr style=\"text-align: right;\">\n",
       "      <th></th>\n",
       "      <th>App</th>\n",
       "      <th>Translated_Review</th>\n",
       "      <th>Sentiment</th>\n",
       "      <th>Sentiment_Polarity</th>\n",
       "      <th>Sentiment_Subjectivity</th>\n",
       "    </tr>\n",
       "  </thead>\n",
       "  <tbody>\n",
       "    <tr>\n",
       "      <th>0</th>\n",
       "      <td>10 Best Foods for You</td>\n",
       "      <td>I like eat delicious food. That's I'm cooking ...</td>\n",
       "      <td>Positive</td>\n",
       "      <td>1.000000</td>\n",
       "      <td>0.533333</td>\n",
       "    </tr>\n",
       "    <tr>\n",
       "      <th>1</th>\n",
       "      <td>10 Best Foods for You</td>\n",
       "      <td>This help eating healthy exercise regular basis</td>\n",
       "      <td>Positive</td>\n",
       "      <td>0.250000</td>\n",
       "      <td>0.288462</td>\n",
       "    </tr>\n",
       "    <tr>\n",
       "      <th>2</th>\n",
       "      <td>10 Best Foods for You</td>\n",
       "      <td>NaN</td>\n",
       "      <td>NaN</td>\n",
       "      <td>NaN</td>\n",
       "      <td>NaN</td>\n",
       "    </tr>\n",
       "    <tr>\n",
       "      <th>3</th>\n",
       "      <td>10 Best Foods for You</td>\n",
       "      <td>Works great especially going grocery store</td>\n",
       "      <td>Positive</td>\n",
       "      <td>0.400000</td>\n",
       "      <td>0.875000</td>\n",
       "    </tr>\n",
       "    <tr>\n",
       "      <th>4</th>\n",
       "      <td>10 Best Foods for You</td>\n",
       "      <td>Best idea us</td>\n",
       "      <td>Positive</td>\n",
       "      <td>1.000000</td>\n",
       "      <td>0.300000</td>\n",
       "    </tr>\n",
       "    <tr>\n",
       "      <th>5</th>\n",
       "      <td>10 Best Foods for You</td>\n",
       "      <td>Best way</td>\n",
       "      <td>Positive</td>\n",
       "      <td>1.000000</td>\n",
       "      <td>0.300000</td>\n",
       "    </tr>\n",
       "    <tr>\n",
       "      <th>6</th>\n",
       "      <td>10 Best Foods for You</td>\n",
       "      <td>Amazing</td>\n",
       "      <td>Positive</td>\n",
       "      <td>0.600000</td>\n",
       "      <td>0.900000</td>\n",
       "    </tr>\n",
       "    <tr>\n",
       "      <th>7</th>\n",
       "      <td>10 Best Foods for You</td>\n",
       "      <td>NaN</td>\n",
       "      <td>NaN</td>\n",
       "      <td>NaN</td>\n",
       "      <td>NaN</td>\n",
       "    </tr>\n",
       "    <tr>\n",
       "      <th>8</th>\n",
       "      <td>10 Best Foods for You</td>\n",
       "      <td>Looking forward app,</td>\n",
       "      <td>Neutral</td>\n",
       "      <td>0.000000</td>\n",
       "      <td>0.000000</td>\n",
       "    </tr>\n",
       "    <tr>\n",
       "      <th>9</th>\n",
       "      <td>10 Best Foods for You</td>\n",
       "      <td>It helpful site ! It help foods get !</td>\n",
       "      <td>Neutral</td>\n",
       "      <td>0.000000</td>\n",
       "      <td>0.000000</td>\n",
       "    </tr>\n",
       "    <tr>\n",
       "      <th>10</th>\n",
       "      <td>10 Best Foods for You</td>\n",
       "      <td>good you.</td>\n",
       "      <td>Positive</td>\n",
       "      <td>0.700000</td>\n",
       "      <td>0.600000</td>\n",
       "    </tr>\n",
       "    <tr>\n",
       "      <th>11</th>\n",
       "      <td>10 Best Foods for You</td>\n",
       "      <td>Useful information The amount spelling errors ...</td>\n",
       "      <td>Positive</td>\n",
       "      <td>0.200000</td>\n",
       "      <td>0.100000</td>\n",
       "    </tr>\n",
       "    <tr>\n",
       "      <th>12</th>\n",
       "      <td>10 Best Foods for You</td>\n",
       "      <td>Thank you! Great app!! Add arthritis, eyes, im...</td>\n",
       "      <td>Positive</td>\n",
       "      <td>0.750000</td>\n",
       "      <td>0.875000</td>\n",
       "    </tr>\n",
       "    <tr>\n",
       "      <th>13</th>\n",
       "      <td>10 Best Foods for You</td>\n",
       "      <td>Greatest ever Completely awesome maintain heal...</td>\n",
       "      <td>Positive</td>\n",
       "      <td>0.992188</td>\n",
       "      <td>0.866667</td>\n",
       "    </tr>\n",
       "    <tr>\n",
       "      <th>14</th>\n",
       "      <td>10 Best Foods for You</td>\n",
       "      <td>Good health...... Good health first priority.....</td>\n",
       "      <td>Positive</td>\n",
       "      <td>0.550000</td>\n",
       "      <td>0.511111</td>\n",
       "    </tr>\n",
       "    <tr>\n",
       "      <th>15</th>\n",
       "      <td>10 Best Foods for You</td>\n",
       "      <td>NaN</td>\n",
       "      <td>NaN</td>\n",
       "      <td>NaN</td>\n",
       "      <td>NaN</td>\n",
       "    </tr>\n",
       "    <tr>\n",
       "      <th>16</th>\n",
       "      <td>10 Best Foods for You</td>\n",
       "      <td>Health It's important world either life . thin...</td>\n",
       "      <td>Positive</td>\n",
       "      <td>0.450000</td>\n",
       "      <td>1.000000</td>\n",
       "    </tr>\n",
       "    <tr>\n",
       "      <th>17</th>\n",
       "      <td>10 Best Foods for You</td>\n",
       "      <td>Mrs sunita bhati I thankful developers,to make...</td>\n",
       "      <td>Positive</td>\n",
       "      <td>0.600000</td>\n",
       "      <td>0.666667</td>\n",
       "    </tr>\n",
       "    <tr>\n",
       "      <th>18</th>\n",
       "      <td>10 Best Foods for You</td>\n",
       "      <td>Very Useful in diabetes age 30. I need control...</td>\n",
       "      <td>Positive</td>\n",
       "      <td>0.295000</td>\n",
       "      <td>0.100000</td>\n",
       "    </tr>\n",
       "    <tr>\n",
       "      <th>19</th>\n",
       "      <td>10 Best Foods for You</td>\n",
       "      <td>One greatest apps.</td>\n",
       "      <td>Positive</td>\n",
       "      <td>1.000000</td>\n",
       "      <td>1.000000</td>\n",
       "    </tr>\n",
       "    <tr>\n",
       "      <th>20</th>\n",
       "      <td>10 Best Foods for You</td>\n",
       "      <td>good nice</td>\n",
       "      <td>Positive</td>\n",
       "      <td>0.650000</td>\n",
       "      <td>0.800000</td>\n",
       "    </tr>\n",
       "    <tr>\n",
       "      <th>21</th>\n",
       "      <td>10 Best Foods for You</td>\n",
       "      <td>Healthy Really helped</td>\n",
       "      <td>Positive</td>\n",
       "      <td>0.350000</td>\n",
       "      <td>0.350000</td>\n",
       "    </tr>\n",
       "    <tr>\n",
       "      <th>22</th>\n",
       "      <td>10 Best Foods for You</td>\n",
       "      <td>God health</td>\n",
       "      <td>Neutral</td>\n",
       "      <td>0.000000</td>\n",
       "      <td>0.000000</td>\n",
       "    </tr>\n",
       "    <tr>\n",
       "      <th>23</th>\n",
       "      <td>10 Best Foods for You</td>\n",
       "      <td>HEALTH SHOULD ALWAYS BE TOP PRIORITY. !!. ON M...</td>\n",
       "      <td>Positive</td>\n",
       "      <td>0.781250</td>\n",
       "      <td>0.500000</td>\n",
       "    </tr>\n",
       "    <tr>\n",
       "      <th>24</th>\n",
       "      <td>10 Best Foods for You</td>\n",
       "      <td>An excellent A useful</td>\n",
       "      <td>Positive</td>\n",
       "      <td>0.650000</td>\n",
       "      <td>0.500000</td>\n",
       "    </tr>\n",
       "    <tr>\n",
       "      <th>25</th>\n",
       "      <td>10 Best Foods for You</td>\n",
       "      <td>I found lot wealth form health...</td>\n",
       "      <td>Neutral</td>\n",
       "      <td>0.000000</td>\n",
       "      <td>0.000000</td>\n",
       "    </tr>\n",
       "    <tr>\n",
       "      <th>26</th>\n",
       "      <td>10 Best Foods for You</td>\n",
       "      <td>Because I found important.</td>\n",
       "      <td>Positive</td>\n",
       "      <td>0.400000</td>\n",
       "      <td>1.000000</td>\n",
       "    </tr>\n",
       "    <tr>\n",
       "      <th>27</th>\n",
       "      <td>10 Best Foods for You</td>\n",
       "      <td>Healthy Eating</td>\n",
       "      <td>Positive</td>\n",
       "      <td>0.500000</td>\n",
       "      <td>0.500000</td>\n",
       "    </tr>\n",
       "    <tr>\n",
       "      <th>28</th>\n",
       "      <td>10 Best Foods for You</td>\n",
       "      <td>Very good Simply good</td>\n",
       "      <td>Positive</td>\n",
       "      <td>0.805000</td>\n",
       "      <td>0.690000</td>\n",
       "    </tr>\n",
       "    <tr>\n",
       "      <th>29</th>\n",
       "      <td>10 Best Foods for You</td>\n",
       "      <td>On test....</td>\n",
       "      <td>Neutral</td>\n",
       "      <td>0.000000</td>\n",
       "      <td>0.000000</td>\n",
       "    </tr>\n",
       "    <tr>\n",
       "      <th>...</th>\n",
       "      <td>...</td>\n",
       "      <td>...</td>\n",
       "      <td>...</td>\n",
       "      <td>...</td>\n",
       "      <td>...</td>\n",
       "    </tr>\n",
       "    <tr>\n",
       "      <th>64265</th>\n",
       "      <td>Houzz Interior Design Ideas</td>\n",
       "      <td>NaN</td>\n",
       "      <td>NaN</td>\n",
       "      <td>NaN</td>\n",
       "      <td>NaN</td>\n",
       "    </tr>\n",
       "    <tr>\n",
       "      <th>64266</th>\n",
       "      <td>Houzz Interior Design Ideas</td>\n",
       "      <td>NaN</td>\n",
       "      <td>NaN</td>\n",
       "      <td>NaN</td>\n",
       "      <td>NaN</td>\n",
       "    </tr>\n",
       "    <tr>\n",
       "      <th>64267</th>\n",
       "      <td>Houzz Interior Design Ideas</td>\n",
       "      <td>NaN</td>\n",
       "      <td>NaN</td>\n",
       "      <td>NaN</td>\n",
       "      <td>NaN</td>\n",
       "    </tr>\n",
       "    <tr>\n",
       "      <th>64268</th>\n",
       "      <td>Houzz Interior Design Ideas</td>\n",
       "      <td>NaN</td>\n",
       "      <td>NaN</td>\n",
       "      <td>NaN</td>\n",
       "      <td>NaN</td>\n",
       "    </tr>\n",
       "    <tr>\n",
       "      <th>64269</th>\n",
       "      <td>Houzz Interior Design Ideas</td>\n",
       "      <td>NaN</td>\n",
       "      <td>NaN</td>\n",
       "      <td>NaN</td>\n",
       "      <td>NaN</td>\n",
       "    </tr>\n",
       "    <tr>\n",
       "      <th>64270</th>\n",
       "      <td>Houzz Interior Design Ideas</td>\n",
       "      <td>NaN</td>\n",
       "      <td>NaN</td>\n",
       "      <td>NaN</td>\n",
       "      <td>NaN</td>\n",
       "    </tr>\n",
       "    <tr>\n",
       "      <th>64271</th>\n",
       "      <td>Houzz Interior Design Ideas</td>\n",
       "      <td>NaN</td>\n",
       "      <td>NaN</td>\n",
       "      <td>NaN</td>\n",
       "      <td>NaN</td>\n",
       "    </tr>\n",
       "    <tr>\n",
       "      <th>64272</th>\n",
       "      <td>Houzz Interior Design Ideas</td>\n",
       "      <td>NaN</td>\n",
       "      <td>NaN</td>\n",
       "      <td>NaN</td>\n",
       "      <td>NaN</td>\n",
       "    </tr>\n",
       "    <tr>\n",
       "      <th>64273</th>\n",
       "      <td>Houzz Interior Design Ideas</td>\n",
       "      <td>NaN</td>\n",
       "      <td>NaN</td>\n",
       "      <td>NaN</td>\n",
       "      <td>NaN</td>\n",
       "    </tr>\n",
       "    <tr>\n",
       "      <th>64274</th>\n",
       "      <td>Houzz Interior Design Ideas</td>\n",
       "      <td>NaN</td>\n",
       "      <td>NaN</td>\n",
       "      <td>NaN</td>\n",
       "      <td>NaN</td>\n",
       "    </tr>\n",
       "    <tr>\n",
       "      <th>64275</th>\n",
       "      <td>Houzz Interior Design Ideas</td>\n",
       "      <td>NaN</td>\n",
       "      <td>NaN</td>\n",
       "      <td>NaN</td>\n",
       "      <td>NaN</td>\n",
       "    </tr>\n",
       "    <tr>\n",
       "      <th>64276</th>\n",
       "      <td>Houzz Interior Design Ideas</td>\n",
       "      <td>NaN</td>\n",
       "      <td>NaN</td>\n",
       "      <td>NaN</td>\n",
       "      <td>NaN</td>\n",
       "    </tr>\n",
       "    <tr>\n",
       "      <th>64277</th>\n",
       "      <td>Houzz Interior Design Ideas</td>\n",
       "      <td>NaN</td>\n",
       "      <td>NaN</td>\n",
       "      <td>NaN</td>\n",
       "      <td>NaN</td>\n",
       "    </tr>\n",
       "    <tr>\n",
       "      <th>64278</th>\n",
       "      <td>Houzz Interior Design Ideas</td>\n",
       "      <td>NaN</td>\n",
       "      <td>NaN</td>\n",
       "      <td>NaN</td>\n",
       "      <td>NaN</td>\n",
       "    </tr>\n",
       "    <tr>\n",
       "      <th>64279</th>\n",
       "      <td>Houzz Interior Design Ideas</td>\n",
       "      <td>NaN</td>\n",
       "      <td>NaN</td>\n",
       "      <td>NaN</td>\n",
       "      <td>NaN</td>\n",
       "    </tr>\n",
       "    <tr>\n",
       "      <th>64280</th>\n",
       "      <td>Houzz Interior Design Ideas</td>\n",
       "      <td>NaN</td>\n",
       "      <td>NaN</td>\n",
       "      <td>NaN</td>\n",
       "      <td>NaN</td>\n",
       "    </tr>\n",
       "    <tr>\n",
       "      <th>64281</th>\n",
       "      <td>Houzz Interior Design Ideas</td>\n",
       "      <td>NaN</td>\n",
       "      <td>NaN</td>\n",
       "      <td>NaN</td>\n",
       "      <td>NaN</td>\n",
       "    </tr>\n",
       "    <tr>\n",
       "      <th>64282</th>\n",
       "      <td>Houzz Interior Design Ideas</td>\n",
       "      <td>NaN</td>\n",
       "      <td>NaN</td>\n",
       "      <td>NaN</td>\n",
       "      <td>NaN</td>\n",
       "    </tr>\n",
       "    <tr>\n",
       "      <th>64283</th>\n",
       "      <td>Houzz Interior Design Ideas</td>\n",
       "      <td>NaN</td>\n",
       "      <td>NaN</td>\n",
       "      <td>NaN</td>\n",
       "      <td>NaN</td>\n",
       "    </tr>\n",
       "    <tr>\n",
       "      <th>64284</th>\n",
       "      <td>Houzz Interior Design Ideas</td>\n",
       "      <td>NaN</td>\n",
       "      <td>NaN</td>\n",
       "      <td>NaN</td>\n",
       "      <td>NaN</td>\n",
       "    </tr>\n",
       "    <tr>\n",
       "      <th>64285</th>\n",
       "      <td>Houzz Interior Design Ideas</td>\n",
       "      <td>NaN</td>\n",
       "      <td>NaN</td>\n",
       "      <td>NaN</td>\n",
       "      <td>NaN</td>\n",
       "    </tr>\n",
       "    <tr>\n",
       "      <th>64286</th>\n",
       "      <td>Houzz Interior Design Ideas</td>\n",
       "      <td>NaN</td>\n",
       "      <td>NaN</td>\n",
       "      <td>NaN</td>\n",
       "      <td>NaN</td>\n",
       "    </tr>\n",
       "    <tr>\n",
       "      <th>64287</th>\n",
       "      <td>Houzz Interior Design Ideas</td>\n",
       "      <td>NaN</td>\n",
       "      <td>NaN</td>\n",
       "      <td>NaN</td>\n",
       "      <td>NaN</td>\n",
       "    </tr>\n",
       "    <tr>\n",
       "      <th>64288</th>\n",
       "      <td>Houzz Interior Design Ideas</td>\n",
       "      <td>NaN</td>\n",
       "      <td>NaN</td>\n",
       "      <td>NaN</td>\n",
       "      <td>NaN</td>\n",
       "    </tr>\n",
       "    <tr>\n",
       "      <th>64289</th>\n",
       "      <td>Houzz Interior Design Ideas</td>\n",
       "      <td>NaN</td>\n",
       "      <td>NaN</td>\n",
       "      <td>NaN</td>\n",
       "      <td>NaN</td>\n",
       "    </tr>\n",
       "    <tr>\n",
       "      <th>64290</th>\n",
       "      <td>Houzz Interior Design Ideas</td>\n",
       "      <td>NaN</td>\n",
       "      <td>NaN</td>\n",
       "      <td>NaN</td>\n",
       "      <td>NaN</td>\n",
       "    </tr>\n",
       "    <tr>\n",
       "      <th>64291</th>\n",
       "      <td>Houzz Interior Design Ideas</td>\n",
       "      <td>NaN</td>\n",
       "      <td>NaN</td>\n",
       "      <td>NaN</td>\n",
       "      <td>NaN</td>\n",
       "    </tr>\n",
       "    <tr>\n",
       "      <th>64292</th>\n",
       "      <td>Houzz Interior Design Ideas</td>\n",
       "      <td>NaN</td>\n",
       "      <td>NaN</td>\n",
       "      <td>NaN</td>\n",
       "      <td>NaN</td>\n",
       "    </tr>\n",
       "    <tr>\n",
       "      <th>64293</th>\n",
       "      <td>Houzz Interior Design Ideas</td>\n",
       "      <td>NaN</td>\n",
       "      <td>NaN</td>\n",
       "      <td>NaN</td>\n",
       "      <td>NaN</td>\n",
       "    </tr>\n",
       "    <tr>\n",
       "      <th>64294</th>\n",
       "      <td>Houzz Interior Design Ideas</td>\n",
       "      <td>NaN</td>\n",
       "      <td>NaN</td>\n",
       "      <td>NaN</td>\n",
       "      <td>NaN</td>\n",
       "    </tr>\n",
       "  </tbody>\n",
       "</table>\n",
       "<p>64295 rows × 5 columns</p>\n",
       "</div>"
      ],
      "text/plain": [
       "                               App  \\\n",
       "0            10 Best Foods for You   \n",
       "1            10 Best Foods for You   \n",
       "2            10 Best Foods for You   \n",
       "3            10 Best Foods for You   \n",
       "4            10 Best Foods for You   \n",
       "5            10 Best Foods for You   \n",
       "6            10 Best Foods for You   \n",
       "7            10 Best Foods for You   \n",
       "8            10 Best Foods for You   \n",
       "9            10 Best Foods for You   \n",
       "10           10 Best Foods for You   \n",
       "11           10 Best Foods for You   \n",
       "12           10 Best Foods for You   \n",
       "13           10 Best Foods for You   \n",
       "14           10 Best Foods for You   \n",
       "15           10 Best Foods for You   \n",
       "16           10 Best Foods for You   \n",
       "17           10 Best Foods for You   \n",
       "18           10 Best Foods for You   \n",
       "19           10 Best Foods for You   \n",
       "20           10 Best Foods for You   \n",
       "21           10 Best Foods for You   \n",
       "22           10 Best Foods for You   \n",
       "23           10 Best Foods for You   \n",
       "24           10 Best Foods for You   \n",
       "25           10 Best Foods for You   \n",
       "26           10 Best Foods for You   \n",
       "27           10 Best Foods for You   \n",
       "28           10 Best Foods for You   \n",
       "29           10 Best Foods for You   \n",
       "...                            ...   \n",
       "64265  Houzz Interior Design Ideas   \n",
       "64266  Houzz Interior Design Ideas   \n",
       "64267  Houzz Interior Design Ideas   \n",
       "64268  Houzz Interior Design Ideas   \n",
       "64269  Houzz Interior Design Ideas   \n",
       "64270  Houzz Interior Design Ideas   \n",
       "64271  Houzz Interior Design Ideas   \n",
       "64272  Houzz Interior Design Ideas   \n",
       "64273  Houzz Interior Design Ideas   \n",
       "64274  Houzz Interior Design Ideas   \n",
       "64275  Houzz Interior Design Ideas   \n",
       "64276  Houzz Interior Design Ideas   \n",
       "64277  Houzz Interior Design Ideas   \n",
       "64278  Houzz Interior Design Ideas   \n",
       "64279  Houzz Interior Design Ideas   \n",
       "64280  Houzz Interior Design Ideas   \n",
       "64281  Houzz Interior Design Ideas   \n",
       "64282  Houzz Interior Design Ideas   \n",
       "64283  Houzz Interior Design Ideas   \n",
       "64284  Houzz Interior Design Ideas   \n",
       "64285  Houzz Interior Design Ideas   \n",
       "64286  Houzz Interior Design Ideas   \n",
       "64287  Houzz Interior Design Ideas   \n",
       "64288  Houzz Interior Design Ideas   \n",
       "64289  Houzz Interior Design Ideas   \n",
       "64290  Houzz Interior Design Ideas   \n",
       "64291  Houzz Interior Design Ideas   \n",
       "64292  Houzz Interior Design Ideas   \n",
       "64293  Houzz Interior Design Ideas   \n",
       "64294  Houzz Interior Design Ideas   \n",
       "\n",
       "                                       Translated_Review Sentiment  \\\n",
       "0      I like eat delicious food. That's I'm cooking ...  Positive   \n",
       "1        This help eating healthy exercise regular basis  Positive   \n",
       "2                                                    NaN       NaN   \n",
       "3             Works great especially going grocery store  Positive   \n",
       "4                                           Best idea us  Positive   \n",
       "5                                               Best way  Positive   \n",
       "6                                                Amazing  Positive   \n",
       "7                                                    NaN       NaN   \n",
       "8                                   Looking forward app,   Neutral   \n",
       "9                  It helpful site ! It help foods get !   Neutral   \n",
       "10                                             good you.  Positive   \n",
       "11     Useful information The amount spelling errors ...  Positive   \n",
       "12     Thank you! Great app!! Add arthritis, eyes, im...  Positive   \n",
       "13     Greatest ever Completely awesome maintain heal...  Positive   \n",
       "14     Good health...... Good health first priority.....  Positive   \n",
       "15                                                   NaN       NaN   \n",
       "16     Health It's important world either life . thin...  Positive   \n",
       "17     Mrs sunita bhati I thankful developers,to make...  Positive   \n",
       "18     Very Useful in diabetes age 30. I need control...  Positive   \n",
       "19                                    One greatest apps.  Positive   \n",
       "20                                             good nice  Positive   \n",
       "21                                 Healthy Really helped  Positive   \n",
       "22                                            God health   Neutral   \n",
       "23     HEALTH SHOULD ALWAYS BE TOP PRIORITY. !!. ON M...  Positive   \n",
       "24                                 An excellent A useful  Positive   \n",
       "25                     I found lot wealth form health...   Neutral   \n",
       "26                            Because I found important.  Positive   \n",
       "27                                        Healthy Eating  Positive   \n",
       "28                                 Very good Simply good  Positive   \n",
       "29                                           On test....   Neutral   \n",
       "...                                                  ...       ...   \n",
       "64265                                                NaN       NaN   \n",
       "64266                                                NaN       NaN   \n",
       "64267                                                NaN       NaN   \n",
       "64268                                                NaN       NaN   \n",
       "64269                                                NaN       NaN   \n",
       "64270                                                NaN       NaN   \n",
       "64271                                                NaN       NaN   \n",
       "64272                                                NaN       NaN   \n",
       "64273                                                NaN       NaN   \n",
       "64274                                                NaN       NaN   \n",
       "64275                                                NaN       NaN   \n",
       "64276                                                NaN       NaN   \n",
       "64277                                                NaN       NaN   \n",
       "64278                                                NaN       NaN   \n",
       "64279                                                NaN       NaN   \n",
       "64280                                                NaN       NaN   \n",
       "64281                                                NaN       NaN   \n",
       "64282                                                NaN       NaN   \n",
       "64283                                                NaN       NaN   \n",
       "64284                                                NaN       NaN   \n",
       "64285                                                NaN       NaN   \n",
       "64286                                                NaN       NaN   \n",
       "64287                                                NaN       NaN   \n",
       "64288                                                NaN       NaN   \n",
       "64289                                                NaN       NaN   \n",
       "64290                                                NaN       NaN   \n",
       "64291                                                NaN       NaN   \n",
       "64292                                                NaN       NaN   \n",
       "64293                                                NaN       NaN   \n",
       "64294                                                NaN       NaN   \n",
       "\n",
       "       Sentiment_Polarity  Sentiment_Subjectivity  \n",
       "0                1.000000                0.533333  \n",
       "1                0.250000                0.288462  \n",
       "2                     NaN                     NaN  \n",
       "3                0.400000                0.875000  \n",
       "4                1.000000                0.300000  \n",
       "5                1.000000                0.300000  \n",
       "6                0.600000                0.900000  \n",
       "7                     NaN                     NaN  \n",
       "8                0.000000                0.000000  \n",
       "9                0.000000                0.000000  \n",
       "10               0.700000                0.600000  \n",
       "11               0.200000                0.100000  \n",
       "12               0.750000                0.875000  \n",
       "13               0.992188                0.866667  \n",
       "14               0.550000                0.511111  \n",
       "15                    NaN                     NaN  \n",
       "16               0.450000                1.000000  \n",
       "17               0.600000                0.666667  \n",
       "18               0.295000                0.100000  \n",
       "19               1.000000                1.000000  \n",
       "20               0.650000                0.800000  \n",
       "21               0.350000                0.350000  \n",
       "22               0.000000                0.000000  \n",
       "23               0.781250                0.500000  \n",
       "24               0.650000                0.500000  \n",
       "25               0.000000                0.000000  \n",
       "26               0.400000                1.000000  \n",
       "27               0.500000                0.500000  \n",
       "28               0.805000                0.690000  \n",
       "29               0.000000                0.000000  \n",
       "...                   ...                     ...  \n",
       "64265                 NaN                     NaN  \n",
       "64266                 NaN                     NaN  \n",
       "64267                 NaN                     NaN  \n",
       "64268                 NaN                     NaN  \n",
       "64269                 NaN                     NaN  \n",
       "64270                 NaN                     NaN  \n",
       "64271                 NaN                     NaN  \n",
       "64272                 NaN                     NaN  \n",
       "64273                 NaN                     NaN  \n",
       "64274                 NaN                     NaN  \n",
       "64275                 NaN                     NaN  \n",
       "64276                 NaN                     NaN  \n",
       "64277                 NaN                     NaN  \n",
       "64278                 NaN                     NaN  \n",
       "64279                 NaN                     NaN  \n",
       "64280                 NaN                     NaN  \n",
       "64281                 NaN                     NaN  \n",
       "64282                 NaN                     NaN  \n",
       "64283                 NaN                     NaN  \n",
       "64284                 NaN                     NaN  \n",
       "64285                 NaN                     NaN  \n",
       "64286                 NaN                     NaN  \n",
       "64287                 NaN                     NaN  \n",
       "64288                 NaN                     NaN  \n",
       "64289                 NaN                     NaN  \n",
       "64290                 NaN                     NaN  \n",
       "64291                 NaN                     NaN  \n",
       "64292                 NaN                     NaN  \n",
       "64293                 NaN                     NaN  \n",
       "64294                 NaN                     NaN  \n",
       "\n",
       "[64295 rows x 5 columns]"
      ]
     },
     "execution_count": 3,
     "metadata": {},
     "output_type": "execute_result"
    }
   ],
   "source": [
    "text_dataframe = pd.read_csv('../../datasets/googleplaystore_user_reviews.csv')\n",
    "text_dataframe"
   ]
  },
  {
   "cell_type": "markdown",
   "metadata": {},
   "source": [
    "## Pandas describe() function"
   ]
  },
  {
   "cell_type": "code",
   "execution_count": 4,
   "metadata": {},
   "outputs": [
    {
     "data": {
      "text/html": [
       "<div>\n",
       "<style scoped>\n",
       "    .dataframe tbody tr th:only-of-type {\n",
       "        vertical-align: middle;\n",
       "    }\n",
       "\n",
       "    .dataframe tbody tr th {\n",
       "        vertical-align: top;\n",
       "    }\n",
       "\n",
       "    .dataframe thead th {\n",
       "        text-align: right;\n",
       "    }\n",
       "</style>\n",
       "<table border=\"1\" class=\"dataframe\">\n",
       "  <thead>\n",
       "    <tr style=\"text-align: right;\">\n",
       "      <th></th>\n",
       "      <th>Sentiment_Polarity</th>\n",
       "      <th>Sentiment_Subjectivity</th>\n",
       "    </tr>\n",
       "  </thead>\n",
       "  <tbody>\n",
       "    <tr>\n",
       "      <th>count</th>\n",
       "      <td>37432.000000</td>\n",
       "      <td>37432.000000</td>\n",
       "    </tr>\n",
       "    <tr>\n",
       "      <th>mean</th>\n",
       "      <td>0.182146</td>\n",
       "      <td>0.492704</td>\n",
       "    </tr>\n",
       "    <tr>\n",
       "      <th>std</th>\n",
       "      <td>0.351301</td>\n",
       "      <td>0.259949</td>\n",
       "    </tr>\n",
       "    <tr>\n",
       "      <th>min</th>\n",
       "      <td>-1.000000</td>\n",
       "      <td>0.000000</td>\n",
       "    </tr>\n",
       "    <tr>\n",
       "      <th>25%</th>\n",
       "      <td>0.000000</td>\n",
       "      <td>0.357143</td>\n",
       "    </tr>\n",
       "    <tr>\n",
       "      <th>50%</th>\n",
       "      <td>0.150000</td>\n",
       "      <td>0.514286</td>\n",
       "    </tr>\n",
       "    <tr>\n",
       "      <th>75%</th>\n",
       "      <td>0.400000</td>\n",
       "      <td>0.650000</td>\n",
       "    </tr>\n",
       "    <tr>\n",
       "      <th>max</th>\n",
       "      <td>1.000000</td>\n",
       "      <td>1.000000</td>\n",
       "    </tr>\n",
       "  </tbody>\n",
       "</table>\n",
       "</div>"
      ],
      "text/plain": [
       "       Sentiment_Polarity  Sentiment_Subjectivity\n",
       "count        37432.000000            37432.000000\n",
       "mean             0.182146                0.492704\n",
       "std              0.351301                0.259949\n",
       "min             -1.000000                0.000000\n",
       "25%              0.000000                0.357143\n",
       "50%              0.150000                0.514286\n",
       "75%              0.400000                0.650000\n",
       "max              1.000000                1.000000"
      ]
     },
     "execution_count": 4,
     "metadata": {},
     "output_type": "execute_result"
    }
   ],
   "source": [
    "text_dataframe.describe()"
   ]
  },
  {
   "cell_type": "markdown",
   "metadata": {},
   "source": [
    "## NLP profiler's equivalent to that"
   ]
  },
  {
   "cell_type": "code",
   "execution_count": null,
   "metadata": {},
   "outputs": [],
   "source": [
    "%%time\n",
    "profiled_text_dataframe = apply_text_profiling(text_dataframe, 'Translated_Review', params={'parallelism_method': 'default'})"
   ]
  },
  {
   "cell_type": "code",
   "execution_count": 6,
   "metadata": {},
   "outputs": [
    {
     "ename": "NameError",
     "evalue": "name 'profiled_text_dataframe' is not defined",
     "output_type": "error",
     "traceback": [
      "\u001b[0;31m---------------------------------------------------------------------------\u001b[0m",
      "\u001b[0;31mNameError\u001b[0m                                 Traceback (most recent call last)",
      "\u001b[0;32m<ipython-input-6-26d9d389c392>\u001b[0m in \u001b[0;36m<module>\u001b[0;34m\u001b[0m\n\u001b[0;32m----> 1\u001b[0;31m \u001b[0mprofiled_text_dataframe\u001b[0m\u001b[0;34m.\u001b[0m\u001b[0mhead\u001b[0m\u001b[0;34m(\u001b[0m\u001b[0;34m)\u001b[0m\u001b[0;34m\u001b[0m\u001b[0m\n\u001b[0m",
      "\u001b[0;31mNameError\u001b[0m: name 'profiled_text_dataframe' is not defined"
     ]
    }
   ],
   "source": [
    "profiled_text_dataframe.head()"
   ]
  },
  {
   "cell_type": "code",
   "execution_count": 7,
   "metadata": {},
   "outputs": [
    {
     "name": "stdout",
     "output_type": "stream",
     "text": [
      "final params: {'high_level': True, 'granular': True, 'grammar_check': False, 'parallelisation_method': 'default', 'parallelism_method': 'using_swifter'}\n"
     ]
    },
    {
     "data": {
      "application/vnd.jupyter.widget-view+json": {
       "model_id": "c4b49826a6b54250ac9f9efc0b3bf114",
       "version_major": 2,
       "version_minor": 0
      },
      "text/plain": [
       "HBox(children=(FloatProgress(value=0.0, layout=Layout(flex='2'), max=2.0), HTML(value='')), layout=Layout(disp…"
      ]
     },
     "metadata": {},
     "output_type": "display_data"
    },
    {
     "data": {
      "application/vnd.jupyter.widget-view+json": {
       "model_id": "b7a64b73d5dd40b8a8b48733b2eccb62",
       "version_major": 2,
       "version_minor": 0
      },
      "text/plain": [
       "HBox(children=(FloatProgress(value=0.0, layout=Layout(flex='2'), max=13.0), HTML(value='')), layout=Layout(dis…"
      ]
     },
     "metadata": {},
     "output_type": "display_data"
    },
    {
     "data": {
      "application/vnd.jupyter.widget-view+json": {
       "model_id": "08a0091d2f2d44c5932ae8d42abddc48",
       "version_major": 2,
       "version_minor": 0
      },
      "text/plain": [
       "HBox(children=(FloatProgress(value=0.0, layout=Layout(flex='2'), max=64295.0), HTML(value='')), layout=Layout(…"
      ]
     },
     "metadata": {},
     "output_type": "display_data"
    },
    {
     "name": "stdout",
     "output_type": "stream",
     "text": [
      "\n",
      "\n"
     ]
    },
    {
     "data": {
      "application/vnd.jupyter.widget-view+json": {
       "model_id": "fce6808b9a7b4d1a81992d6106127f9e",
       "version_major": 2,
       "version_minor": 0
      },
      "text/plain": [
       "HBox(children=(FloatProgress(value=0.0, layout=Layout(flex='2'), max=64295.0), HTML(value='')), layout=Layout(…"
      ]
     },
     "metadata": {},
     "output_type": "display_data"
    },
    {
     "name": "stdout",
     "output_type": "stream",
     "text": [
      "\n"
     ]
    },
    {
     "data": {
      "application/vnd.jupyter.widget-view+json": {
       "model_id": "6b8fbce206aa4614a0e54475707a96bc",
       "version_major": 2,
       "version_minor": 0
      },
      "text/plain": [
       "HBox(children=(FloatProgress(value=0.0, layout=Layout(flex='2'), max=64295.0), HTML(value='')), layout=Layout(…"
      ]
     },
     "metadata": {},
     "output_type": "display_data"
    },
    {
     "name": "stdout",
     "output_type": "stream",
     "text": [
      "\n"
     ]
    },
    {
     "data": {
      "application/vnd.jupyter.widget-view+json": {
       "model_id": "0bab641117964d448af77e3a6c85c4d5",
       "version_major": 2,
       "version_minor": 0
      },
      "text/plain": [
       "HBox(children=(FloatProgress(value=0.0, layout=Layout(flex='2'), max=64295.0), HTML(value='')), layout=Layout(…"
      ]
     },
     "metadata": {},
     "output_type": "display_data"
    },
    {
     "name": "stdout",
     "output_type": "stream",
     "text": [
      "\n"
     ]
    },
    {
     "data": {
      "application/vnd.jupyter.widget-view+json": {
       "model_id": "d16ff794b6da4c56a4e7a965f9931230",
       "version_major": 2,
       "version_minor": 0
      },
      "text/plain": [
       "HBox(children=(FloatProgress(value=0.0, layout=Layout(flex='2'), max=64295.0), HTML(value='')), layout=Layout(…"
      ]
     },
     "metadata": {},
     "output_type": "display_data"
    },
    {
     "name": "stdout",
     "output_type": "stream",
     "text": [
      "\n"
     ]
    },
    {
     "data": {
      "application/vnd.jupyter.widget-view+json": {
       "model_id": "2810fa51c59e4922959d0baeab0b50c1",
       "version_major": 2,
       "version_minor": 0
      },
      "text/plain": [
       "HBox(children=(FloatProgress(value=0.0, layout=Layout(flex='2'), max=64295.0), HTML(value='')), layout=Layout(…"
      ]
     },
     "metadata": {},
     "output_type": "display_data"
    },
    {
     "name": "stdout",
     "output_type": "stream",
     "text": [
      "\n"
     ]
    },
    {
     "data": {
      "application/vnd.jupyter.widget-view+json": {
       "model_id": "143e80b9f232494e9e5518f3de5e3987",
       "version_major": 2,
       "version_minor": 0
      },
      "text/plain": [
       "HBox(children=(FloatProgress(value=0.0, layout=Layout(flex='2'), max=64295.0), HTML(value='')), layout=Layout(…"
      ]
     },
     "metadata": {},
     "output_type": "display_data"
    },
    {
     "name": "stdout",
     "output_type": "stream",
     "text": [
      "\n"
     ]
    },
    {
     "data": {
      "application/vnd.jupyter.widget-view+json": {
       "model_id": "ae25fd01ae994de38dcecb92ce24611b",
       "version_major": 2,
       "version_minor": 0
      },
      "text/plain": [
       "HBox(children=(FloatProgress(value=0.0, layout=Layout(flex='2'), max=64295.0), HTML(value='')), layout=Layout(…"
      ]
     },
     "metadata": {},
     "output_type": "display_data"
    },
    {
     "name": "stdout",
     "output_type": "stream",
     "text": [
      "\n"
     ]
    },
    {
     "data": {
      "application/vnd.jupyter.widget-view+json": {
       "model_id": "4ee514fe658e481d83b74c7b66d81551",
       "version_major": 2,
       "version_minor": 0
      },
      "text/plain": [
       "HBox(children=(FloatProgress(value=0.0, layout=Layout(flex='2'), max=64295.0), HTML(value='')), layout=Layout(…"
      ]
     },
     "metadata": {},
     "output_type": "display_data"
    },
    {
     "name": "stdout",
     "output_type": "stream",
     "text": [
      "\n"
     ]
    },
    {
     "data": {
      "application/vnd.jupyter.widget-view+json": {
       "model_id": "e6acf00ff7f842d6a32028f1a6b7af9b",
       "version_major": 2,
       "version_minor": 0
      },
      "text/plain": [
       "HBox(children=(FloatProgress(value=0.0, layout=Layout(flex='2'), max=64295.0), HTML(value='')), layout=Layout(…"
      ]
     },
     "metadata": {},
     "output_type": "display_data"
    },
    {
     "name": "stdout",
     "output_type": "stream",
     "text": [
      "\n"
     ]
    },
    {
     "data": {
      "application/vnd.jupyter.widget-view+json": {
       "model_id": "ad525c78334a4d2c84021861fb69d001",
       "version_major": 2,
       "version_minor": 0
      },
      "text/plain": [
       "HBox(children=(FloatProgress(value=0.0, layout=Layout(flex='2'), max=64295.0), HTML(value='')), layout=Layout(…"
      ]
     },
     "metadata": {},
     "output_type": "display_data"
    },
    {
     "name": "stdout",
     "output_type": "stream",
     "text": [
      "\n"
     ]
    },
    {
     "data": {
      "application/vnd.jupyter.widget-view+json": {
       "model_id": "750fe5a9ef814002a23978343be87b19",
       "version_major": 2,
       "version_minor": 0
      },
      "text/plain": [
       "HBox(children=(FloatProgress(value=0.0, layout=Layout(flex='2'), max=64295.0), HTML(value='')), layout=Layout(…"
      ]
     },
     "metadata": {},
     "output_type": "display_data"
    },
    {
     "name": "stdout",
     "output_type": "stream",
     "text": [
      "\n"
     ]
    },
    {
     "data": {
      "application/vnd.jupyter.widget-view+json": {
       "model_id": "256ccfc46e90438a91070703aed296ea",
       "version_major": 2,
       "version_minor": 0
      },
      "text/plain": [
       "HBox(children=(FloatProgress(value=0.0, layout=Layout(flex='2'), max=64295.0), HTML(value='')), layout=Layout(…"
      ]
     },
     "metadata": {},
     "output_type": "display_data"
    },
    {
     "name": "stdout",
     "output_type": "stream",
     "text": [
      "\n",
      "\n"
     ]
    },
    {
     "data": {
      "application/vnd.jupyter.widget-view+json": {
       "model_id": "14474b35f0a84cbaa1724bad928fba1e",
       "version_major": 2,
       "version_minor": 0
      },
      "text/plain": [
       "HBox(children=(FloatProgress(value=0.0, layout=Layout(flex='2'), max=9.0), HTML(value='')), layout=Layout(disp…"
      ]
     },
     "metadata": {},
     "output_type": "display_data"
    },
    {
     "data": {
      "application/vnd.jupyter.widget-view+json": {
       "model_id": "8f8629a3c2e04a4c943e0b73f04575d4",
       "version_major": 2,
       "version_minor": 0
      },
      "text/plain": [
       "HBox(children=(FloatProgress(value=0.0, layout=Layout(flex='2'), max=64295.0), HTML(value='')), layout=Layout(…"
      ]
     },
     "metadata": {},
     "output_type": "display_data"
    },
    {
     "name": "stdout",
     "output_type": "stream",
     "text": [
      "\n"
     ]
    },
    {
     "data": {
      "application/vnd.jupyter.widget-view+json": {
       "model_id": "e5bf383850b842eb9bcf11d5c6f0f5a9",
       "version_major": 2,
       "version_minor": 0
      },
      "text/plain": [
       "HBox(children=(FloatProgress(value=0.0, layout=Layout(flex='2'), max=64295.0), HTML(value='')), layout=Layout(…"
      ]
     },
     "metadata": {},
     "output_type": "display_data"
    },
    {
     "name": "stdout",
     "output_type": "stream",
     "text": [
      "\n"
     ]
    },
    {
     "data": {
      "application/vnd.jupyter.widget-view+json": {
       "model_id": "6c0ed2c2dfab452e91c507521600b0bb",
       "version_major": 2,
       "version_minor": 0
      },
      "text/plain": [
       "HBox(children=(FloatProgress(value=0.0, layout=Layout(flex='2'), max=64295.0), HTML(value='')), layout=Layout(…"
      ]
     },
     "metadata": {},
     "output_type": "display_data"
    },
    {
     "name": "stdout",
     "output_type": "stream",
     "text": [
      "\n"
     ]
    },
    {
     "data": {
      "application/vnd.jupyter.widget-view+json": {
       "model_id": "5605b851bac04a43a5f0a06ec7e45aad",
       "version_major": 2,
       "version_minor": 0
      },
      "text/plain": [
       "HBox(children=(FloatProgress(value=0.0, layout=Layout(flex='2'), max=64295.0), HTML(value='')), layout=Layout(…"
      ]
     },
     "metadata": {},
     "output_type": "display_data"
    },
    {
     "name": "stdout",
     "output_type": "stream",
     "text": [
      "\n"
     ]
    },
    {
     "data": {
      "application/vnd.jupyter.widget-view+json": {
       "model_id": "b3ecccdf8508429faedbe5024962a8b1",
       "version_major": 2,
       "version_minor": 0
      },
      "text/plain": [
       "HBox(children=(FloatProgress(value=0.0, layout=Layout(flex='2'), max=64295.0), HTML(value='')), layout=Layout(…"
      ]
     },
     "metadata": {},
     "output_type": "display_data"
    },
    {
     "name": "stdout",
     "output_type": "stream",
     "text": [
      "\n"
     ]
    },
    {
     "data": {
      "application/vnd.jupyter.widget-view+json": {
       "model_id": "fd72e7ea07ea40329a326152f552589b",
       "version_major": 2,
       "version_minor": 0
      },
      "text/plain": [
       "HBox(children=(FloatProgress(value=0.0, layout=Layout(flex='2'), max=64295.0), HTML(value='')), layout=Layout(…"
      ]
     },
     "metadata": {},
     "output_type": "display_data"
    },
    {
     "name": "stdout",
     "output_type": "stream",
     "text": [
      "\n"
     ]
    },
    {
     "data": {
      "application/vnd.jupyter.widget-view+json": {
       "model_id": "0b49251fdc3d4901ae071846b8cfaf88",
       "version_major": 2,
       "version_minor": 0
      },
      "text/plain": [
       "HBox(children=(FloatProgress(value=0.0, layout=Layout(flex='2'), max=64295.0), HTML(value='')), layout=Layout(…"
      ]
     },
     "metadata": {},
     "output_type": "display_data"
    },
    {
     "name": "stdout",
     "output_type": "stream",
     "text": [
      "\n"
     ]
    },
    {
     "data": {
      "application/vnd.jupyter.widget-view+json": {
       "model_id": "b4a487b9a3984dd0944e13113ef4aee6",
       "version_major": 2,
       "version_minor": 0
      },
      "text/plain": [
       "HBox(children=(FloatProgress(value=0.0, layout=Layout(flex='2'), max=64295.0), HTML(value='')), layout=Layout(…"
      ]
     },
     "metadata": {},
     "output_type": "display_data"
    },
    {
     "name": "stdout",
     "output_type": "stream",
     "text": [
      "\n"
     ]
    },
    {
     "data": {
      "application/vnd.jupyter.widget-view+json": {
       "model_id": "4de484028bdb40afa0e5f150d30b703f",
       "version_major": 2,
       "version_minor": 0
      },
      "text/plain": [
       "HBox(children=(FloatProgress(value=0.0, layout=Layout(flex='2'), max=64295.0), HTML(value='')), layout=Layout(…"
      ]
     },
     "metadata": {},
     "output_type": "display_data"
    },
    {
     "name": "stdout",
     "output_type": "stream",
     "text": [
      "\n",
      "\n",
      "\n",
      "CPU times: user 1min 27s, sys: 2.62 s, total: 1min 30s\n",
      "Wall time: 11min 22s\n"
     ]
    },
    {
     "data": {
      "text/html": [
       "<div>\n",
       "<style scoped>\n",
       "    .dataframe tbody tr th:only-of-type {\n",
       "        vertical-align: middle;\n",
       "    }\n",
       "\n",
       "    .dataframe tbody tr th {\n",
       "        vertical-align: top;\n",
       "    }\n",
       "\n",
       "    .dataframe thead th {\n",
       "        text-align: right;\n",
       "    }\n",
       "</style>\n",
       "<table border=\"1\" class=\"dataframe\">\n",
       "  <thead>\n",
       "    <tr style=\"text-align: right;\">\n",
       "      <th></th>\n",
       "      <th>Translated_Review</th>\n",
       "      <th>sentences_count</th>\n",
       "      <th>characters_count</th>\n",
       "      <th>spaces_count</th>\n",
       "      <th>words_count</th>\n",
       "      <th>duplicates_count</th>\n",
       "      <th>chars_excl_spaces_count</th>\n",
       "      <th>emoji_count</th>\n",
       "      <th>whole_numbers_count</th>\n",
       "      <th>alpha_numeric_count</th>\n",
       "      <th>...</th>\n",
       "      <th>dates_count</th>\n",
       "      <th>sentiment_polarity_score</th>\n",
       "      <th>sentiment_polarity</th>\n",
       "      <th>sentiment_polarity_summarised</th>\n",
       "      <th>sentiment_subjectivity_score</th>\n",
       "      <th>sentiment_subjectivity</th>\n",
       "      <th>sentiment_subjectivity_summarised</th>\n",
       "      <th>spelling_quality_score</th>\n",
       "      <th>spelling_quality</th>\n",
       "      <th>spelling_quality_summarised</th>\n",
       "    </tr>\n",
       "  </thead>\n",
       "  <tbody>\n",
       "    <tr>\n",
       "      <th>0</th>\n",
       "      <td>I like eat delicious food. That's I'm cooking ...</td>\n",
       "      <td>2</td>\n",
       "      <td>122</td>\n",
       "      <td>20</td>\n",
       "      <td>22</td>\n",
       "      <td>6</td>\n",
       "      <td>102</td>\n",
       "      <td>0</td>\n",
       "      <td>1</td>\n",
       "      <td>91</td>\n",
       "      <td>...</td>\n",
       "      <td>0</td>\n",
       "      <td>1</td>\n",
       "      <td>Very positive</td>\n",
       "      <td>Positive</td>\n",
       "      <td>0.533333</td>\n",
       "      <td>Objective/subjective</td>\n",
       "      <td>Objective/subjective</td>\n",
       "      <td>0.75</td>\n",
       "      <td>Pretty good</td>\n",
       "      <td>Good</td>\n",
       "    </tr>\n",
       "    <tr>\n",
       "      <th>1</th>\n",
       "      <td>This help eating healthy exercise regular basis</td>\n",
       "      <td>1</td>\n",
       "      <td>47</td>\n",
       "      <td>6</td>\n",
       "      <td>7</td>\n",
       "      <td>0</td>\n",
       "      <td>41</td>\n",
       "      <td>0</td>\n",
       "      <td>0</td>\n",
       "      <td>41</td>\n",
       "      <td>...</td>\n",
       "      <td>0</td>\n",
       "      <td>0.25</td>\n",
       "      <td>Pretty positive</td>\n",
       "      <td>Positive</td>\n",
       "      <td>0.288462</td>\n",
       "      <td>Pretty objective</td>\n",
       "      <td>Objective</td>\n",
       "      <td>1</td>\n",
       "      <td>Very good</td>\n",
       "      <td>Good</td>\n",
       "    </tr>\n",
       "    <tr>\n",
       "      <th>2</th>\n",
       "      <td>NaN</td>\n",
       "      <td>N/A</td>\n",
       "      <td>N/A</td>\n",
       "      <td>N/A</td>\n",
       "      <td>N/A</td>\n",
       "      <td>N/A</td>\n",
       "      <td>N/A</td>\n",
       "      <td>N/A</td>\n",
       "      <td>N/A</td>\n",
       "      <td>N/A</td>\n",
       "      <td>...</td>\n",
       "      <td>N/A</td>\n",
       "      <td>N/A</td>\n",
       "      <td>N/A</td>\n",
       "      <td>N/A</td>\n",
       "      <td>N/A</td>\n",
       "      <td>N/A</td>\n",
       "      <td>N/A</td>\n",
       "      <td>N/A</td>\n",
       "      <td>N/A</td>\n",
       "      <td>N/A</td>\n",
       "    </tr>\n",
       "    <tr>\n",
       "      <th>3</th>\n",
       "      <td>Works great especially going grocery store</td>\n",
       "      <td>1</td>\n",
       "      <td>42</td>\n",
       "      <td>5</td>\n",
       "      <td>6</td>\n",
       "      <td>0</td>\n",
       "      <td>37</td>\n",
       "      <td>0</td>\n",
       "      <td>0</td>\n",
       "      <td>37</td>\n",
       "      <td>...</td>\n",
       "      <td>0</td>\n",
       "      <td>0.4</td>\n",
       "      <td>Pretty positive</td>\n",
       "      <td>Positive</td>\n",
       "      <td>0.875</td>\n",
       "      <td>Quite subjective</td>\n",
       "      <td>Subjective</td>\n",
       "      <td>1</td>\n",
       "      <td>Very good</td>\n",
       "      <td>Good</td>\n",
       "    </tr>\n",
       "    <tr>\n",
       "      <th>4</th>\n",
       "      <td>Best idea us</td>\n",
       "      <td>1</td>\n",
       "      <td>12</td>\n",
       "      <td>2</td>\n",
       "      <td>3</td>\n",
       "      <td>0</td>\n",
       "      <td>10</td>\n",
       "      <td>0</td>\n",
       "      <td>0</td>\n",
       "      <td>10</td>\n",
       "      <td>...</td>\n",
       "      <td>0</td>\n",
       "      <td>1</td>\n",
       "      <td>Very positive</td>\n",
       "      <td>Positive</td>\n",
       "      <td>0.3</td>\n",
       "      <td>Pretty objective</td>\n",
       "      <td>Objective</td>\n",
       "      <td>1</td>\n",
       "      <td>Very good</td>\n",
       "      <td>Good</td>\n",
       "    </tr>\n",
       "  </tbody>\n",
       "</table>\n",
       "<p>5 rows × 23 columns</p>\n",
       "</div>"
      ],
      "text/plain": [
       "                                   Translated_Review sentences_count  \\\n",
       "0  I like eat delicious food. That's I'm cooking ...               2   \n",
       "1    This help eating healthy exercise regular basis               1   \n",
       "2                                                NaN             N/A   \n",
       "3         Works great especially going grocery store               1   \n",
       "4                                       Best idea us               1   \n",
       "\n",
       "  characters_count spaces_count words_count duplicates_count  \\\n",
       "0              122           20          22                6   \n",
       "1               47            6           7                0   \n",
       "2              N/A          N/A         N/A              N/A   \n",
       "3               42            5           6                0   \n",
       "4               12            2           3                0   \n",
       "\n",
       "  chars_excl_spaces_count emoji_count whole_numbers_count alpha_numeric_count  \\\n",
       "0                     102           0                   1                  91   \n",
       "1                      41           0                   0                  41   \n",
       "2                     N/A         N/A                 N/A                 N/A   \n",
       "3                      37           0                   0                  37   \n",
       "4                      10           0                   0                  10   \n",
       "\n",
       "   ... dates_count sentiment_polarity_score sentiment_polarity  \\\n",
       "0  ...           0                        1      Very positive   \n",
       "1  ...           0                     0.25    Pretty positive   \n",
       "2  ...         N/A                      N/A                N/A   \n",
       "3  ...           0                      0.4    Pretty positive   \n",
       "4  ...           0                        1      Very positive   \n",
       "\n",
       "  sentiment_polarity_summarised sentiment_subjectivity_score  \\\n",
       "0                      Positive                     0.533333   \n",
       "1                      Positive                     0.288462   \n",
       "2                           N/A                          N/A   \n",
       "3                      Positive                        0.875   \n",
       "4                      Positive                          0.3   \n",
       "\n",
       "  sentiment_subjectivity sentiment_subjectivity_summarised  \\\n",
       "0   Objective/subjective              Objective/subjective   \n",
       "1       Pretty objective                         Objective   \n",
       "2                    N/A                               N/A   \n",
       "3       Quite subjective                        Subjective   \n",
       "4       Pretty objective                         Objective   \n",
       "\n",
       "  spelling_quality_score spelling_quality spelling_quality_summarised  \n",
       "0                   0.75      Pretty good                        Good  \n",
       "1                      1        Very good                        Good  \n",
       "2                    N/A              N/A                         N/A  \n",
       "3                      1        Very good                        Good  \n",
       "4                      1        Very good                        Good  \n",
       "\n",
       "[5 rows x 23 columns]"
      ]
     },
     "execution_count": 7,
     "metadata": {},
     "output_type": "execute_result"
    }
   ],
   "source": [
    "%%time\n",
    "profiled_text_dataframe = apply_text_profiling(text_dataframe, 'Translated_Review', params={'parallelism_method': 'using_swifter'})\n",
    "profiled_text_dataframe.head()\n",
    "\n",
    "# from nlp_profiler.spelling_quality_check import spelling_quality_score\n",
    "# import swifter\n",
    "\n",
    "# result = text_dataframe.Translated_Review[30000:40000].swifter.apply(spelling_quality_score, raw=True)\n",
    "# result = text_dataframe.Translated_Review \\\n",
    "#                   .swifter \\\n",
    "#                   .set_dask_scheduler(scheduler=\"processes\") \\\n",
    "#                   .allow_dask_on_strings(enable=True) \\\n",
    "#                   .apply(spelling_quality_score)\n",
    "# result"
   ]
  },
  {
   "cell_type": "markdown",
   "metadata": {},
   "source": [
    "### Sentiment Analysis"
   ]
  },
  {
   "cell_type": "code",
   "execution_count": 10,
   "metadata": {},
   "outputs": [
    {
     "data": {
      "text/plain": [
       "<matplotlib.axes._subplots.AxesSubplot at 0x7fa3ee57dc88>"
      ]
     },
     "execution_count": 10,
     "metadata": {},
     "output_type": "execute_result"
    },
    {
     "data": {
      "image/png": "[encoded data removed]",
      "text/plain": [
       "<Figure size 432x288 with 1 Axes>"
      ]
     },
     "metadata": {
      "needs_background": "light"
     },
     "output_type": "display_data"
    }
   ],
   "source": [
    "profiled_text_dataframe['sentiment_polarity'].hist()"
   ]
  },
  {
   "cell_type": "code",
   "execution_count": 11,
   "metadata": {},
   "outputs": [
    {
     "data": {
      "text/plain": [
       "<matplotlib.axes._subplots.AxesSubplot at 0x7fa3ee4d7630>"
      ]
     },
     "execution_count": 11,
     "metadata": {},
     "output_type": "execute_result"
    },
    {
     "data": {
      "image/png": "[encoded data removed]",
      "text/plain": [
       "<Figure size 432x288 with 1 Axes>"
      ]
     },
     "metadata": {
      "needs_background": "light"
     },
     "output_type": "display_data"
    }
   ],
   "source": [
    "profiled_text_dataframe['sentiment_subjectivity'].hist()"
   ]
  },
  {
   "cell_type": "markdown",
   "metadata": {},
   "source": [
    "### Spelling quality check"
   ]
  },
  {
   "cell_type": "markdown",
   "metadata": {},
   "source": [
    "#### The spelling score and spelling quality check is upto 70% accurate, it's using Peter Norvig’s “How to Write a Spelling Corrector\"."
   ]
  },
  {
   "cell_type": "code",
   "execution_count": 12,
   "metadata": {},
   "outputs": [
    {
     "ename": "TypeError",
     "evalue": "'<=' not supported between instances of 'float' and 'str'",
     "output_type": "error",
     "traceback": [
      "\u001b[0;31m---------------------------------------------------------------------------\u001b[0m",
      "\u001b[0;31mTypeError\u001b[0m                                 Traceback (most recent call last)",
      "\u001b[0;32m<ipython-input-12-ad72a236b19d>\u001b[0m in \u001b[0;36m<module>\u001b[0;34m\u001b[0m\n\u001b[0;32m----> 1\u001b[0;31m \u001b[0mprofiled_text_dataframe\u001b[0m\u001b[0;34m[\u001b[0m\u001b[0;34m'spelling_quality_score'\u001b[0m\u001b[0;34m]\u001b[0m\u001b[0;34m.\u001b[0m\u001b[0mhist\u001b[0m\u001b[0;34m(\u001b[0m\u001b[0;34m)\u001b[0m\u001b[0;34m\u001b[0m\u001b[0m\n\u001b[0m",
      "\u001b[0;32m~/.local/lib/python3.7/site-packages/pandas/plotting/_core.py\u001b[0m in \u001b[0;36mhist_series\u001b[0;34m(self, by, ax, grid, xlabelsize, xrot, ylabelsize, yrot, figsize, bins, **kwds)\u001b[0m\n\u001b[1;32m   2472\u001b[0m         \u001b[0mvalues\u001b[0m \u001b[0;34m=\u001b[0m \u001b[0mself\u001b[0m\u001b[0;34m.\u001b[0m\u001b[0mdropna\u001b[0m\u001b[0;34m(\u001b[0m\u001b[0;34m)\u001b[0m\u001b[0;34m.\u001b[0m\u001b[0mvalues\u001b[0m\u001b[0;34m\u001b[0m\u001b[0m\n\u001b[1;32m   2473\u001b[0m \u001b[0;34m\u001b[0m\u001b[0m\n\u001b[0;32m-> 2474\u001b[0;31m         \u001b[0max\u001b[0m\u001b[0;34m.\u001b[0m\u001b[0mhist\u001b[0m\u001b[0;34m(\u001b[0m\u001b[0mvalues\u001b[0m\u001b[0;34m,\u001b[0m \u001b[0mbins\u001b[0m\u001b[0;34m=\u001b[0m\u001b[0mbins\u001b[0m\u001b[0;34m,\u001b[0m \u001b[0;34m**\u001b[0m\u001b[0mkwds\u001b[0m\u001b[0;34m)\u001b[0m\u001b[0;34m\u001b[0m\u001b[0m\n\u001b[0m\u001b[1;32m   2475\u001b[0m         \u001b[0max\u001b[0m\u001b[0;34m.\u001b[0m\u001b[0mgrid\u001b[0m\u001b[0;34m(\u001b[0m\u001b[0mgrid\u001b[0m\u001b[0;34m)\u001b[0m\u001b[0;34m\u001b[0m\u001b[0m\n\u001b[1;32m   2476\u001b[0m         \u001b[0maxes\u001b[0m \u001b[0;34m=\u001b[0m \u001b[0mnp\u001b[0m\u001b[0;34m.\u001b[0m\u001b[0marray\u001b[0m\u001b[0;34m(\u001b[0m\u001b[0;34m[\u001b[0m\u001b[0max\u001b[0m\u001b[0;34m]\u001b[0m\u001b[0;34m)\u001b[0m\u001b[0;34m\u001b[0m\u001b[0m\n",
      "\u001b[0;32m~/.local/lib/python3.7/site-packages/matplotlib/__init__.py\u001b[0m in \u001b[0;36minner\u001b[0;34m(ax, data, *args, **kwargs)\u001b[0m\n\u001b[1;32m   1563\u001b[0m     \u001b[0;32mdef\u001b[0m \u001b[0minner\u001b[0m\u001b[0;34m(\u001b[0m\u001b[0max\u001b[0m\u001b[0;34m,\u001b[0m \u001b[0;34m*\u001b[0m\u001b[0margs\u001b[0m\u001b[0;34m,\u001b[0m \u001b[0mdata\u001b[0m\u001b[0;34m=\u001b[0m\u001b[0;32mNone\u001b[0m\u001b[0;34m,\u001b[0m \u001b[0;34m**\u001b[0m\u001b[0mkwargs\u001b[0m\u001b[0;34m)\u001b[0m\u001b[0;34m:\u001b[0m\u001b[0;34m\u001b[0m\u001b[0m\n\u001b[1;32m   1564\u001b[0m         \u001b[0;32mif\u001b[0m \u001b[0mdata\u001b[0m \u001b[0;32mis\u001b[0m \u001b[0;32mNone\u001b[0m\u001b[0;34m:\u001b[0m\u001b[0;34m\u001b[0m\u001b[0m\n\u001b[0;32m-> 1565\u001b[0;31m             \u001b[0;32mreturn\u001b[0m \u001b[0mfunc\u001b[0m\u001b[0;34m(\u001b[0m\u001b[0max\u001b[0m\u001b[0;34m,\u001b[0m \u001b[0;34m*\u001b[0m\u001b[0mmap\u001b[0m\u001b[0;34m(\u001b[0m\u001b[0msanitize_sequence\u001b[0m\u001b[0;34m,\u001b[0m \u001b[0margs\u001b[0m\u001b[0;34m)\u001b[0m\u001b[0;34m,\u001b[0m \u001b[0;34m**\u001b[0m\u001b[0mkwargs\u001b[0m\u001b[0;34m)\u001b[0m\u001b[0;34m\u001b[0m\u001b[0m\n\u001b[0m\u001b[1;32m   1566\u001b[0m \u001b[0;34m\u001b[0m\u001b[0m\n\u001b[1;32m   1567\u001b[0m         \u001b[0mbound\u001b[0m \u001b[0;34m=\u001b[0m \u001b[0mnew_sig\u001b[0m\u001b[0;34m.\u001b[0m\u001b[0mbind\u001b[0m\u001b[0;34m(\u001b[0m\u001b[0max\u001b[0m\u001b[0;34m,\u001b[0m \u001b[0;34m*\u001b[0m\u001b[0margs\u001b[0m\u001b[0;34m,\u001b[0m \u001b[0;34m**\u001b[0m\u001b[0mkwargs\u001b[0m\u001b[0;34m)\u001b[0m\u001b[0;34m\u001b[0m\u001b[0m\n",
      "\u001b[0;32m~/.local/lib/python3.7/site-packages/matplotlib/axes/_axes.py\u001b[0m in \u001b[0;36mhist\u001b[0;34m(self, x, bins, range, density, weights, cumulative, bottom, histtype, align, orientation, rwidth, log, color, label, stacked, **kwargs)\u001b[0m\n\u001b[1;32m   6628\u001b[0m                     \u001b[0;31m# python's min/max ignore nan,\u001b[0m\u001b[0;34m\u001b[0m\u001b[0;34m\u001b[0m\u001b[0m\n\u001b[1;32m   6629\u001b[0m                     \u001b[0;31m# np.minnan returns nan for all nan input\u001b[0m\u001b[0;34m\u001b[0m\u001b[0;34m\u001b[0m\u001b[0m\n\u001b[0;32m-> 6630\u001b[0;31m                     \u001b[0mxmin\u001b[0m \u001b[0;34m=\u001b[0m \u001b[0mmin\u001b[0m\u001b[0;34m(\u001b[0m\u001b[0mxmin\u001b[0m\u001b[0;34m,\u001b[0m \u001b[0mnp\u001b[0m\u001b[0;34m.\u001b[0m\u001b[0mnanmin\u001b[0m\u001b[0;34m(\u001b[0m\u001b[0mxi\u001b[0m\u001b[0;34m)\u001b[0m\u001b[0;34m)\u001b[0m\u001b[0;34m\u001b[0m\u001b[0m\n\u001b[0m\u001b[1;32m   6631\u001b[0m                     \u001b[0mxmax\u001b[0m \u001b[0;34m=\u001b[0m \u001b[0mmax\u001b[0m\u001b[0;34m(\u001b[0m\u001b[0mxmax\u001b[0m\u001b[0;34m,\u001b[0m \u001b[0mnp\u001b[0m\u001b[0;34m.\u001b[0m\u001b[0mnanmax\u001b[0m\u001b[0;34m(\u001b[0m\u001b[0mxi\u001b[0m\u001b[0;34m)\u001b[0m\u001b[0;34m)\u001b[0m\u001b[0;34m\u001b[0m\u001b[0m\n\u001b[1;32m   6632\u001b[0m             \u001b[0;31m# make sure we have seen at least one non-nan and finite\u001b[0m\u001b[0;34m\u001b[0m\u001b[0;34m\u001b[0m\u001b[0m\n",
      "\u001b[0;32m<__array_function__ internals>\u001b[0m in \u001b[0;36mnanmin\u001b[0;34m(*args, **kwargs)\u001b[0m\n",
      "\u001b[0;32m~/.local/lib/python3.7/site-packages/numpy/lib/nanfunctions.py\u001b[0m in \u001b[0;36mnanmin\u001b[0;34m(a, axis, out, keepdims)\u001b[0m\n\u001b[1;32m    326\u001b[0m         \u001b[0;31m# Slow, but safe for subclasses of ndarray\u001b[0m\u001b[0;34m\u001b[0m\u001b[0;34m\u001b[0m\u001b[0m\n\u001b[1;32m    327\u001b[0m         \u001b[0ma\u001b[0m\u001b[0;34m,\u001b[0m \u001b[0mmask\u001b[0m \u001b[0;34m=\u001b[0m \u001b[0m_replace_nan\u001b[0m\u001b[0;34m(\u001b[0m\u001b[0ma\u001b[0m\u001b[0;34m,\u001b[0m \u001b[0;34m+\u001b[0m\u001b[0mnp\u001b[0m\u001b[0;34m.\u001b[0m\u001b[0minf\u001b[0m\u001b[0;34m)\u001b[0m\u001b[0;34m\u001b[0m\u001b[0m\n\u001b[0;32m--> 328\u001b[0;31m         \u001b[0mres\u001b[0m \u001b[0;34m=\u001b[0m \u001b[0mnp\u001b[0m\u001b[0;34m.\u001b[0m\u001b[0mamin\u001b[0m\u001b[0;34m(\u001b[0m\u001b[0ma\u001b[0m\u001b[0;34m,\u001b[0m \u001b[0maxis\u001b[0m\u001b[0;34m=\u001b[0m\u001b[0maxis\u001b[0m\u001b[0;34m,\u001b[0m \u001b[0mout\u001b[0m\u001b[0;34m=\u001b[0m\u001b[0mout\u001b[0m\u001b[0;34m,\u001b[0m \u001b[0;34m**\u001b[0m\u001b[0mkwargs\u001b[0m\u001b[0;34m)\u001b[0m\u001b[0;34m\u001b[0m\u001b[0m\n\u001b[0m\u001b[1;32m    329\u001b[0m         \u001b[0;32mif\u001b[0m \u001b[0mmask\u001b[0m \u001b[0;32mis\u001b[0m \u001b[0;32mNone\u001b[0m\u001b[0;34m:\u001b[0m\u001b[0;34m\u001b[0m\u001b[0m\n\u001b[1;32m    330\u001b[0m             \u001b[0;32mreturn\u001b[0m \u001b[0mres\u001b[0m\u001b[0;34m\u001b[0m\u001b[0m\n",
      "\u001b[0;32m<__array_function__ internals>\u001b[0m in \u001b[0;36mamin\u001b[0;34m(*args, **kwargs)\u001b[0m\n",
      "\u001b[0;32m~/.local/lib/python3.7/site-packages/numpy/core/fromnumeric.py\u001b[0m in \u001b[0;36mamin\u001b[0;34m(a, axis, out, keepdims, initial, where)\u001b[0m\n\u001b[1;32m   2791\u001b[0m     \"\"\"\n\u001b[1;32m   2792\u001b[0m     return _wrapreduction(a, np.minimum, 'min', axis, None, out,\n\u001b[0;32m-> 2793\u001b[0;31m                           keepdims=keepdims, initial=initial, where=where)\n\u001b[0m\u001b[1;32m   2794\u001b[0m \u001b[0;34m\u001b[0m\u001b[0m\n\u001b[1;32m   2795\u001b[0m \u001b[0;34m\u001b[0m\u001b[0m\n",
      "\u001b[0;32m~/.local/lib/python3.7/site-packages/numpy/core/fromnumeric.py\u001b[0m in \u001b[0;36m_wrapreduction\u001b[0;34m(obj, ufunc, method, axis, dtype, out, **kwargs)\u001b[0m\n\u001b[1;32m     88\u001b[0m                 \u001b[0;32mreturn\u001b[0m \u001b[0mreduction\u001b[0m\u001b[0;34m(\u001b[0m\u001b[0maxis\u001b[0m\u001b[0;34m=\u001b[0m\u001b[0maxis\u001b[0m\u001b[0;34m,\u001b[0m \u001b[0mout\u001b[0m\u001b[0;34m=\u001b[0m\u001b[0mout\u001b[0m\u001b[0;34m,\u001b[0m \u001b[0;34m**\u001b[0m\u001b[0mpasskwargs\u001b[0m\u001b[0;34m)\u001b[0m\u001b[0;34m\u001b[0m\u001b[0m\n\u001b[1;32m     89\u001b[0m \u001b[0;34m\u001b[0m\u001b[0m\n\u001b[0;32m---> 90\u001b[0;31m     \u001b[0;32mreturn\u001b[0m \u001b[0mufunc\u001b[0m\u001b[0;34m.\u001b[0m\u001b[0mreduce\u001b[0m\u001b[0;34m(\u001b[0m\u001b[0mobj\u001b[0m\u001b[0;34m,\u001b[0m \u001b[0maxis\u001b[0m\u001b[0;34m,\u001b[0m \u001b[0mdtype\u001b[0m\u001b[0;34m,\u001b[0m \u001b[0mout\u001b[0m\u001b[0;34m,\u001b[0m \u001b[0;34m**\u001b[0m\u001b[0mpasskwargs\u001b[0m\u001b[0;34m)\u001b[0m\u001b[0;34m\u001b[0m\u001b[0m\n\u001b[0m\u001b[1;32m     91\u001b[0m \u001b[0;34m\u001b[0m\u001b[0m\n\u001b[1;32m     92\u001b[0m \u001b[0;34m\u001b[0m\u001b[0m\n",
      "\u001b[0;31mTypeError\u001b[0m: '<=' not supported between instances of 'float' and 'str'"
     ]
    },
    {
     "data": {
      "image/png": "[encoded data removed]",
      "text/plain": [
       "<Figure size 432x288 with 1 Axes>"
      ]
     },
     "metadata": {
      "needs_background": "light"
     },
     "output_type": "display_data"
    }
   ],
   "source": [
    "profiled_text_dataframe['spelling_quality_score'].hist()"
   ]
  },
  {
   "cell_type": "code",
   "execution_count": 13,
   "metadata": {},
   "outputs": [
    {
     "data": {
      "text/plain": [
       "<matplotlib.axes._subplots.AxesSubplot at 0x7fa3eddf4358>"
      ]
     },
     "execution_count": 13,
     "metadata": {},
     "output_type": "execute_result"
    },
    {
     "data": {
      "image/png": "[encoded data removed]",
      "text/plain": [
       "<Figure size 432x288 with 1 Axes>"
      ]
     },
     "metadata": {
      "needs_background": "light"
     },
     "output_type": "display_data"
    }
   ],
   "source": [
    "profiled_text_dataframe['spelling_quality'].hist()"
   ]
  },
  {
   "cell_type": "markdown",
   "metadata": {},
   "source": [
    "### Running describe() on the new NLP profiler generated dataframe"
   ]
  },
  {
   "cell_type": "code",
   "execution_count": null,
   "metadata": {},
   "outputs": [],
   "source": [
    "profiled_text_dataframe.describe()"
   ]
  },
  {
   "cell_type": "markdown",
   "metadata": {},
   "source": [
    "### Resources\n",
    "\n",
    "- https://www.kaggle.com/raenish/cheatsheet-text-helper-functions\n",
    "- https://textblob.readthedocs.io/en/dev/quickstart.html\n",
    "- [Approaching (Almost) Any NLP Problem on Kaggle](https://www.kaggle.com/abhishek/approaching-almost-any-nlp-problem-on-kaggle)\n",
    "- [Words of estimative probability](https://en.wikipedia.org/wiki/Words_of_estimative_probability)\n",
    "- [NLP Profiler source file](https://github.com/neomatrix369/awesome-ai-ml-dl/blob/master/examples/better-nlp/library/org/neomatrix369/nlp_profiler.py)\n",
    "- [Kaggle Utility script](https://www.kaggle.com/neomatrix369/nlp-profiler-class)\n",
    "- [Kaggle kernel](https://www.kaggle.com/neomatrix369/nlp-profiler-simple-dataset)\n",
    "- [Awesome AI-ML-DL: Better NLP library](https://bit.ly/better-nlp-launch)\n",
    "- [Awesome AI-ML-DL: NLP Resources](https://github.com/neomatrix369/awesome-ai-ml-dl/tree/master/natural-language-processing)\n",
    "- [Awesome AI-ML-DL Github](https://github.com/neomatrix369/awesome-ai-ml-dl/blob/)"
   ]
  }
 ],
 "metadata": {
  "kernelspec": {
   "display_name": "Python 3",
   "language": "python",
   "name": "python3"
  },
  "language_info": {
   "codemirror_mode": {
    "name": "ipython",
    "version": 3
   },
   "file_extension": ".py",
   "mimetype": "text/x-python",
   "name": "python",
   "nbconvert_exporter": "python",
   "pygments_lexer": "ipython3",
   "version": "3.7.0"
  }
 },
 "nbformat": 4,
 "nbformat_minor": 4
}
