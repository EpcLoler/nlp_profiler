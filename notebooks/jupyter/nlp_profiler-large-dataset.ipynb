{
 "cells": [
  {
   "cell_type": "code",
   "execution_count": 1,
   "metadata": {},
   "outputs": [
    {
     "name": "stdout",
     "output_type": "stream",
     "text": [
      "Processing /home/satyasai/git-repos/ai-ml-dl-stuff/nlp_profiler\n",
      "  Installing build dependencies: started\n",
      "  Installing build dependencies: finished with status 'done'\n",
      "  Getting requirements to build wheel: started\n",
      "  Getting requirements to build wheel: finished with status 'done'\n",
      "    Preparing wheel metadata: started\n",
      "    Preparing wheel metadata: finished with status 'done'\n",
      "Requirement already satisfied: tqdm>=4.46.0 in /home/satyasai/.local/lib/python3.7/site-packages (from nlp-profiler==0.0.1) (4.46.1)\n",
      "Requirement already satisfied: joblib>=0.14.1 in /home/satyasai/.local/lib/python3.7/site-packages (from nlp-profiler==0.0.1) (0.15.1)\n",
      "Requirement already satisfied: swifter>=1.0.3 in /home/satyasai/.local/lib/python3.7/site-packages (from nlp-profiler==0.0.1) (1.0.3)\n",
      "Requirement already satisfied: nltk>=3.5 in /home/satyasai/.local/lib/python3.7/site-packages (from nlp-profiler==0.0.1) (3.5)\n",
      "Requirement already satisfied: textblob>=0.15.3 in /home/satyasai/.local/lib/python3.7/site-packages (from nlp-profiler==0.0.1) (0.15.3)\n",
      "Requirement already satisfied: pandas in /home/satyasai/.local/lib/python3.7/site-packages (from nlp-profiler==0.0.1) (0.24.1)\n",
      "Requirement already satisfied: ipython>=7.12.0 in /home/satyasai/.local/lib/python3.7/site-packages (from nlp-profiler==0.0.1) (7.15.0)\n",
      "Requirement already satisfied: language-tool-python>=2.3.1 in /home/satyasai/.local/lib/python3.7/site-packages (from nlp-profiler==0.0.1) (2.4.2)\n",
      "Requirement already satisfied: requests>=2.23.0 in /home/satyasai/.local/lib/python3.7/site-packages (from nlp-profiler==0.0.1) (2.23.0)\n",
      "Requirement already satisfied: emoji>=0.5.4 in /home/satyasai/.local/lib/python3.7/site-packages (from nlp-profiler==0.0.1) (0.5.4)\n",
      "Requirement already satisfied: bleach>=3.1.1 in /home/satyasai/.local/lib/python3.7/site-packages (from swifter>=1.0.3->nlp-profiler==0.0.1) (3.1.5)\n",
      "Requirement already satisfied: dask[complete]>=0.19.0 in /home/satyasai/.local/lib/python3.7/site-packages (from swifter>=1.0.3->nlp-profiler==0.0.1) (2.27.0)\n",
      "Requirement already satisfied: psutil>=5.6.6 in /home/satyasai/.local/lib/python3.7/site-packages (from swifter>=1.0.3->nlp-profiler==0.0.1) (5.7.0)\n",
      "Requirement already satisfied: parso>0.4.0 in /home/satyasai/.local/lib/python3.7/site-packages (from swifter>=1.0.3->nlp-profiler==0.0.1) (0.7.0)\n",
      "Requirement already satisfied: modin[ray]>=0.7.4 in /home/satyasai/.local/lib/python3.7/site-packages (from swifter>=1.0.3->nlp-profiler==0.0.1) (0.8.0)\n",
      "Requirement already satisfied: ipywidgets>=7.0.0 in /home/satyasai/.local/lib/python3.7/site-packages (from swifter>=1.0.3->nlp-profiler==0.0.1) (7.5.1)\n",
      "Requirement already satisfied: click in /home/satyasai/.local/lib/python3.7/site-packages (from nltk>=3.5->nlp-profiler==0.0.1) (7.1.2)\n",
      "Requirement already satisfied: regex in /home/satyasai/.local/lib/python3.7/site-packages (from nltk>=3.5->nlp-profiler==0.0.1) (2020.6.8)\n",
      "Requirement already satisfied: python-dateutil>=2.5.0 in /home/satyasai/.local/lib/python3.7/site-packages (from pandas->nlp-profiler==0.0.1) (2.8.1)\n",
      "Requirement already satisfied: numpy>=1.12.0 in /home/satyasai/.local/lib/python3.7/site-packages (from pandas->nlp-profiler==0.0.1) (1.18.5)\n",
      "Requirement already satisfied: pytz>=2011k in /home/satyasai/.local/lib/python3.7/site-packages (from pandas->nlp-profiler==0.0.1) (2020.1)\n",
      "Requirement already satisfied: decorator in /home/satyasai/.local/lib/python3.7/site-packages (from ipython>=7.12.0->nlp-profiler==0.0.1) (4.4.2)\n",
      "Requirement already satisfied: jedi>=0.10 in /home/satyasai/.local/lib/python3.7/site-packages (from ipython>=7.12.0->nlp-profiler==0.0.1) (0.17.0)\n",
      "Requirement already satisfied: pickleshare in /home/satyasai/.local/lib/python3.7/site-packages (from ipython>=7.12.0->nlp-profiler==0.0.1) (0.7.5)\n",
      "Requirement already satisfied: pygments in /home/satyasai/.local/lib/python3.7/site-packages (from ipython>=7.12.0->nlp-profiler==0.0.1) (2.6.1)\n",
      "Requirement already satisfied: prompt-toolkit!=3.0.0,!=3.0.1,<3.1.0,>=2.0.0 in /home/satyasai/.local/lib/python3.7/site-packages (from ipython>=7.12.0->nlp-profiler==0.0.1) (3.0.5)\n",
      "Requirement already satisfied: setuptools>=18.5 in /home/satyasai/.local/lib/python3.7/site-packages (from ipython>=7.12.0->nlp-profiler==0.0.1) (49.1.0)\n",
      "Requirement already satisfied: pexpect; sys_platform != \"win32\" in /home/satyasai/.local/lib/python3.7/site-packages (from ipython>=7.12.0->nlp-profiler==0.0.1) (4.8.0)\n",
      "Requirement already satisfied: backcall in /home/satyasai/.local/lib/python3.7/site-packages (from ipython>=7.12.0->nlp-profiler==0.0.1) (0.2.0)\n",
      "Requirement already satisfied: traitlets>=4.2 in /home/satyasai/.local/lib/python3.7/site-packages (from ipython>=7.12.0->nlp-profiler==0.0.1) (4.3.3)\n",
      "Requirement already satisfied: certifi>=2017.4.17 in /home/satyasai/.local/lib/python3.7/site-packages (from requests>=2.23.0->nlp-profiler==0.0.1) (2020.4.5.2)\n",
      "Requirement already satisfied: urllib3!=1.25.0,!=1.25.1,<1.26,>=1.21.1 in /home/satyasai/.local/lib/python3.7/site-packages (from requests>=2.23.0->nlp-profiler==0.0.1) (1.24.3)\n",
      "Requirement already satisfied: chardet<4,>=3.0.2 in /home/satyasai/.local/lib/python3.7/site-packages (from requests>=2.23.0->nlp-profiler==0.0.1) (3.0.4)\n",
      "Requirement already satisfied: idna<3,>=2.5 in /home/satyasai/.local/lib/python3.7/site-packages (from requests>=2.23.0->nlp-profiler==0.0.1) (2.9)\n",
      "Requirement already satisfied: webencodings in /home/satyasai/.local/lib/python3.7/site-packages (from bleach>=3.1.1->swifter>=1.0.3->nlp-profiler==0.0.1) (0.5.1)\n",
      "Requirement already satisfied: packaging in /home/satyasai/.local/lib/python3.7/site-packages (from bleach>=3.1.1->swifter>=1.0.3->nlp-profiler==0.0.1) (20.4)\n",
      "Requirement already satisfied: six>=1.9.0 in /home/satyasai/.local/lib/python3.7/site-packages (from bleach>=3.1.1->swifter>=1.0.3->nlp-profiler==0.0.1) (1.15.0)\n",
      "Requirement already satisfied: pyyaml in /home/satyasai/.local/lib/python3.7/site-packages (from dask[complete]>=0.19.0->swifter>=1.0.3->nlp-profiler==0.0.1) (5.3.1)\n",
      "Requirement already satisfied: distributed>=2.0; extra == \"complete\" in /home/satyasai/.local/lib/python3.7/site-packages (from dask[complete]>=0.19.0->swifter>=1.0.3->nlp-profiler==0.0.1) (2.27.0)\n",
      "Requirement already satisfied: partd>=0.3.10; extra == \"complete\" in /home/satyasai/.local/lib/python3.7/site-packages (from dask[complete]>=0.19.0->swifter>=1.0.3->nlp-profiler==0.0.1) (1.1.0)\n",
      "Requirement already satisfied: cloudpickle>=0.2.2; extra == \"complete\" in /home/satyasai/.local/lib/python3.7/site-packages (from dask[complete]>=0.19.0->swifter>=1.0.3->nlp-profiler==0.0.1) (1.3.0)\n",
      "Requirement already satisfied: bokeh!=2.0.0,>=1.0.0; extra == \"complete\" in /home/satyasai/.local/lib/python3.7/site-packages (from dask[complete]>=0.19.0->swifter>=1.0.3->nlp-profiler==0.0.1) (2.2.1)\n",
      "Requirement already satisfied: fsspec>=0.6.0; extra == \"complete\" in /home/satyasai/.local/lib/python3.7/site-packages (from dask[complete]>=0.19.0->swifter>=1.0.3->nlp-profiler==0.0.1) (0.8.2)\n",
      "Requirement already satisfied: toolz>=0.8.2; extra == \"complete\" in /home/satyasai/.local/lib/python3.7/site-packages (from dask[complete]>=0.19.0->swifter>=1.0.3->nlp-profiler==0.0.1) (0.10.0)\n",
      "Requirement already satisfied: ray==0.8.6; extra == \"ray\" in /home/satyasai/.local/lib/python3.7/site-packages (from modin[ray]>=0.7.4->swifter>=1.0.3->nlp-profiler==0.0.1) (0.8.6)\n",
      "Requirement already satisfied: pyarrow<0.17; extra == \"ray\" in /home/satyasai/.local/lib/python3.7/site-packages (from modin[ray]>=0.7.4->swifter>=1.0.3->nlp-profiler==0.0.1) (0.16.0)\n",
      "Requirement already satisfied: ipykernel>=4.5.1 in /home/satyasai/.local/lib/python3.7/site-packages (from ipywidgets>=7.0.0->swifter>=1.0.3->nlp-profiler==0.0.1) (5.3.0)\n",
      "Requirement already satisfied: nbformat>=4.2.0 in /home/satyasai/.local/lib/python3.7/site-packages (from ipywidgets>=7.0.0->swifter>=1.0.3->nlp-profiler==0.0.1) (5.0.7)\n",
      "Requirement already satisfied: widgetsnbextension~=3.5.0 in /home/satyasai/.local/lib/python3.7/site-packages (from ipywidgets>=7.0.0->swifter>=1.0.3->nlp-profiler==0.0.1) (3.5.1)\n",
      "Requirement already satisfied: wcwidth in /home/satyasai/.local/lib/python3.7/site-packages (from prompt-toolkit!=3.0.0,!=3.0.1,<3.1.0,>=2.0.0->ipython>=7.12.0->nlp-profiler==0.0.1) (0.2.4)\n",
      "Requirement already satisfied: ptyprocess>=0.5 in /home/satyasai/.local/lib/python3.7/site-packages (from pexpect; sys_platform != \"win32\"->ipython>=7.12.0->nlp-profiler==0.0.1) (0.6.0)\n",
      "Requirement already satisfied: ipython-genutils in /home/satyasai/.local/lib/python3.7/site-packages (from traitlets>=4.2->ipython>=7.12.0->nlp-profiler==0.0.1) (0.2.0)\n",
      "Requirement already satisfied: pyparsing>=2.0.2 in /home/satyasai/.local/lib/python3.7/site-packages (from packaging->bleach>=3.1.1->swifter>=1.0.3->nlp-profiler==0.0.1) (2.4.7)\n",
      "Requirement already satisfied: sortedcontainers!=2.0.0,!=2.0.1 in /home/satyasai/.local/lib/python3.7/site-packages (from distributed>=2.0; extra == \"complete\"->dask[complete]>=0.19.0->swifter>=1.0.3->nlp-profiler==0.0.1) (2.2.2)\n",
      "Requirement already satisfied: tblib>=1.6.0 in /home/satyasai/.local/lib/python3.7/site-packages (from distributed>=2.0; extra == \"complete\"->dask[complete]>=0.19.0->swifter>=1.0.3->nlp-profiler==0.0.1) (1.7.0)\n",
      "Requirement already satisfied: tornado>=5; python_version < \"3.8\" in /home/satyasai/.local/lib/python3.7/site-packages (from distributed>=2.0; extra == \"complete\"->dask[complete]>=0.19.0->swifter>=1.0.3->nlp-profiler==0.0.1) (6.0.4)\n",
      "Requirement already satisfied: zict>=0.1.3 in /home/satyasai/.local/lib/python3.7/site-packages (from distributed>=2.0; extra == \"complete\"->dask[complete]>=0.19.0->swifter>=1.0.3->nlp-profiler==0.0.1) (2.0.0)\n",
      "Requirement already satisfied: msgpack>=0.6.0 in /home/satyasai/.local/lib/python3.7/site-packages (from distributed>=2.0; extra == \"complete\"->dask[complete]>=0.19.0->swifter>=1.0.3->nlp-profiler==0.0.1) (1.0.0)\n",
      "Requirement already satisfied: locket in /home/satyasai/.local/lib/python3.7/site-packages (from partd>=0.3.10; extra == \"complete\"->dask[complete]>=0.19.0->swifter>=1.0.3->nlp-profiler==0.0.1) (0.2.0)\n",
      "Requirement already satisfied: Jinja2>=2.7 in /home/satyasai/.local/lib/python3.7/site-packages (from bokeh!=2.0.0,>=1.0.0; extra == \"complete\"->dask[complete]>=0.19.0->swifter>=1.0.3->nlp-profiler==0.0.1) (2.11.2)\n",
      "Requirement already satisfied: pillow>=7.1.0 in /home/satyasai/.local/lib/python3.7/site-packages (from bokeh!=2.0.0,>=1.0.0; extra == \"complete\"->dask[complete]>=0.19.0->swifter>=1.0.3->nlp-profiler==0.0.1) (7.2.0)\n",
      "Requirement already satisfied: typing-extensions>=3.7.4 in /home/satyasai/.local/lib/python3.7/site-packages (from bokeh!=2.0.0,>=1.0.0; extra == \"complete\"->dask[complete]>=0.19.0->swifter>=1.0.3->nlp-profiler==0.0.1) (3.7.4.2)\n",
      "Requirement already satisfied: protobuf>=3.8.0 in /home/satyasai/.local/lib/python3.7/site-packages (from ray==0.8.6; extra == \"ray\"->modin[ray]>=0.7.4->swifter>=1.0.3->nlp-profiler==0.0.1) (3.12.2)\n",
      "Requirement already satisfied: colorama in /home/satyasai/.local/lib/python3.7/site-packages (from ray==0.8.6; extra == \"ray\"->modin[ray]>=0.7.4->swifter>=1.0.3->nlp-profiler==0.0.1) (0.4.3)\n",
      "Requirement already satisfied: redis<3.5.0,>=3.3.2 in /home/satyasai/.local/lib/python3.7/site-packages (from ray==0.8.6; extra == \"ray\"->modin[ray]>=0.7.4->swifter>=1.0.3->nlp-profiler==0.0.1) (3.4.1)\n",
      "Requirement already satisfied: google in /home/satyasai/.local/lib/python3.7/site-packages (from ray==0.8.6; extra == \"ray\"->modin[ray]>=0.7.4->swifter>=1.0.3->nlp-profiler==0.0.1) (3.0.0)\n",
      "Requirement already satisfied: grpcio in /home/satyasai/.local/lib/python3.7/site-packages (from ray==0.8.6; extra == \"ray\"->modin[ray]>=0.7.4->swifter>=1.0.3->nlp-profiler==0.0.1) (1.29.0)\n",
      "Requirement already satisfied: aiohttp in /home/satyasai/.local/lib/python3.7/site-packages (from ray==0.8.6; extra == \"ray\"->modin[ray]>=0.7.4->swifter>=1.0.3->nlp-profiler==0.0.1) (3.6.2)\n",
      "Requirement already satisfied: py-spy>=0.2.0 in /home/satyasai/.local/lib/python3.7/site-packages (from ray==0.8.6; extra == \"ray\"->modin[ray]>=0.7.4->swifter>=1.0.3->nlp-profiler==0.0.1) (0.3.3)\n",
      "Requirement already satisfied: filelock in /home/satyasai/.local/lib/python3.7/site-packages (from ray==0.8.6; extra == \"ray\"->modin[ray]>=0.7.4->swifter>=1.0.3->nlp-profiler==0.0.1) (3.0.12)\n",
      "Requirement already satisfied: jsonschema in /home/satyasai/.local/lib/python3.7/site-packages (from ray==0.8.6; extra == \"ray\"->modin[ray]>=0.7.4->swifter>=1.0.3->nlp-profiler==0.0.1) (3.2.0)\n",
      "Requirement already satisfied: jupyter-client in /home/satyasai/.local/lib/python3.7/site-packages (from ipykernel>=4.5.1->ipywidgets>=7.0.0->swifter>=1.0.3->nlp-profiler==0.0.1) (6.1.3)\n",
      "Requirement already satisfied: jupyter-core in /home/satyasai/.local/lib/python3.7/site-packages (from nbformat>=4.2.0->ipywidgets>=7.0.0->swifter>=1.0.3->nlp-profiler==0.0.1) (4.6.3)\n",
      "Requirement already satisfied: notebook>=4.4.1 in /home/satyasai/.local/lib/python3.7/site-packages (from widgetsnbextension~=3.5.0->ipywidgets>=7.0.0->swifter>=1.0.3->nlp-profiler==0.0.1) (6.0.3)\n",
      "Requirement already satisfied: heapdict in /home/satyasai/.local/lib/python3.7/site-packages (from zict>=0.1.3->distributed>=2.0; extra == \"complete\"->dask[complete]>=0.19.0->swifter>=1.0.3->nlp-profiler==0.0.1) (1.0.1)\n",
      "Requirement already satisfied: MarkupSafe>=0.23 in /home/satyasai/.local/lib/python3.7/site-packages (from Jinja2>=2.7->bokeh!=2.0.0,>=1.0.0; extra == \"complete\"->dask[complete]>=0.19.0->swifter>=1.0.3->nlp-profiler==0.0.1) (1.1.1)\n",
      "Requirement already satisfied: beautifulsoup4 in /home/satyasai/.local/lib/python3.7/site-packages (from google->ray==0.8.6; extra == \"ray\"->modin[ray]>=0.7.4->swifter>=1.0.3->nlp-profiler==0.0.1) (4.9.1)\n",
      "Requirement already satisfied: multidict<5.0,>=4.5 in /home/satyasai/.local/lib/python3.7/site-packages (from aiohttp->ray==0.8.6; extra == \"ray\"->modin[ray]>=0.7.4->swifter>=1.0.3->nlp-profiler==0.0.1) (4.7.6)\n",
      "Requirement already satisfied: yarl<2.0,>=1.0 in /home/satyasai/.local/lib/python3.7/site-packages (from aiohttp->ray==0.8.6; extra == \"ray\"->modin[ray]>=0.7.4->swifter>=1.0.3->nlp-profiler==0.0.1) (1.5.1)\n",
      "Requirement already satisfied: async-timeout<4.0,>=3.0 in /home/satyasai/.local/lib/python3.7/site-packages (from aiohttp->ray==0.8.6; extra == \"ray\"->modin[ray]>=0.7.4->swifter>=1.0.3->nlp-profiler==0.0.1) (3.0.1)\n",
      "Requirement already satisfied: attrs>=17.3.0 in /home/satyasai/.local/lib/python3.7/site-packages (from aiohttp->ray==0.8.6; extra == \"ray\"->modin[ray]>=0.7.4->swifter>=1.0.3->nlp-profiler==0.0.1) (19.3.0)\n",
      "Requirement already satisfied: pyrsistent>=0.14.0 in /home/satyasai/.local/lib/python3.7/site-packages (from jsonschema->ray==0.8.6; extra == \"ray\"->modin[ray]>=0.7.4->swifter>=1.0.3->nlp-profiler==0.0.1) (0.16.0)\n",
      "Requirement already satisfied: importlib-metadata; python_version < \"3.8\" in /home/satyasai/.local/lib/python3.7/site-packages (from jsonschema->ray==0.8.6; extra == \"ray\"->modin[ray]>=0.7.4->swifter>=1.0.3->nlp-profiler==0.0.1) (1.6.1)\n",
      "Requirement already satisfied: pyzmq>=13 in /home/satyasai/.local/lib/python3.7/site-packages (from jupyter-client->ipykernel>=4.5.1->ipywidgets>=7.0.0->swifter>=1.0.3->nlp-profiler==0.0.1) (19.0.1)\n",
      "Requirement already satisfied: prometheus-client in /home/satyasai/.local/lib/python3.7/site-packages (from notebook>=4.4.1->widgetsnbextension~=3.5.0->ipywidgets>=7.0.0->swifter>=1.0.3->nlp-profiler==0.0.1) (0.8.0)\n",
      "Requirement already satisfied: terminado>=0.8.1 in /home/satyasai/.local/lib/python3.7/site-packages (from notebook>=4.4.1->widgetsnbextension~=3.5.0->ipywidgets>=7.0.0->swifter>=1.0.3->nlp-profiler==0.0.1) (0.8.3)\n",
      "Requirement already satisfied: Send2Trash in /home/satyasai/.local/lib/python3.7/site-packages (from notebook>=4.4.1->widgetsnbextension~=3.5.0->ipywidgets>=7.0.0->swifter>=1.0.3->nlp-profiler==0.0.1) (1.5.0)\n",
      "Requirement already satisfied: nbconvert in /home/satyasai/.local/lib/python3.7/site-packages (from notebook>=4.4.1->widgetsnbextension~=3.5.0->ipywidgets>=7.0.0->swifter>=1.0.3->nlp-profiler==0.0.1) (5.6.1)\n",
      "Requirement already satisfied: soupsieve>1.2 in /home/satyasai/.local/lib/python3.7/site-packages (from beautifulsoup4->google->ray==0.8.6; extra == \"ray\"->modin[ray]>=0.7.4->swifter>=1.0.3->nlp-profiler==0.0.1) (2.0.1)\n",
      "Requirement already satisfied: zipp>=0.5 in /home/satyasai/.local/lib/python3.7/site-packages (from importlib-metadata; python_version < \"3.8\"->jsonschema->ray==0.8.6; extra == \"ray\"->modin[ray]>=0.7.4->swifter>=1.0.3->nlp-profiler==0.0.1) (3.1.0)\n",
      "Requirement already satisfied: mistune<2,>=0.8.1 in /home/satyasai/.local/lib/python3.7/site-packages (from nbconvert->notebook>=4.4.1->widgetsnbextension~=3.5.0->ipywidgets>=7.0.0->swifter>=1.0.3->nlp-profiler==0.0.1) (0.8.4)\n",
      "Requirement already satisfied: entrypoints>=0.2.2 in /home/satyasai/.local/lib/python3.7/site-packages (from nbconvert->notebook>=4.4.1->widgetsnbextension~=3.5.0->ipywidgets>=7.0.0->swifter>=1.0.3->nlp-profiler==0.0.1) (0.3)\n",
      "Requirement already satisfied: pandocfilters>=1.4.1 in /home/satyasai/.local/lib/python3.7/site-packages (from nbconvert->notebook>=4.4.1->widgetsnbextension~=3.5.0->ipywidgets>=7.0.0->swifter>=1.0.3->nlp-profiler==0.0.1) (1.4.2)\n",
      "Requirement already satisfied: defusedxml in /home/satyasai/.local/lib/python3.7/site-packages (from nbconvert->notebook>=4.4.1->widgetsnbextension~=3.5.0->ipywidgets>=7.0.0->swifter>=1.0.3->nlp-profiler==0.0.1) (0.6.0)\n",
      "Requirement already satisfied: testpath in /home/satyasai/.local/lib/python3.7/site-packages (from nbconvert->notebook>=4.4.1->widgetsnbextension~=3.5.0->ipywidgets>=7.0.0->swifter>=1.0.3->nlp-profiler==0.0.1) (0.4.4)\n",
      "Building wheels for collected packages: nlp-profiler\n",
      "  Building wheel for nlp-profiler (PEP 517): started\n",
      "  Building wheel for nlp-profiler (PEP 517): finished with status 'done'\n",
      "  Created wheel for nlp-profiler: filename=nlp_profiler-0.0.1-py3-none-any.whl size=29416 sha256=b769eba7afbea360cb629dcd24ef6c9de10abc259fb385a4468d5604ea496463\n",
      "  Stored in directory: /tmp/pip-ephem-wheel-cache-jeig9e2v/wheels/c3/37/38/edb4b584186d5fd35cdc7b72765631b03c281241ea480af1fd\n",
      "Successfully built nlp-profiler\n",
      "Installing collected packages: nlp-profiler\n",
      "  Attempting uninstall: nlp-profiler\n",
      "    Found existing installation: nlp-profiler 0.0.1\n",
      "    Can't uninstall 'nlp-profiler'. No files were found to uninstall.\n",
      "Successfully installed nlp-profiler-0.0.1\n",
      "Once successfully installed, please RESTART your Jupyter kernels or Colab runtimes for the changes to take effect\n"
     ]
    },
    {
     "name": "stderr",
     "output_type": "stream",
     "text": [
      "WARNING: You are using pip version 20.1.1; however, version 20.2.3 is available.\n",
      "You should consider upgrading via the '/usr/local/bin/python3.7 -m pip install --upgrade pip' command.\n"
     ]
    }
   ],
   "source": [
    "%%bash\n",
    "\n",
    "# When running from inside this repo:\n",
    "cd ../..\n",
    "# python setup.py install\n",
    "# or\n",
    "\n",
    "pip install --prefix .\n",
    "\n",
    "# When running independently\n",
    "# pip install -U git+https://github.com/neomatrix369/nlp_profiler.git\n",
    "echo \"Once successfully installed, please RESTART your Jupyter kernels or Colab runtimes for the changes to take effect\""
   ]
  },
  {
   "cell_type": "code",
   "execution_count": 8,
   "metadata": {},
   "outputs": [
    {
     "name": "stderr",
     "output_type": "stream",
     "text": [
      "/anaconda3/lib/python3.7/site-packages/dask/dataframe/utils.py:14: FutureWarning: pandas.util.testing is deprecated. Use the functions in the public API at pandas.testing instead.\n",
      "  import pandas.util.testing as tm\n",
      "[nltk_data] Downloading package stopwords to /Users/swami/nltk_data...\n",
      "[nltk_data]   Package stopwords is already up-to-date!\n",
      "[nltk_data] Downloading package punkt to /Users/swami/nltk_data...\n",
      "[nltk_data]   Package punkt is already up-to-date!\n"
     ]
    }
   ],
   "source": [
    "import pandas as pd\n",
    "\n",
    "import sys\n",
    "sys.path.insert(0, '../..')\n",
    "\n",
    "from nlp_profiler.core import apply_text_profiling"
   ]
  },
  {
   "cell_type": "markdown",
   "metadata": {},
   "source": [
    "#### Text messages with Emojis, Numbers, Alphanumeric, None-alphanumeric, Punctuations, Dates and Duplicates"
   ]
  },
  {
   "cell_type": "code",
   "execution_count": 23,
   "metadata": {},
   "outputs": [
    {
     "name": "stdout",
     "output_type": "stream",
     "text": [
      "kaggle CLI and unzip command must be available or else the below commands won't work.\n",
      "Found googleplaystore_user_reviews.csv, proceeding further.\n"
     ]
    }
   ],
   "source": [
    "%%bash\n",
    "\n",
    "echo \"kaggle CLI and unzip command must be available or else the below commands won't work.\"\n",
    "CSV_FILENAME=\"googleplaystore_user_reviews.csv\"\n",
    "DATASETS_FOLDER=\"../../datasets\"\n",
    "TARGET_CSV_FILE=\"${DATASETS_FOLDER}/${CSV_FILENAME}\"\n",
    "\n",
    "if [[ -e \"${TARGET_CSV_FILE}\" ]]; then\n",
    "   echo \"Found ${CSV_FILENAME}, proceeding further.\"\n",
    "else\n",
    "   echo \"\"${TARGET_CSV_FILE}\" not found. Downloading ${CSV_FILENAME}, and then proceeding further\"\n",
    "   kaggle datasets download -f ${CSV_FILENAME}  --unzip lava18/google-play-store-apps --path ${DATASETS_FOLDER}\n",
    "   (cd ${DATASETS_FOLDER} && unzip ${CSV_FILENAME})\n",
    "fi"
   ]
  },
  {
   "cell_type": "code",
   "execution_count": 4,
   "metadata": {},
   "outputs": [],
   "source": [
    "import pandas as pd"
   ]
  },
  {
   "cell_type": "code",
   "execution_count": 5,
   "metadata": {},
   "outputs": [
    {
     "data": {
      "text/html": [
       "<div>\n",
       "<style scoped>\n",
       "    .dataframe tbody tr th:only-of-type {\n",
       "        vertical-align: middle;\n",
       "    }\n",
       "\n",
       "    .dataframe tbody tr th {\n",
       "        vertical-align: top;\n",
       "    }\n",
       "\n",
       "    .dataframe thead th {\n",
       "        text-align: right;\n",
       "    }\n",
       "</style>\n",
       "<table border=\"1\" class=\"dataframe\">\n",
       "  <thead>\n",
       "    <tr style=\"text-align: right;\">\n",
       "      <th></th>\n",
       "      <th>App</th>\n",
       "      <th>Translated_Review</th>\n",
       "      <th>Sentiment</th>\n",
       "      <th>Sentiment_Polarity</th>\n",
       "      <th>Sentiment_Subjectivity</th>\n",
       "    </tr>\n",
       "  </thead>\n",
       "  <tbody>\n",
       "    <tr>\n",
       "      <th>0</th>\n",
       "      <td>10 Best Foods for You</td>\n",
       "      <td>I like eat delicious food. That's I'm cooking ...</td>\n",
       "      <td>Positive</td>\n",
       "      <td>1.00</td>\n",
       "      <td>0.533333</td>\n",
       "    </tr>\n",
       "    <tr>\n",
       "      <th>1</th>\n",
       "      <td>10 Best Foods for You</td>\n",
       "      <td>This help eating healthy exercise regular basis</td>\n",
       "      <td>Positive</td>\n",
       "      <td>0.25</td>\n",
       "      <td>0.288462</td>\n",
       "    </tr>\n",
       "    <tr>\n",
       "      <th>2</th>\n",
       "      <td>10 Best Foods for You</td>\n",
       "      <td>NaN</td>\n",
       "      <td>NaN</td>\n",
       "      <td>NaN</td>\n",
       "      <td>NaN</td>\n",
       "    </tr>\n",
       "    <tr>\n",
       "      <th>3</th>\n",
       "      <td>10 Best Foods for You</td>\n",
       "      <td>Works great especially going grocery store</td>\n",
       "      <td>Positive</td>\n",
       "      <td>0.40</td>\n",
       "      <td>0.875000</td>\n",
       "    </tr>\n",
       "    <tr>\n",
       "      <th>4</th>\n",
       "      <td>10 Best Foods for You</td>\n",
       "      <td>Best idea us</td>\n",
       "      <td>Positive</td>\n",
       "      <td>1.00</td>\n",
       "      <td>0.300000</td>\n",
       "    </tr>\n",
       "    <tr>\n",
       "      <th>...</th>\n",
       "      <td>...</td>\n",
       "      <td>...</td>\n",
       "      <td>...</td>\n",
       "      <td>...</td>\n",
       "      <td>...</td>\n",
       "    </tr>\n",
       "    <tr>\n",
       "      <th>64290</th>\n",
       "      <td>Houzz Interior Design Ideas</td>\n",
       "      <td>NaN</td>\n",
       "      <td>NaN</td>\n",
       "      <td>NaN</td>\n",
       "      <td>NaN</td>\n",
       "    </tr>\n",
       "    <tr>\n",
       "      <th>64291</th>\n",
       "      <td>Houzz Interior Design Ideas</td>\n",
       "      <td>NaN</td>\n",
       "      <td>NaN</td>\n",
       "      <td>NaN</td>\n",
       "      <td>NaN</td>\n",
       "    </tr>\n",
       "    <tr>\n",
       "      <th>64292</th>\n",
       "      <td>Houzz Interior Design Ideas</td>\n",
       "      <td>NaN</td>\n",
       "      <td>NaN</td>\n",
       "      <td>NaN</td>\n",
       "      <td>NaN</td>\n",
       "    </tr>\n",
       "    <tr>\n",
       "      <th>64293</th>\n",
       "      <td>Houzz Interior Design Ideas</td>\n",
       "      <td>NaN</td>\n",
       "      <td>NaN</td>\n",
       "      <td>NaN</td>\n",
       "      <td>NaN</td>\n",
       "    </tr>\n",
       "    <tr>\n",
       "      <th>64294</th>\n",
       "      <td>Houzz Interior Design Ideas</td>\n",
       "      <td>NaN</td>\n",
       "      <td>NaN</td>\n",
       "      <td>NaN</td>\n",
       "      <td>NaN</td>\n",
       "    </tr>\n",
       "  </tbody>\n",
       "</table>\n",
       "<p>64295 rows × 5 columns</p>\n",
       "</div>"
      ],
      "text/plain": [
       "                               App  \\\n",
       "0            10 Best Foods for You   \n",
       "1            10 Best Foods for You   \n",
       "2            10 Best Foods for You   \n",
       "3            10 Best Foods for You   \n",
       "4            10 Best Foods for You   \n",
       "...                            ...   \n",
       "64290  Houzz Interior Design Ideas   \n",
       "64291  Houzz Interior Design Ideas   \n",
       "64292  Houzz Interior Design Ideas   \n",
       "64293  Houzz Interior Design Ideas   \n",
       "64294  Houzz Interior Design Ideas   \n",
       "\n",
       "                                       Translated_Review Sentiment  \\\n",
       "0      I like eat delicious food. That's I'm cooking ...  Positive   \n",
       "1        This help eating healthy exercise regular basis  Positive   \n",
       "2                                                    NaN       NaN   \n",
       "3             Works great especially going grocery store  Positive   \n",
       "4                                           Best idea us  Positive   \n",
       "...                                                  ...       ...   \n",
       "64290                                                NaN       NaN   \n",
       "64291                                                NaN       NaN   \n",
       "64292                                                NaN       NaN   \n",
       "64293                                                NaN       NaN   \n",
       "64294                                                NaN       NaN   \n",
       "\n",
       "       Sentiment_Polarity  Sentiment_Subjectivity  \n",
       "0                    1.00                0.533333  \n",
       "1                    0.25                0.288462  \n",
       "2                     NaN                     NaN  \n",
       "3                    0.40                0.875000  \n",
       "4                    1.00                0.300000  \n",
       "...                   ...                     ...  \n",
       "64290                 NaN                     NaN  \n",
       "64291                 NaN                     NaN  \n",
       "64292                 NaN                     NaN  \n",
       "64293                 NaN                     NaN  \n",
       "64294                 NaN                     NaN  \n",
       "\n",
       "[64295 rows x 5 columns]"
      ]
     },
     "execution_count": 5,
     "metadata": {},
     "output_type": "execute_result"
    }
   ],
   "source": [
    "text_dataframe = pd.read_csv('../../datasets/googleplaystore_user_reviews.csv')\n",
    "text_dataframe"
   ]
  },
  {
   "cell_type": "markdown",
   "metadata": {},
   "source": [
    "## Pandas describe() function"
   ]
  },
  {
   "cell_type": "code",
   "execution_count": 6,
   "metadata": {},
   "outputs": [
    {
     "data": {
      "text/html": [
       "<div>\n",
       "<style scoped>\n",
       "    .dataframe tbody tr th:only-of-type {\n",
       "        vertical-align: middle;\n",
       "    }\n",
       "\n",
       "    .dataframe tbody tr th {\n",
       "        vertical-align: top;\n",
       "    }\n",
       "\n",
       "    .dataframe thead th {\n",
       "        text-align: right;\n",
       "    }\n",
       "</style>\n",
       "<table border=\"1\" class=\"dataframe\">\n",
       "  <thead>\n",
       "    <tr style=\"text-align: right;\">\n",
       "      <th></th>\n",
       "      <th>Sentiment_Polarity</th>\n",
       "      <th>Sentiment_Subjectivity</th>\n",
       "    </tr>\n",
       "  </thead>\n",
       "  <tbody>\n",
       "    <tr>\n",
       "      <th>count</th>\n",
       "      <td>37432.000000</td>\n",
       "      <td>37432.000000</td>\n",
       "    </tr>\n",
       "    <tr>\n",
       "      <th>mean</th>\n",
       "      <td>0.182146</td>\n",
       "      <td>0.492704</td>\n",
       "    </tr>\n",
       "    <tr>\n",
       "      <th>std</th>\n",
       "      <td>0.351301</td>\n",
       "      <td>0.259949</td>\n",
       "    </tr>\n",
       "    <tr>\n",
       "      <th>min</th>\n",
       "      <td>-1.000000</td>\n",
       "      <td>0.000000</td>\n",
       "    </tr>\n",
       "    <tr>\n",
       "      <th>25%</th>\n",
       "      <td>0.000000</td>\n",
       "      <td>0.357143</td>\n",
       "    </tr>\n",
       "    <tr>\n",
       "      <th>50%</th>\n",
       "      <td>0.150000</td>\n",
       "      <td>0.514286</td>\n",
       "    </tr>\n",
       "    <tr>\n",
       "      <th>75%</th>\n",
       "      <td>0.400000</td>\n",
       "      <td>0.650000</td>\n",
       "    </tr>\n",
       "    <tr>\n",
       "      <th>max</th>\n",
       "      <td>1.000000</td>\n",
       "      <td>1.000000</td>\n",
       "    </tr>\n",
       "  </tbody>\n",
       "</table>\n",
       "</div>"
      ],
      "text/plain": [
       "       Sentiment_Polarity  Sentiment_Subjectivity\n",
       "count        37432.000000            37432.000000\n",
       "mean             0.182146                0.492704\n",
       "std              0.351301                0.259949\n",
       "min             -1.000000                0.000000\n",
       "25%              0.000000                0.357143\n",
       "50%              0.150000                0.514286\n",
       "75%              0.400000                0.650000\n",
       "max              1.000000                1.000000"
      ]
     },
     "execution_count": 6,
     "metadata": {},
     "output_type": "execute_result"
    }
   ],
   "source": [
    "text_dataframe.describe()"
   ]
  },
  {
   "cell_type": "markdown",
   "metadata": {},
   "source": [
    "## NLP profiler's equivalent to that"
   ]
  },
  {
   "cell_type": "code",
   "execution_count": 24,
   "metadata": {},
   "outputs": [
    {
     "name": "stdout",
     "output_type": "stream",
     "text": [
      "final params: {'high_level': True, 'granular': True, 'grammar_check': False, 'spelling_check': True, 'parallelisation_method': 'default', 'parallelism_method': 'default'}\n"
     ]
    },
    {
     "data": {
      "application/vnd.jupyter.widget-view+json": {
       "model_id": "6b94930e95574184ae384f77349dbdc1",
       "version_major": 2,
       "version_minor": 0
      },
      "text/plain": [
       "HBox(children=(FloatProgress(value=0.0, layout=Layout(flex='2'), max=3.0), HTML(value='')), layout=Layout(disp…"
      ]
     },
     "metadata": {},
     "output_type": "display_data"
    },
    {
     "data": {
      "application/vnd.jupyter.widget-view+json": {
       "model_id": "65d70563d3114390a7739dc00dc841dc",
       "version_major": 2,
       "version_minor": 0
      },
      "text/plain": [
       "HBox(children=(FloatProgress(value=0.0, layout=Layout(flex='2'), max=13.0), HTML(value='')), layout=Layout(dis…"
      ]
     },
     "metadata": {},
     "output_type": "display_data"
    },
    {
     "data": {
      "application/vnd.jupyter.widget-view+json": {
       "model_id": "30cc6ae91f4f43c78593d1a1951e44a0",
       "version_major": 2,
       "version_minor": 0
      },
      "text/plain": [
       "HBox(children=(FloatProgress(value=0.0, layout=Layout(flex='2'), max=64295.0), HTML(value='')), layout=Layout(…"
      ]
     },
     "metadata": {},
     "output_type": "display_data"
    },
    {
     "name": "stdout",
     "output_type": "stream",
     "text": [
      "\n",
      "\n"
     ]
    },
    {
     "ename": "KeyboardInterrupt",
     "evalue": "",
     "output_type": "error",
     "traceback": [
      "\u001b[0;31m---------------------------------------------------------------------------\u001b[0m",
      "\u001b[0;31mKeyboardInterrupt\u001b[0m                         Traceback (most recent call last)",
      "\u001b[0;32m<timed exec>\u001b[0m in \u001b[0;36m<module>\u001b[0;34m\u001b[0m\n",
      "\u001b[0;32m~/git-repos/ai-ml-dl-stuff/nlp_profiler/nlp_profiler/core.py\u001b[0m in \u001b[0;36mapply_text_profiling\u001b[0;34m(dataframe, text_column, params)\u001b[0m\n\u001b[1;32m     98\u001b[0m         action_function(\n\u001b[1;32m     99\u001b[0m             \u001b[0maction_description\u001b[0m\u001b[0;34m,\u001b[0m \u001b[0mnew_dataframe\u001b[0m\u001b[0;34m,\u001b[0m\u001b[0;34m\u001b[0m\u001b[0;34m\u001b[0m\u001b[0m\n\u001b[0;32m--> 100\u001b[0;31m             \u001b[0mtext_column\u001b[0m\u001b[0;34m,\u001b[0m \u001b[0mdefault_params\u001b[0m\u001b[0;34m[\u001b[0m\u001b[0mPARALLELISATION_METHOD\u001b[0m\u001b[0;34m]\u001b[0m\u001b[0;34m\u001b[0m\u001b[0;34m\u001b[0m\u001b[0m\n\u001b[0m\u001b[1;32m    101\u001b[0m         )\n\u001b[1;32m    102\u001b[0m \u001b[0;34m\u001b[0m\u001b[0m\n",
      "\u001b[0;32m~/git-repos/ai-ml-dl-stuff/nlp_profiler/nlp_profiler/core.py\u001b[0m in \u001b[0;36mapply_granular_features\u001b[0;34m(heading, new_dataframe, text_column, parallelisation_method)\u001b[0m\n\u001b[1;32m    125\u001b[0m     generate_features(\n\u001b[1;32m    126\u001b[0m         \u001b[0mheading\u001b[0m\u001b[0;34m,\u001b[0m \u001b[0mgranular_features_steps\u001b[0m\u001b[0;34m,\u001b[0m\u001b[0;34m\u001b[0m\u001b[0;34m\u001b[0m\u001b[0m\n\u001b[0;32m--> 127\u001b[0;31m         \u001b[0mnew_dataframe\u001b[0m\u001b[0;34m,\u001b[0m \u001b[0mparallelisation_method\u001b[0m\u001b[0;34m\u001b[0m\u001b[0;34m\u001b[0m\u001b[0m\n\u001b[0m\u001b[1;32m    128\u001b[0m     )\n\u001b[1;32m    129\u001b[0m \u001b[0;34m\u001b[0m\u001b[0m\n",
      "\u001b[0;32m~/git-repos/ai-ml-dl-stuff/nlp_profiler/nlp_profiler/core.py\u001b[0m in \u001b[0;36mgenerate_features\u001b[0;34m(main_header, high_level_features_steps, new_dataframe, parallelisation_method)\u001b[0m\n\u001b[1;32m    206\u001b[0m         new_dataframe[new_column] = parallelisation_method_function(\n\u001b[1;32m    207\u001b[0m             \u001b[0msource_field\u001b[0m\u001b[0;34m,\u001b[0m \u001b[0mtransformation_function\u001b[0m\u001b[0;34m,\u001b[0m\u001b[0;34m\u001b[0m\u001b[0;34m\u001b[0m\u001b[0m\n\u001b[0;32m--> 208\u001b[0;31m             \u001b[0msource_column\u001b[0m\u001b[0;34m,\u001b[0m \u001b[0mnew_column\u001b[0m\u001b[0;34m\u001b[0m\u001b[0;34m\u001b[0m\u001b[0m\n\u001b[0m\u001b[1;32m    209\u001b[0m         )\n\u001b[1;32m    210\u001b[0m \u001b[0;34m\u001b[0m\u001b[0m\n",
      "\u001b[0;32m~/git-repos/ai-ml-dl-stuff/nlp_profiler/nlp_profiler/core.py\u001b[0m in \u001b[0;36musing_joblib_parallel\u001b[0;34m(source_field, apply_function, source_column, new_column)\u001b[0m\n\u001b[1;32m    180\u001b[0m         delayed(run_task)(\n\u001b[1;32m    181\u001b[0m             \u001b[0mapply_function\u001b[0m\u001b[0;34m,\u001b[0m \u001b[0meach_value\u001b[0m\u001b[0;34m\u001b[0m\u001b[0;34m\u001b[0m\u001b[0m\n\u001b[0;32m--> 182\u001b[0;31m         ) for _, each_value in enumerate(source_values_to_transform)\n\u001b[0m\u001b[1;32m    183\u001b[0m     )\n\u001b[1;32m    184\u001b[0m     \u001b[0msource_values_to_transform\u001b[0m\u001b[0;34m.\u001b[0m\u001b[0mupdate\u001b[0m\u001b[0;34m(\u001b[0m\u001b[0;34m)\u001b[0m\u001b[0;34m\u001b[0m\u001b[0;34m\u001b[0m\u001b[0m\n",
      "\u001b[0;32m~/.local/lib/python3.7/site-packages/joblib/parallel.py\u001b[0m in \u001b[0;36m__call__\u001b[0;34m(self, iterable)\u001b[0m\n\u001b[1;32m   1015\u001b[0m \u001b[0;34m\u001b[0m\u001b[0m\n\u001b[1;32m   1016\u001b[0m             \u001b[0;32mwith\u001b[0m \u001b[0mself\u001b[0m\u001b[0;34m.\u001b[0m\u001b[0m_backend\u001b[0m\u001b[0;34m.\u001b[0m\u001b[0mretrieval_context\u001b[0m\u001b[0;34m(\u001b[0m\u001b[0;34m)\u001b[0m\u001b[0;34m:\u001b[0m\u001b[0;34m\u001b[0m\u001b[0;34m\u001b[0m\u001b[0m\n\u001b[0;32m-> 1017\u001b[0;31m                 \u001b[0mself\u001b[0m\u001b[0;34m.\u001b[0m\u001b[0mretrieve\u001b[0m\u001b[0;34m(\u001b[0m\u001b[0;34m)\u001b[0m\u001b[0;34m\u001b[0m\u001b[0;34m\u001b[0m\u001b[0m\n\u001b[0m\u001b[1;32m   1018\u001b[0m             \u001b[0;31m# Make sure that we get a last message telling us we are done\u001b[0m\u001b[0;34m\u001b[0m\u001b[0;34m\u001b[0m\u001b[0;34m\u001b[0m\u001b[0m\n\u001b[1;32m   1019\u001b[0m             \u001b[0melapsed_time\u001b[0m \u001b[0;34m=\u001b[0m \u001b[0mtime\u001b[0m\u001b[0;34m.\u001b[0m\u001b[0mtime\u001b[0m\u001b[0;34m(\u001b[0m\u001b[0;34m)\u001b[0m \u001b[0;34m-\u001b[0m \u001b[0mself\u001b[0m\u001b[0;34m.\u001b[0m\u001b[0m_start_time\u001b[0m\u001b[0;34m\u001b[0m\u001b[0;34m\u001b[0m\u001b[0m\n",
      "\u001b[0;32m~/.local/lib/python3.7/site-packages/joblib/parallel.py\u001b[0m in \u001b[0;36mretrieve\u001b[0;34m(self)\u001b[0m\n\u001b[1;32m    907\u001b[0m             \u001b[0;32mtry\u001b[0m\u001b[0;34m:\u001b[0m\u001b[0;34m\u001b[0m\u001b[0;34m\u001b[0m\u001b[0m\n\u001b[1;32m    908\u001b[0m                 \u001b[0;32mif\u001b[0m \u001b[0mgetattr\u001b[0m\u001b[0;34m(\u001b[0m\u001b[0mself\u001b[0m\u001b[0;34m.\u001b[0m\u001b[0m_backend\u001b[0m\u001b[0;34m,\u001b[0m \u001b[0;34m'supports_timeout'\u001b[0m\u001b[0;34m,\u001b[0m \u001b[0;32mFalse\u001b[0m\u001b[0;34m)\u001b[0m\u001b[0;34m:\u001b[0m\u001b[0;34m\u001b[0m\u001b[0;34m\u001b[0m\u001b[0m\n\u001b[0;32m--> 909\u001b[0;31m                     \u001b[0mself\u001b[0m\u001b[0;34m.\u001b[0m\u001b[0m_output\u001b[0m\u001b[0;34m.\u001b[0m\u001b[0mextend\u001b[0m\u001b[0;34m(\u001b[0m\u001b[0mjob\u001b[0m\u001b[0;34m.\u001b[0m\u001b[0mget\u001b[0m\u001b[0;34m(\u001b[0m\u001b[0mtimeout\u001b[0m\u001b[0;34m=\u001b[0m\u001b[0mself\u001b[0m\u001b[0;34m.\u001b[0m\u001b[0mtimeout\u001b[0m\u001b[0;34m)\u001b[0m\u001b[0;34m)\u001b[0m\u001b[0;34m\u001b[0m\u001b[0;34m\u001b[0m\u001b[0m\n\u001b[0m\u001b[1;32m    910\u001b[0m                 \u001b[0;32melse\u001b[0m\u001b[0;34m:\u001b[0m\u001b[0;34m\u001b[0m\u001b[0;34m\u001b[0m\u001b[0m\n\u001b[1;32m    911\u001b[0m                     \u001b[0mself\u001b[0m\u001b[0;34m.\u001b[0m\u001b[0m_output\u001b[0m\u001b[0;34m.\u001b[0m\u001b[0mextend\u001b[0m\u001b[0;34m(\u001b[0m\u001b[0mjob\u001b[0m\u001b[0;34m.\u001b[0m\u001b[0mget\u001b[0m\u001b[0;34m(\u001b[0m\u001b[0;34m)\u001b[0m\u001b[0;34m)\u001b[0m\u001b[0;34m\u001b[0m\u001b[0;34m\u001b[0m\u001b[0m\n",
      "\u001b[0;32m~/.local/lib/python3.7/site-packages/joblib/_parallel_backends.py\u001b[0m in \u001b[0;36mwrap_future_result\u001b[0;34m(future, timeout)\u001b[0m\n\u001b[1;32m    560\u001b[0m         AsyncResults.get from multiprocessing.\"\"\"\n\u001b[1;32m    561\u001b[0m         \u001b[0;32mtry\u001b[0m\u001b[0;34m:\u001b[0m\u001b[0;34m\u001b[0m\u001b[0;34m\u001b[0m\u001b[0m\n\u001b[0;32m--> 562\u001b[0;31m             \u001b[0;32mreturn\u001b[0m \u001b[0mfuture\u001b[0m\u001b[0;34m.\u001b[0m\u001b[0mresult\u001b[0m\u001b[0;34m(\u001b[0m\u001b[0mtimeout\u001b[0m\u001b[0;34m=\u001b[0m\u001b[0mtimeout\u001b[0m\u001b[0;34m)\u001b[0m\u001b[0;34m\u001b[0m\u001b[0;34m\u001b[0m\u001b[0m\n\u001b[0m\u001b[1;32m    563\u001b[0m         \u001b[0;32mexcept\u001b[0m \u001b[0mLokyTimeoutError\u001b[0m\u001b[0;34m:\u001b[0m\u001b[0;34m\u001b[0m\u001b[0;34m\u001b[0m\u001b[0m\n\u001b[1;32m    564\u001b[0m             \u001b[0;32mraise\u001b[0m \u001b[0mTimeoutError\u001b[0m\u001b[0;34m(\u001b[0m\u001b[0;34m)\u001b[0m\u001b[0;34m\u001b[0m\u001b[0;34m\u001b[0m\u001b[0m\n",
      "\u001b[0;32m/anaconda3/lib/python3.7/concurrent/futures/_base.py\u001b[0m in \u001b[0;36mresult\u001b[0;34m(self, timeout)\u001b[0m\n\u001b[1;32m    425\u001b[0m                 \u001b[0;32mreturn\u001b[0m \u001b[0mself\u001b[0m\u001b[0;34m.\u001b[0m\u001b[0m__get_result\u001b[0m\u001b[0;34m(\u001b[0m\u001b[0;34m)\u001b[0m\u001b[0;34m\u001b[0m\u001b[0;34m\u001b[0m\u001b[0m\n\u001b[1;32m    426\u001b[0m \u001b[0;34m\u001b[0m\u001b[0m\n\u001b[0;32m--> 427\u001b[0;31m             \u001b[0mself\u001b[0m\u001b[0;34m.\u001b[0m\u001b[0m_condition\u001b[0m\u001b[0;34m.\u001b[0m\u001b[0mwait\u001b[0m\u001b[0;34m(\u001b[0m\u001b[0mtimeout\u001b[0m\u001b[0;34m)\u001b[0m\u001b[0;34m\u001b[0m\u001b[0;34m\u001b[0m\u001b[0m\n\u001b[0m\u001b[1;32m    428\u001b[0m \u001b[0;34m\u001b[0m\u001b[0m\n\u001b[1;32m    429\u001b[0m             \u001b[0;32mif\u001b[0m \u001b[0mself\u001b[0m\u001b[0;34m.\u001b[0m\u001b[0m_state\u001b[0m \u001b[0;32min\u001b[0m \u001b[0;34m[\u001b[0m\u001b[0mCANCELLED\u001b[0m\u001b[0;34m,\u001b[0m \u001b[0mCANCELLED_AND_NOTIFIED\u001b[0m\u001b[0;34m]\u001b[0m\u001b[0;34m:\u001b[0m\u001b[0;34m\u001b[0m\u001b[0;34m\u001b[0m\u001b[0m\n",
      "\u001b[0;32m/anaconda3/lib/python3.7/threading.py\u001b[0m in \u001b[0;36mwait\u001b[0;34m(self, timeout)\u001b[0m\n\u001b[1;32m    294\u001b[0m         \u001b[0;32mtry\u001b[0m\u001b[0;34m:\u001b[0m    \u001b[0;31m# restore state no matter what (e.g., KeyboardInterrupt)\u001b[0m\u001b[0;34m\u001b[0m\u001b[0;34m\u001b[0m\u001b[0m\n\u001b[1;32m    295\u001b[0m             \u001b[0;32mif\u001b[0m \u001b[0mtimeout\u001b[0m \u001b[0;32mis\u001b[0m \u001b[0;32mNone\u001b[0m\u001b[0;34m:\u001b[0m\u001b[0;34m\u001b[0m\u001b[0;34m\u001b[0m\u001b[0m\n\u001b[0;32m--> 296\u001b[0;31m                 \u001b[0mwaiter\u001b[0m\u001b[0;34m.\u001b[0m\u001b[0macquire\u001b[0m\u001b[0;34m(\u001b[0m\u001b[0;34m)\u001b[0m\u001b[0;34m\u001b[0m\u001b[0;34m\u001b[0m\u001b[0m\n\u001b[0m\u001b[1;32m    297\u001b[0m                 \u001b[0mgotit\u001b[0m \u001b[0;34m=\u001b[0m \u001b[0;32mTrue\u001b[0m\u001b[0;34m\u001b[0m\u001b[0;34m\u001b[0m\u001b[0m\n\u001b[1;32m    298\u001b[0m             \u001b[0;32melse\u001b[0m\u001b[0;34m:\u001b[0m\u001b[0;34m\u001b[0m\u001b[0;34m\u001b[0m\u001b[0m\n",
      "\u001b[0;31mKeyboardInterrupt\u001b[0m: "
     ]
    }
   ],
   "source": [
    "%%time\n",
    "profiled_text_dataframe = apply_text_profiling(text_dataframe, 'Translated_Review', params={'parallelism_method': 'default'})"
   ]
  },
  {
   "cell_type": "code",
   "execution_count": 25,
   "metadata": {},
   "outputs": [
    {
     "ename": "NameError",
     "evalue": "name 'profiled_text_dataframe' is not defined",
     "output_type": "error",
     "traceback": [
      "\u001b[0;31m---------------------------------------------------------------------------\u001b[0m",
      "\u001b[0;31mNameError\u001b[0m                                 Traceback (most recent call last)",
      "\u001b[0;32m<ipython-input-25-26d9d389c392>\u001b[0m in \u001b[0;36m<module>\u001b[0;34m\u001b[0m\n\u001b[0;32m----> 1\u001b[0;31m \u001b[0mprofiled_text_dataframe\u001b[0m\u001b[0;34m.\u001b[0m\u001b[0mhead\u001b[0m\u001b[0;34m(\u001b[0m\u001b[0;34m)\u001b[0m\u001b[0;34m\u001b[0m\u001b[0;34m\u001b[0m\u001b[0m\n\u001b[0m",
      "\u001b[0;31mNameError\u001b[0m: name 'profiled_text_dataframe' is not defined"
     ]
    }
   ],
   "source": [
    "profiled_text_dataframe.head()"
   ]
  },
  {
   "cell_type": "code",
   "execution_count": null,
   "metadata": {},
   "outputs": [],
   "source": [
    "%%time\n",
    "profiled_text_dataframe = apply_text_profiling(text_dataframe, 'Translated_Review', params={'parallelism_method': 'using_swifter'})\n",
    "profiled_text_dataframe.head()"
   ]
  },
  {
   "cell_type": "markdown",
   "metadata": {},
   "source": [
    "### Sentiment Analysis"
   ]
  },
  {
   "cell_type": "code",
   "execution_count": null,
   "metadata": {},
   "outputs": [],
   "source": [
    "profiled_text_dataframe['sentiment_polarity'].hist()"
   ]
  },
  {
   "cell_type": "code",
   "execution_count": null,
   "metadata": {},
   "outputs": [],
   "source": [
    "profiled_text_dataframe['sentiment_subjectivity'].hist()"
   ]
  },
  {
   "cell_type": "markdown",
   "metadata": {},
   "source": [
    "### Spelling quality check"
   ]
  },
  {
   "cell_type": "markdown",
   "metadata": {},
   "source": [
    "#### The spelling score and spelling quality check is upto 70% accurate, it's using Peter Norvig’s “How to Write a Spelling Corrector\"."
   ]
  },
  {
   "cell_type": "code",
   "execution_count": null,
   "metadata": {},
   "outputs": [],
   "source": [
    "profiled_text_dataframe['spelling_quality_score'].hist()"
   ]
  },
  {
   "cell_type": "code",
   "execution_count": null,
   "metadata": {},
   "outputs": [],
   "source": [
    "profiled_text_dataframe['spelling_quality'].hist()"
   ]
  },
  {
   "cell_type": "markdown",
   "metadata": {},
   "source": [
    "### Running describe() on the new NLP profiler generated dataframe"
   ]
  },
  {
   "cell_type": "code",
   "execution_count": null,
   "metadata": {},
   "outputs": [],
   "source": [
    "profiled_text_dataframe.describe()"
   ]
  },
  {
   "cell_type": "markdown",
   "metadata": {},
   "source": [
    "### Resources\n",
    "\n",
    "- https://www.kaggle.com/raenish/cheatsheet-text-helper-functions\n",
    "- https://textblob.readthedocs.io/en/dev/quickstart.html\n",
    "- [Approaching (Almost) Any NLP Problem on Kaggle](https://www.kaggle.com/abhishek/approaching-almost-any-nlp-problem-on-kaggle)\n",
    "- [Words of estimative probability](https://en.wikipedia.org/wiki/Words_of_estimative_probability)\n",
    "- [NLP Profiler source file](https://github.com/neomatrix369/awesome-ai-ml-dl/blob/master/examples/better-nlp/library/org/neomatrix369/nlp_profiler.py)\n",
    "- [Kaggle Utility script](https://www.kaggle.com/neomatrix369/nlp-profiler-class)\n",
    "- [Kaggle kernel](https://www.kaggle.com/neomatrix369/nlp-profiler-simple-dataset)\n",
    "- [Awesome AI-ML-DL: Better NLP library](https://bit.ly/better-nlp-launch)\n",
    "- [Awesome AI-ML-DL: NLP Resources](https://github.com/neomatrix369/awesome-ai-ml-dl/tree/master/natural-language-processing)\n",
    "- [Awesome AI-ML-DL Github](https://github.com/neomatrix369/awesome-ai-ml-dl/blob/)"
   ]
  }
 ],
 "metadata": {
  "kernelspec": {
   "display_name": "Python 3",
   "language": "python",
   "name": "python3"
  },
  "language_info": {
   "codemirror_mode": {
    "name": "ipython",
    "version": 3
   },
   "file_extension": ".py",
   "mimetype": "text/x-python",
   "name": "python",
   "nbconvert_exporter": "python",
   "pygments_lexer": "ipython3",
   "version": "3.7.2"
  }
 },
 "nbformat": 4,
 "nbformat_minor": 4
}
