{
 "cells": [
  {
   "cell_type": "code",
   "execution_count": 1,
   "metadata": {},
   "outputs": [
    {
     "name": "stdout",
     "output_type": "stream",
     "text": [
      "running install\n",
      "running bdist_egg\n",
      "running egg_info\n",
      "writing nlp_profiler.egg-info/PKG-INFO\n",
      "writing dependency_links to nlp_profiler.egg-info/dependency_links.txt\n",
      "writing requirements to nlp_profiler.egg-info/requires.txt\n",
      "writing top-level names to nlp_profiler.egg-info/top_level.txt\n",
      "reading manifest file 'nlp_profiler.egg-info/SOURCES.txt'\n",
      "writing manifest file 'nlp_profiler.egg-info/SOURCES.txt'\n",
      "installing library code to build/bdist.macosx-10.7-x86_64/egg\n",
      "running install_lib\n",
      "running build_py\n",
      "copying nlp_profiler/core.py -> build/lib/nlp_profiler\n",
      "copying tests/acceptance_tests/test_apply_text_profiling.py -> build/lib/tests/acceptance_tests\n",
      "creating build/bdist.macosx-10.7-x86_64/egg\n",
      "creating build/bdist.macosx-10.7-x86_64/egg/nlp_profiler\n",
      "copying build/lib/nlp_profiler/__init__.py -> build/bdist.macosx-10.7-x86_64/egg/nlp_profiler\n",
      "copying build/lib/nlp_profiler/core.py -> build/bdist.macosx-10.7-x86_64/egg/nlp_profiler\n",
      "creating build/bdist.macosx-10.7-x86_64/egg/slow_tests\n",
      "creating build/bdist.macosx-10.7-x86_64/egg/slow_tests/acceptance_tests\n",
      "copying build/lib/slow_tests/acceptance_tests/__init__.py -> build/bdist.macosx-10.7-x86_64/egg/slow_tests/acceptance_tests\n",
      "copying build/lib/slow_tests/acceptance_tests/test_apply_text_profiling.py -> build/bdist.macosx-10.7-x86_64/egg/slow_tests/acceptance_tests\n",
      "copying build/lib/slow_tests/__init__.py -> build/bdist.macosx-10.7-x86_64/egg/slow_tests\n",
      "creating build/bdist.macosx-10.7-x86_64/egg/slow_tests/high_level\n",
      "copying build/lib/slow_tests/high_level/__init__.py -> build/bdist.macosx-10.7-x86_64/egg/slow_tests/high_level\n",
      "copying build/lib/slow_tests/high_level/test_grammar_check.py -> build/bdist.macosx-10.7-x86_64/egg/slow_tests/high_level\n",
      "creating build/bdist.macosx-10.7-x86_64/egg/tests\n",
      "creating build/bdist.macosx-10.7-x86_64/egg/tests/granular\n",
      "copying build/lib/tests/granular/test_chars_and_spaces.py -> build/bdist.macosx-10.7-x86_64/egg/tests/granular\n",
      "copying build/lib/tests/granular/test_alphanumeric.py -> build/bdist.macosx-10.7-x86_64/egg/tests/granular\n",
      "copying build/lib/tests/granular/test_stop_words.py -> build/bdist.macosx-10.7-x86_64/egg/tests/granular\n",
      "copying build/lib/tests/granular/test_non_alphanumeric.py -> build/bdist.macosx-10.7-x86_64/egg/tests/granular\n",
      "copying build/lib/tests/granular/test_words.py -> build/bdist.macosx-10.7-x86_64/egg/tests/granular\n",
      "copying build/lib/tests/granular/test_dates.py -> build/bdist.macosx-10.7-x86_64/egg/tests/granular\n",
      "copying build/lib/tests/granular/test_numbers.py -> build/bdist.macosx-10.7-x86_64/egg/tests/granular\n",
      "copying build/lib/tests/granular/__init__.py -> build/bdist.macosx-10.7-x86_64/egg/tests/granular\n",
      "copying build/lib/tests/granular/test_sentences.py -> build/bdist.macosx-10.7-x86_64/egg/tests/granular\n",
      "copying build/lib/tests/granular/test_duplicates.py -> build/bdist.macosx-10.7-x86_64/egg/tests/granular\n",
      "copying build/lib/tests/granular/test_punctuations.py -> build/bdist.macosx-10.7-x86_64/egg/tests/granular\n",
      "copying build/lib/tests/granular/test_emojis.py -> build/bdist.macosx-10.7-x86_64/egg/tests/granular\n",
      "creating build/bdist.macosx-10.7-x86_64/egg/tests/acceptance_tests\n",
      "copying build/lib/tests/acceptance_tests/__init__.py -> build/bdist.macosx-10.7-x86_64/egg/tests/acceptance_tests\n",
      "copying build/lib/tests/acceptance_tests/test_apply_text_profiling.py -> build/bdist.macosx-10.7-x86_64/egg/tests/acceptance_tests\n",
      "copying build/lib/tests/__init__.py -> build/bdist.macosx-10.7-x86_64/egg/tests\n",
      "creating build/bdist.macosx-10.7-x86_64/egg/tests/high_level\n",
      "copying build/lib/tests/high_level/test_sentiment_polarity.py -> build/bdist.macosx-10.7-x86_64/egg/tests/high_level\n",
      "copying build/lib/tests/high_level/test_sentiment_subjectivity.py -> build/bdist.macosx-10.7-x86_64/egg/tests/high_level\n",
      "copying build/lib/tests/high_level/__init__.py -> build/bdist.macosx-10.7-x86_64/egg/tests/high_level\n",
      "copying build/lib/tests/high_level/test_spelling_check.py -> build/bdist.macosx-10.7-x86_64/egg/tests/high_level\n",
      "byte-compiling build/bdist.macosx-10.7-x86_64/egg/nlp_profiler/__init__.py to __init__.cpython-37.pyc\n",
      "byte-compiling build/bdist.macosx-10.7-x86_64/egg/nlp_profiler/core.py to core.cpython-37.pyc\n",
      "byte-compiling build/bdist.macosx-10.7-x86_64/egg/slow_tests/acceptance_tests/__init__.py to __init__.cpython-37.pyc\n",
      "byte-compiling build/bdist.macosx-10.7-x86_64/egg/slow_tests/acceptance_tests/test_apply_text_profiling.py to test_apply_text_profiling.cpython-37.pyc\n",
      "byte-compiling build/bdist.macosx-10.7-x86_64/egg/slow_tests/__init__.py to __init__.cpython-37.pyc\n",
      "byte-compiling build/bdist.macosx-10.7-x86_64/egg/slow_tests/high_level/__init__.py to __init__.cpython-37.pyc\n",
      "byte-compiling build/bdist.macosx-10.7-x86_64/egg/slow_tests/high_level/test_grammar_check.py to test_grammar_check.cpython-37.pyc\n",
      "byte-compiling build/bdist.macosx-10.7-x86_64/egg/tests/granular/test_chars_and_spaces.py to test_chars_and_spaces.cpython-37.pyc\n",
      "byte-compiling build/bdist.macosx-10.7-x86_64/egg/tests/granular/test_alphanumeric.py to test_alphanumeric.cpython-37.pyc\n",
      "byte-compiling build/bdist.macosx-10.7-x86_64/egg/tests/granular/test_stop_words.py to test_stop_words.cpython-37.pyc\n",
      "byte-compiling build/bdist.macosx-10.7-x86_64/egg/tests/granular/test_non_alphanumeric.py to test_non_alphanumeric.cpython-37.pyc\n",
      "byte-compiling build/bdist.macosx-10.7-x86_64/egg/tests/granular/test_words.py to test_words.cpython-37.pyc\n",
      "byte-compiling build/bdist.macosx-10.7-x86_64/egg/tests/granular/test_dates.py to test_dates.cpython-37.pyc\n",
      "byte-compiling build/bdist.macosx-10.7-x86_64/egg/tests/granular/test_numbers.py to test_numbers.cpython-37.pyc\n",
      "byte-compiling build/bdist.macosx-10.7-x86_64/egg/tests/granular/__init__.py to __init__.cpython-37.pyc\n",
      "byte-compiling build/bdist.macosx-10.7-x86_64/egg/tests/granular/test_sentences.py to test_sentences.cpython-37.pyc\n",
      "byte-compiling build/bdist.macosx-10.7-x86_64/egg/tests/granular/test_duplicates.py to test_duplicates.cpython-37.pyc\n",
      "byte-compiling build/bdist.macosx-10.7-x86_64/egg/tests/granular/test_punctuations.py to test_punctuations.cpython-37.pyc\n",
      "byte-compiling build/bdist.macosx-10.7-x86_64/egg/tests/granular/test_emojis.py to test_emojis.cpython-37.pyc\n",
      "byte-compiling build/bdist.macosx-10.7-x86_64/egg/tests/acceptance_tests/__init__.py to __init__.cpython-37.pyc\n",
      "byte-compiling build/bdist.macosx-10.7-x86_64/egg/tests/acceptance_tests/test_apply_text_profiling.py to test_apply_text_profiling.cpython-37.pyc\n",
      "byte-compiling build/bdist.macosx-10.7-x86_64/egg/tests/__init__.py to __init__.cpython-37.pyc\n",
      "byte-compiling build/bdist.macosx-10.7-x86_64/egg/tests/high_level/test_sentiment_polarity.py to test_sentiment_polarity.cpython-37.pyc\n",
      "byte-compiling build/bdist.macosx-10.7-x86_64/egg/tests/high_level/test_sentiment_subjectivity.py to test_sentiment_subjectivity.cpython-37.pyc\n",
      "byte-compiling build/bdist.macosx-10.7-x86_64/egg/tests/high_level/__init__.py to __init__.cpython-37.pyc\n",
      "byte-compiling build/bdist.macosx-10.7-x86_64/egg/tests/high_level/test_spelling_check.py to test_spelling_check.cpython-37.pyc\n",
      "creating build/bdist.macosx-10.7-x86_64/egg/EGG-INFO\n",
      "copying nlp_profiler.egg-info/PKG-INFO -> build/bdist.macosx-10.7-x86_64/egg/EGG-INFO\n",
      "copying nlp_profiler.egg-info/SOURCES.txt -> build/bdist.macosx-10.7-x86_64/egg/EGG-INFO\n",
      "copying nlp_profiler.egg-info/dependency_links.txt -> build/bdist.macosx-10.7-x86_64/egg/EGG-INFO\n",
      "copying nlp_profiler.egg-info/requires.txt -> build/bdist.macosx-10.7-x86_64/egg/EGG-INFO\n",
      "copying nlp_profiler.egg-info/top_level.txt -> build/bdist.macosx-10.7-x86_64/egg/EGG-INFO\n",
      "creating 'dist/nlp_profiler-0.0.1-py3.7.egg' and adding 'build/bdist.macosx-10.7-x86_64/egg' to it\n",
      "removing 'build/bdist.macosx-10.7-x86_64/egg' (and everything under it)\n",
      "Processing nlp_profiler-0.0.1-py3.7.egg\n",
      "creating /anaconda3/lib/python3.7/site-packages/nlp_profiler-0.0.1-py3.7.egg\n",
      "Extracting nlp_profiler-0.0.1-py3.7.egg to /anaconda3/lib/python3.7/site-packages\n",
      "Adding nlp-profiler 0.0.1 to easy-install.pth file\n",
      "\n",
      "Installed /anaconda3/lib/python3.7/site-packages/nlp_profiler-0.0.1-py3.7.egg\n",
      "Processing dependencies for nlp-profiler==0.0.1\n",
      "Searching for emoji==0.5.4\n",
      "Best match: emoji 0.5.4\n",
      "Adding emoji 0.5.4 to easy-install.pth file\n",
      "\n",
      "Using /anaconda3/lib/python3.7/site-packages\n",
      "Searching for requests==2.23.0\n",
      "Best match: requests 2.23.0\n",
      "Adding requests 2.23.0 to easy-install.pth file\n",
      "\n",
      "Using /anaconda3/lib/python3.7/site-packages\n",
      "Searching for language-tool-python==2.3.1\n",
      "Best match: language-tool-python 2.3.1\n",
      "Adding language-tool-python 2.3.1 to easy-install.pth file\n",
      "\n",
      "Using /anaconda3/lib/python3.7/site-packages\n",
      "Searching for nltk==3.5\n",
      "Best match: nltk 3.5\n",
      "Adding nltk 3.5 to easy-install.pth file\n",
      "Installing nltk script to /anaconda3/bin\n",
      "\n",
      "Using /anaconda3/lib/python3.7/site-packages\n",
      "Searching for textblob==0.15.3\n",
      "Best match: textblob 0.15.3\n",
      "Adding textblob 0.15.3 to easy-install.pth file\n",
      "\n",
      "Using /anaconda3/lib/python3.7/site-packages\n",
      "Searching for urllib3==1.25.9\n",
      "Best match: urllib3 1.25.9\n",
      "Adding urllib3 1.25.9 to easy-install.pth file\n",
      "\n",
      "Using /anaconda3/lib/python3.7/site-packages\n",
      "Searching for chardet==3.0.4\n",
      "Best match: chardet 3.0.4\n",
      "Adding chardet 3.0.4 to easy-install.pth file\n",
      "Installing chardetect script to /anaconda3/bin\n",
      "\n",
      "Using /anaconda3/lib/python3.7/site-packages\n",
      "Searching for idna==2.9\n",
      "Best match: idna 2.9\n",
      "Adding idna 2.9 to easy-install.pth file\n",
      "\n",
      "Using /anaconda3/lib/python3.7/site-packages\n",
      "Searching for certifi==2020.4.5.1\n",
      "Best match: certifi 2020.4.5.1\n",
      "Adding certifi 2020.4.5.1 to easy-install.pth file\n",
      "\n",
      "Using /anaconda3/lib/python3.7/site-packages\n",
      "Searching for tqdm==4.46.0\n",
      "Best match: tqdm 4.46.0\n",
      "Adding tqdm 4.46.0 to easy-install.pth file\n",
      "Installing tqdm script to /anaconda3/bin\n",
      "\n",
      "Using /anaconda3/lib/python3.7/site-packages\n",
      "Searching for regex==2018.1.10\n",
      "Best match: regex 2018.1.10\n",
      "Adding regex 2018.1.10 to easy-install.pth file\n",
      "\n",
      "Using /anaconda3/lib/python3.7/site-packages\n",
      "Searching for Click==7.0\n",
      "Best match: Click 7.0\n",
      "Adding Click 7.0 to easy-install.pth file\n",
      "\n",
      "Using /anaconda3/lib/python3.7/site-packages\n",
      "Searching for joblib==0.14.1\n",
      "Best match: joblib 0.14.1\n",
      "Adding joblib 0.14.1 to easy-install.pth file\n",
      "\n",
      "Using /Users/swami/.local/lib/python3.7/site-packages\n",
      "Finished processing dependencies for nlp-profiler==0.0.1\n",
      "Once successfully installed, please RESTART your Jupyter kernels or Colab runtimes for the changes to take effect\n"
     ]
    },
    {
     "name": "stderr",
     "output_type": "stream",
     "text": [
      "zip_safe flag not set; analyzing archive contents...\n",
      "slow_tests.acceptance_tests.__pycache__.test_apply_text_profiling.cpython-37: module references __file__\n",
      "tests.acceptance_tests.__pycache__.test_apply_text_profiling.cpython-37: module references __file__\n"
     ]
    }
   ],
   "source": [
    "%%bash\n",
    "\n",
    "cd ../..\n",
    "python setup.py install\n",
    "echo \"Once successfully installed, please RESTART your Jupyter kernels or Colab runtimes for the changes to take effect\""
   ]
  },
  {
   "cell_type": "code",
   "execution_count": 1,
   "metadata": {},
   "outputs": [
    {
     "name": "stderr",
     "output_type": "stream",
     "text": [
      "[nltk_data] Downloading package stopwords to /Users/swami/nltk_data...\n",
      "[nltk_data]   Package stopwords is already up-to-date!\n",
      "[nltk_data] Downloading package punkt to /Users/swami/nltk_data...\n",
      "[nltk_data]   Package punkt is already up-to-date!\n"
     ]
    }
   ],
   "source": [
    "from nlp_profiler.core import gather_emojis, count_emojis\n",
    "from nlp_profiler.core import gather_whole_numbers, count_whole_numbers\n",
    "from nlp_profiler.core import gather_alpha_numeric, count_alpha_numeric\n",
    "from nlp_profiler.core import gather_non_alpha_numeric, count_non_alpha_numeric\n",
    "from nlp_profiler.core import gather_punctuations, count_punctuations\n",
    "from nlp_profiler.core import gather_stop_words, count_stop_words\n",
    "from nlp_profiler.core import gather_dates, count_dates\n",
    "from nlp_profiler.core import gather_words, words_count\n",
    "from nlp_profiler.core import gather_sentences, gather_duplicates, count_duplicates\n",
    "from nlp_profiler.core import count_spaces, count_sentences, count_characters_excluding_spaces"
   ]
  },
  {
   "cell_type": "markdown",
   "metadata": {},
   "source": [
    "### Emojis"
   ]
  },
  {
   "cell_type": "code",
   "execution_count": 2,
   "metadata": {},
   "outputs": [],
   "source": [
    "text_with_emojis = \"I love ⚽ very much 😁\""
   ]
  },
  {
   "cell_type": "code",
   "execution_count": 3,
   "metadata": {},
   "outputs": [
    {
     "data": {
      "text/plain": [
       "['soccer_ball', 'beaming_face_with_smiling_eyes']"
      ]
     },
     "execution_count": 3,
     "metadata": {},
     "output_type": "execute_result"
    }
   ],
   "source": [
    "gather_emojis(text_with_emojis)"
   ]
  },
  {
   "cell_type": "code",
   "execution_count": 4,
   "metadata": {},
   "outputs": [
    {
     "data": {
      "text/plain": [
       "2"
      ]
     },
     "execution_count": 4,
     "metadata": {},
     "output_type": "execute_result"
    }
   ],
   "source": [
    "count_emojis(text_with_emojis)"
   ]
  },
  {
   "cell_type": "markdown",
   "metadata": {},
   "source": [
    "### Numbers"
   ]
  },
  {
   "cell_type": "code",
   "execution_count": 5,
   "metadata": {},
   "outputs": [],
   "source": [
    "text_with_a_number = '2833047 people live in this area'"
   ]
  },
  {
   "cell_type": "code",
   "execution_count": 6,
   "metadata": {},
   "outputs": [
    {
     "data": {
      "text/plain": [
       "['2833047']"
      ]
     },
     "execution_count": 6,
     "metadata": {},
     "output_type": "execute_result"
    }
   ],
   "source": [
    "gather_whole_numbers(text_with_a_number)"
   ]
  },
  {
   "cell_type": "code",
   "execution_count": 7,
   "metadata": {},
   "outputs": [
    {
     "data": {
      "text/plain": [
       "1"
      ]
     },
     "execution_count": 7,
     "metadata": {},
     "output_type": "execute_result"
    }
   ],
   "source": [
    "count_whole_numbers(text_with_a_number)"
   ]
  },
  {
   "cell_type": "code",
   "execution_count": 8,
   "metadata": {},
   "outputs": [],
   "source": [
    "text_with_two_numbers = '2833047 and 1111 people live in this area'"
   ]
  },
  {
   "cell_type": "code",
   "execution_count": 9,
   "metadata": {},
   "outputs": [
    {
     "data": {
      "text/plain": [
       "['2833047', '1111']"
      ]
     },
     "execution_count": 9,
     "metadata": {},
     "output_type": "execute_result"
    }
   ],
   "source": [
    "gather_whole_numbers(text_with_two_numbers)"
   ]
  },
  {
   "cell_type": "code",
   "execution_count": 10,
   "metadata": {},
   "outputs": [
    {
     "data": {
      "text/plain": [
       "2"
      ]
     },
     "execution_count": 10,
     "metadata": {},
     "output_type": "execute_result"
    }
   ],
   "source": [
    "count_whole_numbers(text_with_two_numbers)"
   ]
  },
  {
   "cell_type": "markdown",
   "metadata": {},
   "source": [
    "### Alphanumeric"
   ]
  },
  {
   "cell_type": "code",
   "execution_count": 11,
   "metadata": {},
   "outputs": [
    {
     "data": {
      "text/plain": [
       "['2',\n",
       " '8',\n",
       " '3',\n",
       " '3',\n",
       " '0',\n",
       " '4',\n",
       " '7',\n",
       " 'p',\n",
       " 'e',\n",
       " 'o',\n",
       " 'p',\n",
       " 'l',\n",
       " 'e',\n",
       " 'l',\n",
       " 'i',\n",
       " 'v',\n",
       " 'e',\n",
       " 'i',\n",
       " 'n',\n",
       " 't',\n",
       " 'h',\n",
       " 'i',\n",
       " 's',\n",
       " 'a',\n",
       " 'r',\n",
       " 'e',\n",
       " 'a']"
      ]
     },
     "execution_count": 11,
     "metadata": {},
     "output_type": "execute_result"
    }
   ],
   "source": [
    "gather_alpha_numeric(text_with_a_number)"
   ]
  },
  {
   "cell_type": "code",
   "execution_count": 12,
   "metadata": {},
   "outputs": [
    {
     "data": {
      "text/plain": [
       "27"
      ]
     },
     "execution_count": 12,
     "metadata": {},
     "output_type": "execute_result"
    }
   ],
   "source": [
    "count_alpha_numeric(text_with_a_number)"
   ]
  },
  {
   "cell_type": "markdown",
   "metadata": {},
   "source": [
    "### Non-alphanumeric"
   ]
  },
  {
   "cell_type": "code",
   "execution_count": 13,
   "metadata": {},
   "outputs": [
    {
     "data": {
      "text/plain": [
       "[' ', ' ', ' ', ' ', ' ']"
      ]
     },
     "execution_count": 13,
     "metadata": {},
     "output_type": "execute_result"
    }
   ],
   "source": [
    "gather_non_alpha_numeric(text_with_a_number)"
   ]
  },
  {
   "cell_type": "code",
   "execution_count": 14,
   "metadata": {},
   "outputs": [
    {
     "data": {
      "text/plain": [
       "[' ', ' ', '⚽', ' ', ' ', ' ', '😁']"
      ]
     },
     "execution_count": 14,
     "metadata": {},
     "output_type": "execute_result"
    }
   ],
   "source": [
    "gather_non_alpha_numeric(text_with_emojis)"
   ]
  },
  {
   "cell_type": "code",
   "execution_count": 15,
   "metadata": {},
   "outputs": [
    {
     "data": {
      "text/plain": [
       "5"
      ]
     },
     "execution_count": 15,
     "metadata": {},
     "output_type": "execute_result"
    }
   ],
   "source": [
    "count_non_alpha_numeric(text_with_a_number)"
   ]
  },
  {
   "cell_type": "code",
   "execution_count": 16,
   "metadata": {},
   "outputs": [
    {
     "data": {
      "text/plain": [
       "7"
      ]
     },
     "execution_count": 16,
     "metadata": {},
     "output_type": "execute_result"
    }
   ],
   "source": [
    "count_non_alpha_numeric(text_with_emojis)"
   ]
  },
  {
   "cell_type": "markdown",
   "metadata": {},
   "source": [
    "### Punctuations"
   ]
  },
  {
   "cell_type": "code",
   "execution_count": 17,
   "metadata": {},
   "outputs": [],
   "source": [
    "text_with_punctuations = \"This sentence doesn't seem to too many commas, periods or semi-colons (;).\""
   ]
  },
  {
   "cell_type": "code",
   "execution_count": 18,
   "metadata": {},
   "outputs": [
    {
     "data": {
      "text/plain": [
       "[\"'\", ',', '-', '(', ';', ')', '.']"
      ]
     },
     "execution_count": 18,
     "metadata": {},
     "output_type": "execute_result"
    }
   ],
   "source": [
    "gather_punctuations(text_with_punctuations)"
   ]
  },
  {
   "cell_type": "code",
   "execution_count": 19,
   "metadata": {},
   "outputs": [
    {
     "data": {
      "text/plain": [
       "7"
      ]
     },
     "execution_count": 19,
     "metadata": {},
     "output_type": "execute_result"
    }
   ],
   "source": [
    "count_punctuations(text_with_punctuations)"
   ]
  },
  {
   "cell_type": "markdown",
   "metadata": {},
   "source": [
    "### Stop words"
   ]
  },
  {
   "cell_type": "code",
   "execution_count": 20,
   "metadata": {},
   "outputs": [
    {
     "data": {
      "text/plain": [
       "['in', 'this']"
      ]
     },
     "execution_count": 20,
     "metadata": {},
     "output_type": "execute_result"
    }
   ],
   "source": [
    "gather_stop_words(text_with_a_number)"
   ]
  },
  {
   "cell_type": "code",
   "execution_count": 21,
   "metadata": {},
   "outputs": [
    {
     "data": {
      "text/plain": [
       "2"
      ]
     },
     "execution_count": 21,
     "metadata": {},
     "output_type": "execute_result"
    }
   ],
   "source": [
    "count_stop_words(text_with_a_number)"
   ]
  },
  {
   "cell_type": "markdown",
   "metadata": {},
   "source": [
    "### Dates"
   ]
  },
  {
   "cell_type": "code",
   "execution_count": 22,
   "metadata": {},
   "outputs": [],
   "source": [
    "text_with_date = \"Todays date is 04/28/2020 for format mm/dd/yyyy, not 28/04/2020\""
   ]
  },
  {
   "cell_type": "code",
   "execution_count": 23,
   "metadata": {},
   "outputs": [
    {
     "data": {
      "text/plain": [
       "[('28', '04', '2020')]"
      ]
     },
     "execution_count": 23,
     "metadata": {},
     "output_type": "execute_result"
    }
   ],
   "source": [
    "gather_dates(text_with_date)"
   ]
  },
  {
   "cell_type": "code",
   "execution_count": 24,
   "metadata": {},
   "outputs": [
    {
     "data": {
      "text/plain": [
       "[('04', '28', '2020')]"
      ]
     },
     "execution_count": 24,
     "metadata": {},
     "output_type": "execute_result"
    }
   ],
   "source": [
    "gather_dates(text_with_date, 'mm/dd/yyyy')"
   ]
  },
  {
   "cell_type": "code",
   "execution_count": 25,
   "metadata": {},
   "outputs": [],
   "source": [
    "text_with_dates = \"Todays date is 28/04/2020 and tomorrow's date is 29/04/2020\""
   ]
  },
  {
   "cell_type": "code",
   "execution_count": 26,
   "metadata": {},
   "outputs": [
    {
     "data": {
      "text/plain": [
       "[('28', '04', '2020'), ('29', '04', '2020')]"
      ]
     },
     "execution_count": 26,
     "metadata": {},
     "output_type": "execute_result"
    }
   ],
   "source": [
    "gather_dates(text_with_dates)"
   ]
  },
  {
   "cell_type": "code",
   "execution_count": 27,
   "metadata": {},
   "outputs": [
    {
     "data": {
      "text/plain": [
       "2"
      ]
     },
     "execution_count": 27,
     "metadata": {},
     "output_type": "execute_result"
    }
   ],
   "source": [
    "count_dates(text_with_dates)"
   ]
  },
  {
   "cell_type": "markdown",
   "metadata": {},
   "source": [
    "### Words count"
   ]
  },
  {
   "cell_type": "code",
   "execution_count": 28,
   "metadata": {},
   "outputs": [
    {
     "data": {
      "text/plain": [
       "['people', 'live', 'in', 'this', 'area']"
      ]
     },
     "execution_count": 28,
     "metadata": {},
     "output_type": "execute_result"
    }
   ],
   "source": [
    "gather_words(text_with_a_number)"
   ]
  },
  {
   "cell_type": "code",
   "execution_count": 29,
   "metadata": {},
   "outputs": [
    {
     "data": {
      "text/plain": [
       "5"
      ]
     },
     "execution_count": 29,
     "metadata": {},
     "output_type": "execute_result"
    }
   ],
   "source": [
    "words_count(text_with_a_number)"
   ]
  },
  {
   "cell_type": "markdown",
   "metadata": {},
   "source": [
    "### Sentences"
   ]
  },
  {
   "cell_type": "code",
   "execution_count": 30,
   "metadata": {},
   "outputs": [
    {
     "data": {
      "text/plain": [
       "['2833047 people live in this area']"
      ]
     },
     "execution_count": 30,
     "metadata": {},
     "output_type": "execute_result"
    }
   ],
   "source": [
    "gather_sentences(text_with_a_number)"
   ]
  },
  {
   "cell_type": "code",
   "execution_count": 31,
   "metadata": {},
   "outputs": [
    {
     "data": {
      "text/plain": [
       "1"
      ]
     },
     "execution_count": 31,
     "metadata": {},
     "output_type": "execute_result"
    }
   ],
   "source": [
    "count_sentences(text_with_a_number)"
   ]
  },
  {
   "cell_type": "code",
   "execution_count": 32,
   "metadata": {},
   "outputs": [],
   "source": [
    "text_with_two_sentences = text_with_a_number + \".\" + text_with_emojis"
   ]
  },
  {
   "cell_type": "code",
   "execution_count": 33,
   "metadata": {},
   "outputs": [
    {
     "data": {
      "text/plain": [
       "['2833047 people live in this area', 'I love ⚽ very much 😁']"
      ]
     },
     "execution_count": 33,
     "metadata": {},
     "output_type": "execute_result"
    }
   ],
   "source": [
    "gather_sentences(text_with_two_sentences)"
   ]
  },
  {
   "cell_type": "code",
   "execution_count": 34,
   "metadata": {},
   "outputs": [
    {
     "data": {
      "text/plain": [
       "2"
      ]
     },
     "execution_count": 34,
     "metadata": {},
     "output_type": "execute_result"
    }
   ],
   "source": [
    "count_sentences(text_with_two_sentences)"
   ]
  },
  {
   "cell_type": "markdown",
   "metadata": {},
   "source": [
    "### Characters"
   ]
  },
  {
   "cell_type": "code",
   "execution_count": 35,
   "metadata": {},
   "outputs": [
    {
     "data": {
      "text/plain": [
       "32"
      ]
     },
     "execution_count": 35,
     "metadata": {},
     "output_type": "execute_result"
    }
   ],
   "source": [
    "len(text_with_a_number)"
   ]
  },
  {
   "cell_type": "markdown",
   "metadata": {},
   "source": [
    "### Number of spaces, Number of characters without spaces"
   ]
  },
  {
   "cell_type": "code",
   "execution_count": 36,
   "metadata": {},
   "outputs": [
    {
     "data": {
      "text/plain": [
       "5"
      ]
     },
     "execution_count": 36,
     "metadata": {},
     "output_type": "execute_result"
    }
   ],
   "source": [
    "count_spaces(text_with_a_number)"
   ]
  },
  {
   "cell_type": "code",
   "execution_count": 37,
   "metadata": {},
   "outputs": [
    {
     "data": {
      "text/plain": [
       "27"
      ]
     },
     "execution_count": 37,
     "metadata": {},
     "output_type": "execute_result"
    }
   ],
   "source": [
    "count_characters_excluding_spaces(text_with_a_number)"
   ]
  },
  {
   "cell_type": "markdown",
   "metadata": {},
   "source": [
    "### Duplicates"
   ]
  },
  {
   "cell_type": "code",
   "execution_count": 38,
   "metadata": {},
   "outputs": [
    {
     "data": {
      "text/plain": [
       "{}"
      ]
     },
     "execution_count": 38,
     "metadata": {},
     "output_type": "execute_result"
    }
   ],
   "source": [
    "gather_duplicates(text_with_a_number)"
   ]
  },
  {
   "cell_type": "code",
   "execution_count": 39,
   "metadata": {},
   "outputs": [],
   "source": [
    "text_with_duplicates = 'Everyone here is so hardworking. hardworking people. I think hardworking people are a good trait in our company'"
   ]
  },
  {
   "cell_type": "code",
   "execution_count": 40,
   "metadata": {},
   "outputs": [
    {
     "name": "stdout",
     "output_type": "stream",
     "text": [
      "{'.': 2, 'hardworking': 3, 'people': 2}\n"
     ]
    },
    {
     "data": {
      "text/plain": [
       "3"
      ]
     },
     "execution_count": 40,
     "metadata": {},
     "output_type": "execute_result"
    }
   ],
   "source": [
    "print(gather_duplicates(text_with_duplicates))\n",
    "count_duplicates(text_with_duplicates)"
   ]
  },
  {
   "cell_type": "markdown",
   "metadata": {},
   "source": [
    "### Resources\n",
    "\n",
    "- https://www.kaggle.com/raenish/cheatsheet-text-helper-functions"
   ]
  }
 ],
 "metadata": {
  "kernelspec": {
   "display_name": "Python 3",
   "language": "python",
   "name": "python3"
  },
  "language_info": {
   "codemirror_mode": {
    "name": "ipython",
    "version": 3
   },
   "file_extension": ".py",
   "mimetype": "text/x-python",
   "name": "python",
   "nbconvert_exporter": "python",
   "pygments_lexer": "ipython3",
   "version": "3.7.2"
  }
 },
 "nbformat": 4,
 "nbformat_minor": 4
}
