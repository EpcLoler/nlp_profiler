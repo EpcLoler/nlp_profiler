{
 "cells": [
  {
   "cell_type": "code",
   "execution_count": 1,
   "metadata": {},
   "outputs": [
    {
     "name": "stdout",
     "output_type": "stream",
     "text": [
      "running install\n",
      "running bdist_egg\n",
      "running egg_info\n",
      "writing nlp_profiler.egg-info/PKG-INFO\n",
      "writing dependency_links to nlp_profiler.egg-info/dependency_links.txt\n",
      "writing requirements to nlp_profiler.egg-info/requires.txt\n",
      "writing top-level names to nlp_profiler.egg-info/top_level.txt\n",
      "reading manifest file 'nlp_profiler.egg-info/SOURCES.txt'\n",
      "writing manifest file 'nlp_profiler.egg-info/SOURCES.txt'\n",
      "installing library code to build/bdist.macosx-10.7-x86_64/egg\n",
      "running install_lib\n",
      "running build_py\n",
      "copying nlp_profiler/core.py -> build/lib/nlp_profiler\n",
      "creating build/bdist.macosx-10.7-x86_64/egg\n",
      "creating build/bdist.macosx-10.7-x86_64/egg/nlp_profiler\n",
      "copying build/lib/nlp_profiler/__init__.py -> build/bdist.macosx-10.7-x86_64/egg/nlp_profiler\n",
      "copying build/lib/nlp_profiler/core.py -> build/bdist.macosx-10.7-x86_64/egg/nlp_profiler\n",
      "creating build/bdist.macosx-10.7-x86_64/egg/slow_tests\n",
      "creating build/bdist.macosx-10.7-x86_64/egg/slow_tests/acceptance_tests\n",
      "copying build/lib/slow_tests/acceptance_tests/__init__.py -> build/bdist.macosx-10.7-x86_64/egg/slow_tests/acceptance_tests\n",
      "copying build/lib/slow_tests/acceptance_tests/test_apply_text_profiling.py -> build/bdist.macosx-10.7-x86_64/egg/slow_tests/acceptance_tests\n",
      "copying build/lib/slow_tests/__init__.py -> build/bdist.macosx-10.7-x86_64/egg/slow_tests\n",
      "creating build/bdist.macosx-10.7-x86_64/egg/slow_tests/high_level\n",
      "copying build/lib/slow_tests/high_level/__init__.py -> build/bdist.macosx-10.7-x86_64/egg/slow_tests/high_level\n",
      "copying build/lib/slow_tests/high_level/test_grammar_check.py -> build/bdist.macosx-10.7-x86_64/egg/slow_tests/high_level\n",
      "creating build/bdist.macosx-10.7-x86_64/egg/tests\n",
      "creating build/bdist.macosx-10.7-x86_64/egg/tests/granular\n",
      "copying build/lib/tests/granular/test_chars_and_spaces.py -> build/bdist.macosx-10.7-x86_64/egg/tests/granular\n",
      "copying build/lib/tests/granular/test_alphanumeric.py -> build/bdist.macosx-10.7-x86_64/egg/tests/granular\n",
      "copying build/lib/tests/granular/test_stop_words.py -> build/bdist.macosx-10.7-x86_64/egg/tests/granular\n",
      "copying build/lib/tests/granular/test_non_alphanumeric.py -> build/bdist.macosx-10.7-x86_64/egg/tests/granular\n",
      "copying build/lib/tests/granular/test_words.py -> build/bdist.macosx-10.7-x86_64/egg/tests/granular\n",
      "copying build/lib/tests/granular/test_dates.py -> build/bdist.macosx-10.7-x86_64/egg/tests/granular\n",
      "copying build/lib/tests/granular/test_numbers.py -> build/bdist.macosx-10.7-x86_64/egg/tests/granular\n",
      "copying build/lib/tests/granular/__init__.py -> build/bdist.macosx-10.7-x86_64/egg/tests/granular\n",
      "copying build/lib/tests/granular/test_sentences.py -> build/bdist.macosx-10.7-x86_64/egg/tests/granular\n",
      "copying build/lib/tests/granular/test_duplicates.py -> build/bdist.macosx-10.7-x86_64/egg/tests/granular\n",
      "copying build/lib/tests/granular/test_punctuations.py -> build/bdist.macosx-10.7-x86_64/egg/tests/granular\n",
      "copying build/lib/tests/granular/test_emojis.py -> build/bdist.macosx-10.7-x86_64/egg/tests/granular\n",
      "creating build/bdist.macosx-10.7-x86_64/egg/tests/acceptance_tests\n",
      "copying build/lib/tests/acceptance_tests/__init__.py -> build/bdist.macosx-10.7-x86_64/egg/tests/acceptance_tests\n",
      "copying build/lib/tests/acceptance_tests/test_apply_text_profiling.py -> build/bdist.macosx-10.7-x86_64/egg/tests/acceptance_tests\n",
      "copying build/lib/tests/__init__.py -> build/bdist.macosx-10.7-x86_64/egg/tests\n",
      "creating build/bdist.macosx-10.7-x86_64/egg/tests/high_level\n",
      "copying build/lib/tests/high_level/test_sentiment_polarity.py -> build/bdist.macosx-10.7-x86_64/egg/tests/high_level\n",
      "copying build/lib/tests/high_level/test_sentiment_subjectivity.py -> build/bdist.macosx-10.7-x86_64/egg/tests/high_level\n",
      "copying build/lib/tests/high_level/__init__.py -> build/bdist.macosx-10.7-x86_64/egg/tests/high_level\n",
      "copying build/lib/tests/high_level/test_spelling_check.py -> build/bdist.macosx-10.7-x86_64/egg/tests/high_level\n",
      "byte-compiling build/bdist.macosx-10.7-x86_64/egg/nlp_profiler/__init__.py to __init__.cpython-37.pyc\n",
      "byte-compiling build/bdist.macosx-10.7-x86_64/egg/nlp_profiler/core.py to core.cpython-37.pyc\n",
      "byte-compiling build/bdist.macosx-10.7-x86_64/egg/slow_tests/acceptance_tests/__init__.py to __init__.cpython-37.pyc\n",
      "byte-compiling build/bdist.macosx-10.7-x86_64/egg/slow_tests/acceptance_tests/test_apply_text_profiling.py to test_apply_text_profiling.cpython-37.pyc\n",
      "byte-compiling build/bdist.macosx-10.7-x86_64/egg/slow_tests/__init__.py to __init__.cpython-37.pyc\n",
      "byte-compiling build/bdist.macosx-10.7-x86_64/egg/slow_tests/high_level/__init__.py to __init__.cpython-37.pyc\n",
      "byte-compiling build/bdist.macosx-10.7-x86_64/egg/slow_tests/high_level/test_grammar_check.py to test_grammar_check.cpython-37.pyc\n",
      "byte-compiling build/bdist.macosx-10.7-x86_64/egg/tests/granular/test_chars_and_spaces.py to test_chars_and_spaces.cpython-37.pyc\n",
      "byte-compiling build/bdist.macosx-10.7-x86_64/egg/tests/granular/test_alphanumeric.py to test_alphanumeric.cpython-37.pyc\n",
      "byte-compiling build/bdist.macosx-10.7-x86_64/egg/tests/granular/test_stop_words.py to test_stop_words.cpython-37.pyc\n",
      "byte-compiling build/bdist.macosx-10.7-x86_64/egg/tests/granular/test_non_alphanumeric.py to test_non_alphanumeric.cpython-37.pyc\n",
      "byte-compiling build/bdist.macosx-10.7-x86_64/egg/tests/granular/test_words.py to test_words.cpython-37.pyc\n",
      "byte-compiling build/bdist.macosx-10.7-x86_64/egg/tests/granular/test_dates.py to test_dates.cpython-37.pyc\n",
      "byte-compiling build/bdist.macosx-10.7-x86_64/egg/tests/granular/test_numbers.py to test_numbers.cpython-37.pyc\n",
      "byte-compiling build/bdist.macosx-10.7-x86_64/egg/tests/granular/__init__.py to __init__.cpython-37.pyc\n",
      "byte-compiling build/bdist.macosx-10.7-x86_64/egg/tests/granular/test_sentences.py to test_sentences.cpython-37.pyc\n",
      "byte-compiling build/bdist.macosx-10.7-x86_64/egg/tests/granular/test_duplicates.py to test_duplicates.cpython-37.pyc\n",
      "byte-compiling build/bdist.macosx-10.7-x86_64/egg/tests/granular/test_punctuations.py to test_punctuations.cpython-37.pyc\n",
      "byte-compiling build/bdist.macosx-10.7-x86_64/egg/tests/granular/test_emojis.py to test_emojis.cpython-37.pyc\n",
      "byte-compiling build/bdist.macosx-10.7-x86_64/egg/tests/acceptance_tests/__init__.py to __init__.cpython-37.pyc\n",
      "byte-compiling build/bdist.macosx-10.7-x86_64/egg/tests/acceptance_tests/test_apply_text_profiling.py to test_apply_text_profiling.cpython-37.pyc\n",
      "byte-compiling build/bdist.macosx-10.7-x86_64/egg/tests/__init__.py to __init__.cpython-37.pyc\n",
      "byte-compiling build/bdist.macosx-10.7-x86_64/egg/tests/high_level/test_sentiment_polarity.py to test_sentiment_polarity.cpython-37.pyc\n",
      "byte-compiling build/bdist.macosx-10.7-x86_64/egg/tests/high_level/test_sentiment_subjectivity.py to test_sentiment_subjectivity.cpython-37.pyc\n",
      "byte-compiling build/bdist.macosx-10.7-x86_64/egg/tests/high_level/__init__.py to __init__.cpython-37.pyc\n",
      "byte-compiling build/bdist.macosx-10.7-x86_64/egg/tests/high_level/test_spelling_check.py to test_spelling_check.cpython-37.pyc\n",
      "creating build/bdist.macosx-10.7-x86_64/egg/EGG-INFO\n",
      "copying nlp_profiler.egg-info/PKG-INFO -> build/bdist.macosx-10.7-x86_64/egg/EGG-INFO\n",
      "copying nlp_profiler.egg-info/SOURCES.txt -> build/bdist.macosx-10.7-x86_64/egg/EGG-INFO\n",
      "copying nlp_profiler.egg-info/dependency_links.txt -> build/bdist.macosx-10.7-x86_64/egg/EGG-INFO\n",
      "copying nlp_profiler.egg-info/requires.txt -> build/bdist.macosx-10.7-x86_64/egg/EGG-INFO\n",
      "copying nlp_profiler.egg-info/top_level.txt -> build/bdist.macosx-10.7-x86_64/egg/EGG-INFO\n",
      "creating 'dist/nlp_profiler-0.0.1-py3.7.egg' and adding 'build/bdist.macosx-10.7-x86_64/egg' to it\n",
      "removing 'build/bdist.macosx-10.7-x86_64/egg' (and everything under it)\n",
      "Processing nlp_profiler-0.0.1-py3.7.egg\n",
      "removing '/anaconda3/lib/python3.7/site-packages/nlp_profiler-0.0.1-py3.7.egg' (and everything under it)\n",
      "creating /anaconda3/lib/python3.7/site-packages/nlp_profiler-0.0.1-py3.7.egg\n",
      "Extracting nlp_profiler-0.0.1-py3.7.egg to /anaconda3/lib/python3.7/site-packages\n",
      "nlp-profiler 0.0.1 is already the active version in easy-install.pth\n",
      "\n",
      "Installed /anaconda3/lib/python3.7/site-packages/nlp_profiler-0.0.1-py3.7.egg\n",
      "Processing dependencies for nlp-profiler==0.0.1\n",
      "Searching for swifter==1.0.3\n",
      "Best match: swifter 1.0.3\n",
      "Processing swifter-1.0.3-py3.7.egg\n",
      "swifter 1.0.3 is already the active version in easy-install.pth\n",
      "\n",
      "Using /anaconda3/lib/python3.7/site-packages/swifter-1.0.3-py3.7.egg\n",
      "Searching for pandas==1.0.5\n",
      "Best match: pandas 1.0.5\n",
      "Adding pandas 1.0.5 to easy-install.pth file\n",
      "\n",
      "Using /anaconda3/lib/python3.7/site-packages\n",
      "Searching for ipython==7.12.0\n",
      "Best match: ipython 7.12.0\n",
      "Adding ipython 7.12.0 to easy-install.pth file\n",
      "Installing iptest script to /anaconda3/bin\n",
      "Installing iptest3 script to /anaconda3/bin\n",
      "Installing ipython script to /anaconda3/bin\n",
      "Installing ipython3 script to /anaconda3/bin\n",
      "\n",
      "Using /Users/swami/.local/lib/python3.7/site-packages\n",
      "Searching for joblib==0.14.1\n",
      "Best match: joblib 0.14.1\n",
      "Adding joblib 0.14.1 to easy-install.pth file\n",
      "\n",
      "Using /Users/swami/.local/lib/python3.7/site-packages\n",
      "Searching for tqdm==4.46.0\n",
      "Best match: tqdm 4.46.0\n",
      "Adding tqdm 4.46.0 to easy-install.pth file\n",
      "Installing tqdm script to /anaconda3/bin\n",
      "\n",
      "Using /anaconda3/lib/python3.7/site-packages\n",
      "Searching for emoji==0.5.4\n",
      "Best match: emoji 0.5.4\n",
      "Adding emoji 0.5.4 to easy-install.pth file\n",
      "\n",
      "Using /anaconda3/lib/python3.7/site-packages\n",
      "Searching for requests==2.23.0\n",
      "Best match: requests 2.23.0\n",
      "Adding requests 2.23.0 to easy-install.pth file\n",
      "\n",
      "Using /anaconda3/lib/python3.7/site-packages\n",
      "Searching for language-tool-python==2.3.1\n",
      "Best match: language-tool-python 2.3.1\n",
      "Adding language-tool-python 2.3.1 to easy-install.pth file\n",
      "\n",
      "Using /anaconda3/lib/python3.7/site-packages\n",
      "Searching for nltk==3.5\n",
      "Best match: nltk 3.5\n",
      "Adding nltk 3.5 to easy-install.pth file\n",
      "Installing nltk script to /anaconda3/bin\n",
      "\n",
      "Using /anaconda3/lib/python3.7/site-packages\n",
      "Searching for textblob==0.15.3\n",
      "Best match: textblob 0.15.3\n",
      "Adding textblob 0.15.3 to easy-install.pth file\n",
      "\n",
      "Using /anaconda3/lib/python3.7/site-packages\n",
      "Searching for psutil==5.7.0\n",
      "Best match: psutil 5.7.0\n",
      "Adding psutil 5.7.0 to easy-install.pth file\n",
      "\n",
      "Using /Users/swami/.local/lib/python3.7/site-packages\n",
      "Searching for parso==0.5.2\n",
      "Best match: parso 0.5.2\n",
      "Adding parso 0.5.2 to easy-install.pth file\n",
      "\n",
      "Using /Users/swami/.local/lib/python3.7/site-packages\n",
      "Searching for modin==0.8.0\n",
      "Best match: modin 0.8.0\n",
      "Processing modin-0.8.0-py3.7-macosx-10.7-x86_64.egg\n",
      "modin 0.8.0 is already the active version in easy-install.pth\n",
      "\n",
      "Using /anaconda3/lib/python3.7/site-packages/modin-0.8.0-py3.7-macosx-10.7-x86_64.egg\n",
      "Searching for ipywidgets==7.5.1\n",
      "Best match: ipywidgets 7.5.1\n",
      "Adding ipywidgets 7.5.1 to easy-install.pth file\n",
      "\n",
      "Using /Users/swami/.local/lib/python3.7/site-packages\n",
      "Searching for dask==2.9.1\n",
      "Best match: dask 2.9.1\n",
      "Adding dask 2.9.1 to easy-install.pth file\n",
      "\n",
      "Using /anaconda3/lib/python3.7/site-packages\n",
      "Searching for bleach==3.2.1\n",
      "Best match: bleach 3.2.1\n",
      "Processing bleach-3.2.1-py3.7.egg\n",
      "bleach 3.2.1 is already the active version in easy-install.pth\n",
      "\n",
      "Using /anaconda3/lib/python3.7/site-packages/bleach-3.2.1-py3.7.egg\n",
      "Searching for pytz==2020.1\n",
      "Best match: pytz 2020.1\n",
      "Adding pytz 2020.1 to easy-install.pth file\n",
      "\n",
      "Using /anaconda3/lib/python3.7/site-packages\n",
      "Searching for python-dateutil==2.8.1\n",
      "Best match: python-dateutil 2.8.1\n",
      "Adding python-dateutil 2.8.1 to easy-install.pth file\n",
      "\n",
      "Using /anaconda3/lib/python3.7/site-packages\n",
      "Searching for numpy==1.18.5\n",
      "Best match: numpy 1.18.5\n",
      "Adding numpy 1.18.5 to easy-install.pth file\n",
      "Installing f2py script to /anaconda3/bin\n",
      "Installing f2py3 script to /anaconda3/bin\n",
      "Installing f2py3.7 script to /anaconda3/bin\n",
      "\n",
      "Using /anaconda3/lib/python3.7/site-packages\n",
      "Searching for decorator==4.4.2\n",
      "Best match: decorator 4.4.2\n",
      "Adding decorator 4.4.2 to easy-install.pth file\n",
      "\n",
      "Using /anaconda3/lib/python3.7/site-packages\n",
      "Searching for backcall==0.1.0\n",
      "Best match: backcall 0.1.0\n",
      "Adding backcall 0.1.0 to easy-install.pth file\n",
      "\n",
      "Using /anaconda3/lib/python3.7/site-packages\n",
      "Searching for prompt-toolkit==2.0.10\n",
      "Best match: prompt-toolkit 2.0.10\n",
      "Adding prompt-toolkit 2.0.10 to easy-install.pth file\n",
      "\n",
      "Using /Users/swami/.local/lib/python3.7/site-packages\n",
      "Searching for pexpect==4.6.0\n",
      "Best match: pexpect 4.6.0\n",
      "Adding pexpect 4.6.0 to easy-install.pth file\n",
      "\n",
      "Using /anaconda3/lib/python3.7/site-packages\n",
      "Searching for traitlets==4.3.2\n",
      "Best match: traitlets 4.3.2\n",
      "Adding traitlets 4.3.2 to easy-install.pth file\n",
      "\n",
      "Using /anaconda3/lib/python3.7/site-packages\n",
      "Searching for Pygments==2.7.0\n",
      "Best match: Pygments 2.7.0\n",
      "Adding Pygments 2.7.0 to easy-install.pth file\n",
      "Installing pygmentize script to /anaconda3/bin\n",
      "\n",
      "Using /anaconda3/lib/python3.7/site-packages\n",
      "Searching for pickleshare==0.7.5\n",
      "Best match: pickleshare 0.7.5\n",
      "Adding pickleshare 0.7.5 to easy-install.pth file\n",
      "\n",
      "Using /anaconda3/lib/python3.7/site-packages\n",
      "Searching for appnope==0.1.0\n",
      "Best match: appnope 0.1.0\n",
      "Adding appnope 0.1.0 to easy-install.pth file\n",
      "\n",
      "Using /anaconda3/lib/python3.7/site-packages\n",
      "Searching for jedi==0.13.3\n",
      "Best match: jedi 0.13.3\n",
      "Adding jedi 0.13.3 to easy-install.pth file\n",
      "\n",
      "Using /anaconda3/lib/python3.7/site-packages\n",
      "Searching for setuptools==46.1.3\n",
      "Best match: setuptools 46.1.3\n",
      "Adding setuptools 46.1.3 to easy-install.pth file\n",
      "Installing easy_install script to /anaconda3/bin\n",
      "Installing easy_install-3.8 script to /anaconda3/bin\n",
      "\n",
      "Using /Users/swami/.local/lib/python3.7/site-packages\n",
      "Searching for urllib3==1.25.9\n",
      "Best match: urllib3 1.25.9\n",
      "Adding urllib3 1.25.9 to easy-install.pth file\n",
      "\n",
      "Using /anaconda3/lib/python3.7/site-packages\n",
      "Searching for idna==2.9\n",
      "Best match: idna 2.9\n",
      "Adding idna 2.9 to easy-install.pth file\n",
      "\n",
      "Using /anaconda3/lib/python3.7/site-packages\n",
      "Searching for certifi==2020.4.5.1\n",
      "Best match: certifi 2020.4.5.1\n",
      "Adding certifi 2020.4.5.1 to easy-install.pth file\n",
      "\n",
      "Using /anaconda3/lib/python3.7/site-packages\n",
      "Searching for chardet==3.0.4\n",
      "Best match: chardet 3.0.4\n",
      "Adding chardet 3.0.4 to easy-install.pth file\n",
      "Installing chardetect script to /anaconda3/bin\n",
      "\n",
      "Using /anaconda3/lib/python3.7/site-packages\n",
      "Searching for Click==7.0\n",
      "Best match: Click 7.0\n",
      "Adding Click 7.0 to easy-install.pth file\n",
      "\n",
      "Using /anaconda3/lib/python3.7/site-packages\n",
      "Searching for regex==2018.1.10\n",
      "Best match: regex 2018.1.10\n",
      "Adding regex 2018.1.10 to easy-install.pth file\n",
      "\n",
      "Using /anaconda3/lib/python3.7/site-packages\n",
      "Searching for ray==0.8.6\n",
      "Best match: ray 0.8.6\n",
      "Processing ray-0.8.6-py3.7-macosx-10.7-x86_64.egg\n",
      "ray 0.8.6 is already the active version in easy-install.pth\n",
      "\n",
      "Using /anaconda3/lib/python3.7/site-packages/ray-0.8.6-py3.7-macosx-10.7-x86_64.egg\n",
      "Searching for pyarrow==0.16.0\n",
      "Best match: pyarrow 0.16.0\n",
      "Adding pyarrow 0.16.0 to easy-install.pth file\n",
      "Installing plasma_store script to /anaconda3/bin\n",
      "\n",
      "Using /Users/swami/.local/lib/python3.7/site-packages\n",
      "Searching for packaging==20.3\n",
      "Best match: packaging 20.3\n",
      "Adding packaging 20.3 to easy-install.pth file\n",
      "\n",
      "Using /anaconda3/lib/python3.7/site-packages\n",
      "Searching for ipykernel==5.3.4\n",
      "Best match: ipykernel 5.3.4\n",
      "Adding ipykernel 5.3.4 to easy-install.pth file\n",
      "\n",
      "Using /anaconda3/lib/python3.7/site-packages\n",
      "Searching for widgetsnbextension==3.5.1\n",
      "Best match: widgetsnbextension 3.5.1\n",
      "Adding widgetsnbextension 3.5.1 to easy-install.pth file\n",
      "\n",
      "Using /anaconda3/lib/python3.7/site-packages\n",
      "Searching for nbformat==4.4.0\n",
      "Best match: nbformat 4.4.0\n",
      "Adding nbformat 4.4.0 to easy-install.pth file\n",
      "Installing jupyter-trust script to /anaconda3/bin\n",
      "\n",
      "Using /anaconda3/lib/python3.7/site-packages\n",
      "Searching for cloudpickle==0.8.0\n",
      "Best match: cloudpickle 0.8.0\n",
      "Adding cloudpickle 0.8.0 to easy-install.pth file\n",
      "\n",
      "Using /anaconda3/lib/python3.7/site-packages\n",
      "Searching for distributed==2.9.1\n",
      "Best match: distributed 2.9.1\n",
      "Adding distributed 2.9.1 to easy-install.pth file\n",
      "Installing dask-ssh script to /anaconda3/bin\n",
      "Installing dask-scheduler script to /anaconda3/bin\n",
      "Installing dask-worker script to /anaconda3/bin\n",
      "\n",
      "Using /Users/swami/.local/lib/python3.7/site-packages\n",
      "Searching for PyYAML==5.3.1\n",
      "Best match: PyYAML 5.3.1\n",
      "Adding PyYAML 5.3.1 to easy-install.pth file\n",
      "\n",
      "Using /anaconda3/lib/python3.7/site-packages\n",
      "Searching for toolz==0.9.0\n",
      "Best match: toolz 0.9.0\n",
      "Adding toolz 0.9.0 to easy-install.pth file\n",
      "\n",
      "Using /anaconda3/lib/python3.7/site-packages\n",
      "Searching for partd==1.1.0\n",
      "Best match: partd 1.1.0\n",
      "Adding partd 1.1.0 to easy-install.pth file\n",
      "\n",
      "Using /Users/swami/.local/lib/python3.7/site-packages\n",
      "Searching for fsspec==0.6.2\n",
      "Best match: fsspec 0.6.2\n",
      "Adding fsspec 0.6.2 to easy-install.pth file\n",
      "\n",
      "Using /Users/swami/.local/lib/python3.7/site-packages\n",
      "Searching for bokeh==1.0.4\n",
      "Best match: bokeh 1.0.4\n",
      "Adding bokeh 1.0.4 to easy-install.pth file\n",
      "Installing bokeh script to /anaconda3/bin\n",
      "\n",
      "Using /anaconda3/lib/python3.7/site-packages\n",
      "Searching for webencodings==0.5.1\n",
      "Best match: webencodings 0.5.1\n",
      "Adding webencodings 0.5.1 to easy-install.pth file\n",
      "\n",
      "Using /anaconda3/lib/python3.7/site-packages\n",
      "Searching for six==1.14.0\n",
      "Best match: six 1.14.0\n",
      "Adding six 1.14.0 to easy-install.pth file\n",
      "\n",
      "Using /anaconda3/lib/python3.7/site-packages\n",
      "Searching for wcwidth==0.1.9\n",
      "Best match: wcwidth 0.1.9\n",
      "Adding wcwidth 0.1.9 to easy-install.pth file\n",
      "\n",
      "Using /anaconda3/lib/python3.7/site-packages\n",
      "Searching for ptyprocess==0.6.0\n",
      "Best match: ptyprocess 0.6.0\n",
      "Adding ptyprocess 0.6.0 to easy-install.pth file\n",
      "\n",
      "Using /anaconda3/lib/python3.7/site-packages\n",
      "Searching for ipython-genutils==0.2.0\n",
      "Best match: ipython-genutils 0.2.0\n",
      "Adding ipython-genutils 0.2.0 to easy-install.pth file\n",
      "\n",
      "Using /anaconda3/lib/python3.7/site-packages\n",
      "Searching for pyparsing==2.4.7\n",
      "Best match: pyparsing 2.4.7\n",
      "Adding pyparsing 2.4.7 to easy-install.pth file\n",
      "\n",
      "Using /anaconda3/lib/python3.7/site-packages\n",
      "Searching for tornado==5.1.1\n",
      "Best match: tornado 5.1.1\n",
      "Adding tornado 5.1.1 to easy-install.pth file\n",
      "\n",
      "Using /anaconda3/lib/python3.7/site-packages\n",
      "Searching for jupyter-client==5.3.4\n",
      "Best match: jupyter-client 5.3.4\n",
      "Adding jupyter-client 5.3.4 to easy-install.pth file\n",
      "Installing jupyter-kernel script to /anaconda3/bin\n",
      "Installing jupyter-kernelspec script to /anaconda3/bin\n",
      "Installing jupyter-run script to /anaconda3/bin\n",
      "\n",
      "Using /Users/swami/.local/lib/python3.7/site-packages\n",
      "Searching for notebook==5.7.4\n",
      "Best match: notebook 5.7.4\n",
      "Adding notebook 5.7.4 to easy-install.pth file\n",
      "Installing jupyter-bundlerextension script to /anaconda3/bin\n",
      "Installing jupyter-nbextension script to /anaconda3/bin\n",
      "Installing jupyter-notebook script to /anaconda3/bin\n",
      "Installing jupyter-serverextension script to /anaconda3/bin\n",
      "\n",
      "Using /anaconda3/lib/python3.7/site-packages\n",
      "Searching for jsonschema==3.2.0\n",
      "Best match: jsonschema 3.2.0\n",
      "Adding jsonschema 3.2.0 to easy-install.pth file\n",
      "Installing jsonschema script to /anaconda3/bin\n",
      "\n",
      "Using /Users/swami/.local/lib/python3.7/site-packages\n",
      "Searching for jupyter-core==4.6.1\n",
      "Best match: jupyter-core 4.6.1\n",
      "Adding jupyter-core 4.6.1 to easy-install.pth file\n",
      "Installing jupyter script to /anaconda3/bin\n",
      "Installing jupyter-migrate script to /anaconda3/bin\n",
      "Installing jupyter-troubleshoot script to /anaconda3/bin\n",
      "\n",
      "Using /Users/swami/.local/lib/python3.7/site-packages\n",
      "Searching for sortedcontainers==2.1.0\n",
      "Best match: sortedcontainers 2.1.0\n",
      "Adding sortedcontainers 2.1.0 to easy-install.pth file\n",
      "\n",
      "Using /anaconda3/lib/python3.7/site-packages\n",
      "Searching for zict==0.1.3\n",
      "Best match: zict 0.1.3\n",
      "Adding zict 0.1.3 to easy-install.pth file\n",
      "\n",
      "Using /anaconda3/lib/python3.7/site-packages\n",
      "Searching for msgpack==0.5.6\n",
      "Best match: msgpack 0.5.6\n",
      "Adding msgpack 0.5.6 to easy-install.pth file\n",
      "\n",
      "Using /anaconda3/lib/python3.7/site-packages\n",
      "Searching for tblib==1.3.2\n",
      "Best match: tblib 1.3.2\n",
      "Adding tblib 1.3.2 to easy-install.pth file\n",
      "\n",
      "Using /anaconda3/lib/python3.7/site-packages\n",
      "Searching for locket==0.2.0\n",
      "Best match: locket 0.2.0\n",
      "Adding locket 0.2.0 to easy-install.pth file\n",
      "\n",
      "Using /anaconda3/lib/python3.7/site-packages\n",
      "Searching for Pillow==6.2.0\n",
      "Best match: Pillow 6.2.0\n",
      "Adding Pillow 6.2.0 to easy-install.pth file\n",
      "\n",
      "Using /anaconda3/lib/python3.7/site-packages\n",
      "Searching for Jinja2==2.10.3\n",
      "Best match: Jinja2 2.10.3\n",
      "Adding Jinja2 2.10.3 to easy-install.pth file\n",
      "\n",
      "Using /anaconda3/lib/python3.7/site-packages\n",
      "Searching for pyzmq==17.1.2\n",
      "Best match: pyzmq 17.1.2\n",
      "Adding pyzmq 17.1.2 to easy-install.pth file\n",
      "\n",
      "Using /anaconda3/lib/python3.7/site-packages\n",
      "Searching for prometheus-client==0.6.0\n",
      "Best match: prometheus-client 0.6.0\n",
      "Adding prometheus-client 0.6.0 to easy-install.pth file\n",
      "\n",
      "Using /anaconda3/lib/python3.7/site-packages\n",
      "Searching for nbconvert==5.6.1\n",
      "Best match: nbconvert 5.6.1\n",
      "Adding nbconvert 5.6.1 to easy-install.pth file\n",
      "Installing jupyter-nbconvert script to /anaconda3/bin\n",
      "\n",
      "Using /anaconda3/lib/python3.7/site-packages\n",
      "Searching for Send2Trash==1.5.0\n",
      "Best match: Send2Trash 1.5.0\n",
      "Adding Send2Trash 1.5.0 to easy-install.pth file\n",
      "\n",
      "Using /anaconda3/lib/python3.7/site-packages\n",
      "Searching for terminado==0.8.1\n",
      "Best match: terminado 0.8.1\n",
      "Adding terminado 0.8.1 to easy-install.pth file\n",
      "\n",
      "Using /anaconda3/lib/python3.7/site-packages\n",
      "Searching for pyrsistent==0.15.7\n",
      "Best match: pyrsistent 0.15.7\n",
      "Adding pyrsistent 0.15.7 to easy-install.pth file\n",
      "\n",
      "Using /Users/swami/.local/lib/python3.7/site-packages\n",
      "Searching for attrs==19.3.0\n",
      "Best match: attrs 19.3.0\n",
      "Adding attrs 19.3.0 to easy-install.pth file\n",
      "\n",
      "Using /anaconda3/lib/python3.7/site-packages\n",
      "Searching for importlib-metadata==1.6.0\n",
      "Best match: importlib-metadata 1.6.0\n",
      "Adding importlib-metadata 1.6.0 to easy-install.pth file\n",
      "\n",
      "Using /anaconda3/lib/python3.7/site-packages\n",
      "Searching for heapdict==1.0.0\n",
      "Best match: heapdict 1.0.0\n",
      "Adding heapdict 1.0.0 to easy-install.pth file\n",
      "\n",
      "Using /anaconda3/lib/python3.7/site-packages\n",
      "Searching for MarkupSafe==1.1.1\n",
      "Best match: MarkupSafe 1.1.1\n",
      "Adding MarkupSafe 1.1.1 to easy-install.pth file\n",
      "\n",
      "Using /anaconda3/lib/python3.7/site-packages\n",
      "Searching for mistune==0.8.4\n",
      "Best match: mistune 0.8.4\n",
      "Adding mistune 0.8.4 to easy-install.pth file\n",
      "\n",
      "Using /anaconda3/lib/python3.7/site-packages\n",
      "Searching for pandocfilters==1.4.2\n",
      "Best match: pandocfilters 1.4.2\n",
      "Adding pandocfilters 1.4.2 to easy-install.pth file\n",
      "\n",
      "Using /anaconda3/lib/python3.7/site-packages\n",
      "Searching for entrypoints==0.3\n",
      "Best match: entrypoints 0.3\n",
      "Adding entrypoints 0.3 to easy-install.pth file\n",
      "\n",
      "Using /anaconda3/lib/python3.7/site-packages\n",
      "Searching for defusedxml==0.5.0\n",
      "Best match: defusedxml 0.5.0\n",
      "Adding defusedxml 0.5.0 to easy-install.pth file\n",
      "\n",
      "Using /anaconda3/lib/python3.7/site-packages\n",
      "Searching for testpath==0.4.2\n",
      "Best match: testpath 0.4.2\n",
      "Adding testpath 0.4.2 to easy-install.pth file\n",
      "\n",
      "Using /anaconda3/lib/python3.7/site-packages\n",
      "Searching for zipp==3.1.0\n",
      "Best match: zipp 3.1.0\n",
      "Adding zipp 3.1.0 to easy-install.pth file\n",
      "\n",
      "Using /anaconda3/lib/python3.7/site-packages\n",
      "Finished processing dependencies for nlp-profiler==0.0.1\n",
      "Once successfully installed, please RESTART your Jupyter kernels or Colab runtimes for the changes to take effect\n"
     ]
    },
    {
     "name": "stderr",
     "output_type": "stream",
     "text": [
      "zip_safe flag not set; analyzing archive contents...\n",
      "slow_tests.acceptance_tests.__pycache__.test_apply_text_profiling.cpython-37: module references __file__\n",
      "tests.acceptance_tests.__pycache__.test_apply_text_profiling.cpython-37: module references __file__\n"
     ]
    }
   ],
   "source": [
    "%%bash\n",
    "\n",
    "# When running from inside this repo:\n",
    "cd ../..\n",
    "python setup.py install\n",
    "\n",
    "# When running independently\n",
    "# pip install -U git+https://github.com/neomatrix369/nlp_profiler.git\n",
    "echo \"Once successfully installed, please RESTART your Jupyter kernels or Colab runtimes for the changes to take effect\""
   ]
  },
  {
   "cell_type": "code",
   "execution_count": 2,
   "metadata": {},
   "outputs": [
    {
     "name": "stderr",
     "output_type": "stream",
     "text": [
      "/anaconda3/lib/python3.7/site-packages/dask/dataframe/utils.py:14: FutureWarning: pandas.util.testing is deprecated. Use the functions in the public API at pandas.testing instead.\n",
      "  import pandas.util.testing as tm\n",
      "[nltk_data] Downloading package stopwords to /Users/swami/nltk_data...\n",
      "[nltk_data]   Package stopwords is already up-to-date!\n",
      "[nltk_data] Downloading package punkt to /Users/swami/nltk_data...\n",
      "[nltk_data]   Package punkt is already up-to-date!\n"
     ]
    }
   ],
   "source": [
    "import pandas as pd\n",
    "\n",
    "from nlp_profiler.core import apply_text_profiling"
   ]
  },
  {
   "cell_type": "markdown",
   "metadata": {},
   "source": [
    "#### Text messages with Emojis, Numbers, Alphanumeric, None-alphanumeric, Punctuations, Dates and Duplicates"
   ]
  },
  {
   "cell_type": "code",
   "execution_count": 3,
   "metadata": {},
   "outputs": [],
   "source": [
    "text_with_emojis = \"I love ⚽ very much 😁.\"\n",
    "text_with_a_number = '2833047 people live in this area. This is not a good area.'\n",
    "text_with_two_numbers = '2833047 and 1111 people live in this area.'\n",
    "text_with_punctuations = \"This sentence doesn't seem to too many commas, periods or semi-colons (;).\"\n",
    "text_with_a_date = \"Todays date is 04/28/2020 for format mm/dd/yyyy, not 28/04/2020.\"\n",
    "text_with_dates = \"Todays date is 28/04/2020 and tomorrow's date is 29/04/2020.\"\n",
    "text_with_duplicates = 'Everyone here is so hardworking. Hardworking people. I think hardworking people are a good trait in our company.'"
   ]
  },
  {
   "cell_type": "code",
   "execution_count": 4,
   "metadata": {},
   "outputs": [
    {
     "data": {
      "text/html": [
       "<div>\n",
       "<style scoped>\n",
       "    .dataframe tbody tr th:only-of-type {\n",
       "        vertical-align: middle;\n",
       "    }\n",
       "\n",
       "    .dataframe tbody tr th {\n",
       "        vertical-align: top;\n",
       "    }\n",
       "\n",
       "    .dataframe thead th {\n",
       "        text-align: right;\n",
       "    }\n",
       "</style>\n",
       "<table border=\"1\" class=\"dataframe\">\n",
       "  <thead>\n",
       "    <tr style=\"text-align: right;\">\n",
       "      <th></th>\n",
       "      <th>text</th>\n",
       "    </tr>\n",
       "  </thead>\n",
       "  <tbody>\n",
       "    <tr>\n",
       "      <th>0</th>\n",
       "      <td>I love ⚽ very much 😁.</td>\n",
       "    </tr>\n",
       "    <tr>\n",
       "      <th>1</th>\n",
       "      <td>2833047 people live in this area. This is not ...</td>\n",
       "    </tr>\n",
       "    <tr>\n",
       "      <th>2</th>\n",
       "      <td>2833047 and 1111 people live in this area.</td>\n",
       "    </tr>\n",
       "    <tr>\n",
       "      <th>3</th>\n",
       "      <td>This sentence doesn't seem to too many commas,...</td>\n",
       "    </tr>\n",
       "    <tr>\n",
       "      <th>4</th>\n",
       "      <td>Todays date is 04/28/2020 for format mm/dd/yyy...</td>\n",
       "    </tr>\n",
       "    <tr>\n",
       "      <th>5</th>\n",
       "      <td>Todays date is 28/04/2020 and tomorrow's date ...</td>\n",
       "    </tr>\n",
       "    <tr>\n",
       "      <th>6</th>\n",
       "      <td>Everyone here is so hardworking. Hardworking p...</td>\n",
       "    </tr>\n",
       "  </tbody>\n",
       "</table>\n",
       "</div>"
      ],
      "text/plain": [
       "                                                text\n",
       "0                              I love ⚽ very much 😁.\n",
       "1  2833047 people live in this area. This is not ...\n",
       "2         2833047 and 1111 people live in this area.\n",
       "3  This sentence doesn't seem to too many commas,...\n",
       "4  Todays date is 04/28/2020 for format mm/dd/yyy...\n",
       "5  Todays date is 28/04/2020 and tomorrow's date ...\n",
       "6  Everyone here is so hardworking. Hardworking p..."
      ]
     },
     "execution_count": 4,
     "metadata": {},
     "output_type": "execute_result"
    }
   ],
   "source": [
    "data = [text_with_emojis, text_with_a_number, text_with_two_numbers, \n",
    "        text_with_punctuations, text_with_a_date, text_with_dates, text_with_duplicates]\n",
    "text_dataframe = pd.DataFrame(data, columns=['text'])\n",
    "text_dataframe"
   ]
  },
  {
   "cell_type": "markdown",
   "metadata": {},
   "source": [
    "## Pandas describe() function"
   ]
  },
  {
   "cell_type": "code",
   "execution_count": 5,
   "metadata": {},
   "outputs": [
    {
     "data": {
      "text/html": [
       "<div>\n",
       "<style scoped>\n",
       "    .dataframe tbody tr th:only-of-type {\n",
       "        vertical-align: middle;\n",
       "    }\n",
       "\n",
       "    .dataframe tbody tr th {\n",
       "        vertical-align: top;\n",
       "    }\n",
       "\n",
       "    .dataframe thead th {\n",
       "        text-align: right;\n",
       "    }\n",
       "</style>\n",
       "<table border=\"1\" class=\"dataframe\">\n",
       "  <thead>\n",
       "    <tr style=\"text-align: right;\">\n",
       "      <th></th>\n",
       "      <th>text</th>\n",
       "    </tr>\n",
       "  </thead>\n",
       "  <tbody>\n",
       "    <tr>\n",
       "      <th>count</th>\n",
       "      <td>7</td>\n",
       "    </tr>\n",
       "    <tr>\n",
       "      <th>unique</th>\n",
       "      <td>7</td>\n",
       "    </tr>\n",
       "    <tr>\n",
       "      <th>top</th>\n",
       "      <td>This sentence doesn't seem to too many commas,...</td>\n",
       "    </tr>\n",
       "    <tr>\n",
       "      <th>freq</th>\n",
       "      <td>1</td>\n",
       "    </tr>\n",
       "  </tbody>\n",
       "</table>\n",
       "</div>"
      ],
      "text/plain": [
       "                                                     text\n",
       "count                                                   7\n",
       "unique                                                  7\n",
       "top     This sentence doesn't seem to too many commas,...\n",
       "freq                                                    1"
      ]
     },
     "execution_count": 5,
     "metadata": {},
     "output_type": "execute_result"
    }
   ],
   "source": [
    "text_dataframe.describe()"
   ]
  },
  {
   "cell_type": "markdown",
   "metadata": {},
   "source": [
    "## NLP profiler's equivalent to that"
   ]
  },
  {
   "cell_type": "code",
   "execution_count": 12,
   "metadata": {},
   "outputs": [
    {
     "name": "stdout",
     "output_type": "stream",
     "text": [
      "final params: {'high_level': True, 'granular': True, 'grammar_check': False, 'parallelism_method': 'default'}\n"
     ]
    },
    {
     "data": {
      "application/vnd.jupyter.widget-view+json": {
       "model_id": "1cb9f931f0f04929970ac495af192fd5",
       "version_major": 2,
       "version_minor": 0
      },
      "text/plain": [
       "HBox(children=(FloatProgress(value=0.0, layout=Layout(flex='2'), max=2.0), HTML(value='')), layout=Layout(disp…"
      ]
     },
     "metadata": {},
     "output_type": "display_data"
    },
    {
     "data": {
      "application/vnd.jupyter.widget-view+json": {
       "model_id": "20ce55f429a947868890045addc61472",
       "version_major": 2,
       "version_minor": 0
      },
      "text/plain": [
       "HBox(children=(FloatProgress(value=0.0, layout=Layout(flex='2'), max=13.0), HTML(value='')), layout=Layout(dis…"
      ]
     },
     "metadata": {},
     "output_type": "display_data"
    },
    {
     "data": {
      "application/vnd.jupyter.widget-view+json": {
       "model_id": "26da6988821e4d0a933925fb0bd95736",
       "version_major": 2,
       "version_minor": 0
      },
      "text/plain": [
       "HBox(children=(FloatProgress(value=0.0, layout=Layout(flex='2'), max=7.0), HTML(value='')), layout=Layout(disp…"
      ]
     },
     "metadata": {},
     "output_type": "display_data"
    },
    {
     "name": "stdout",
     "output_type": "stream",
     "text": [
      "\n"
     ]
    },
    {
     "data": {
      "application/vnd.jupyter.widget-view+json": {
       "model_id": "25423fb1fe174fe388427ff41ecb2201",
       "version_major": 2,
       "version_minor": 0
      },
      "text/plain": [
       "HBox(children=(FloatProgress(value=0.0, layout=Layout(flex='2'), max=7.0), HTML(value='')), layout=Layout(disp…"
      ]
     },
     "metadata": {},
     "output_type": "display_data"
    },
    {
     "name": "stdout",
     "output_type": "stream",
     "text": [
      "\n"
     ]
    },
    {
     "data": {
      "application/vnd.jupyter.widget-view+json": {
       "model_id": "20690693d9cd4e5383112584709a3c82",
       "version_major": 2,
       "version_minor": 0
      },
      "text/plain": [
       "HBox(children=(FloatProgress(value=0.0, layout=Layout(flex='2'), max=7.0), HTML(value='')), layout=Layout(disp…"
      ]
     },
     "metadata": {},
     "output_type": "display_data"
    },
    {
     "name": "stdout",
     "output_type": "stream",
     "text": [
      "\n"
     ]
    },
    {
     "data": {
      "application/vnd.jupyter.widget-view+json": {
       "model_id": "7e45a163c22b4fd4bdec5781e48b0613",
       "version_major": 2,
       "version_minor": 0
      },
      "text/plain": [
       "HBox(children=(FloatProgress(value=0.0, layout=Layout(flex='2'), max=7.0), HTML(value='')), layout=Layout(disp…"
      ]
     },
     "metadata": {},
     "output_type": "display_data"
    },
    {
     "name": "stdout",
     "output_type": "stream",
     "text": [
      "\n"
     ]
    },
    {
     "data": {
      "application/vnd.jupyter.widget-view+json": {
       "model_id": "408f6ae3191745989791372558454b2d",
       "version_major": 2,
       "version_minor": 0
      },
      "text/plain": [
       "HBox(children=(FloatProgress(value=0.0, layout=Layout(flex='2'), max=7.0), HTML(value='')), layout=Layout(disp…"
      ]
     },
     "metadata": {},
     "output_type": "display_data"
    },
    {
     "name": "stdout",
     "output_type": "stream",
     "text": [
      "\n"
     ]
    },
    {
     "data": {
      "application/vnd.jupyter.widget-view+json": {
       "model_id": "4d42f54d059d433ba8ce2d7143115bd8",
       "version_major": 2,
       "version_minor": 0
      },
      "text/plain": [
       "HBox(children=(FloatProgress(value=0.0, layout=Layout(flex='2'), max=7.0), HTML(value='')), layout=Layout(disp…"
      ]
     },
     "metadata": {},
     "output_type": "display_data"
    },
    {
     "name": "stdout",
     "output_type": "stream",
     "text": [
      "\n"
     ]
    },
    {
     "data": {
      "application/vnd.jupyter.widget-view+json": {
       "model_id": "b99d03bd6f2142e5b4c5d7b03f024722",
       "version_major": 2,
       "version_minor": 0
      },
      "text/plain": [
       "HBox(children=(FloatProgress(value=0.0, layout=Layout(flex='2'), max=7.0), HTML(value='')), layout=Layout(disp…"
      ]
     },
     "metadata": {},
     "output_type": "display_data"
    },
    {
     "name": "stdout",
     "output_type": "stream",
     "text": [
      "\n"
     ]
    },
    {
     "data": {
      "application/vnd.jupyter.widget-view+json": {
       "model_id": "168be298c68848938480a2496ad4e697",
       "version_major": 2,
       "version_minor": 0
      },
      "text/plain": [
       "HBox(children=(FloatProgress(value=0.0, layout=Layout(flex='2'), max=7.0), HTML(value='')), layout=Layout(disp…"
      ]
     },
     "metadata": {},
     "output_type": "display_data"
    },
    {
     "name": "stdout",
     "output_type": "stream",
     "text": [
      "\n"
     ]
    },
    {
     "data": {
      "application/vnd.jupyter.widget-view+json": {
       "model_id": "fb3b6df67a9a47b6b7024ae9d48ac9ce",
       "version_major": 2,
       "version_minor": 0
      },
      "text/plain": [
       "HBox(children=(FloatProgress(value=0.0, layout=Layout(flex='2'), max=7.0), HTML(value='')), layout=Layout(disp…"
      ]
     },
     "metadata": {},
     "output_type": "display_data"
    },
    {
     "name": "stdout",
     "output_type": "stream",
     "text": [
      "\n"
     ]
    },
    {
     "data": {
      "application/vnd.jupyter.widget-view+json": {
       "model_id": "b05f91161b014f6e888c059bfd5ff915",
       "version_major": 2,
       "version_minor": 0
      },
      "text/plain": [
       "HBox(children=(FloatProgress(value=0.0, layout=Layout(flex='2'), max=7.0), HTML(value='')), layout=Layout(disp…"
      ]
     },
     "metadata": {},
     "output_type": "display_data"
    },
    {
     "name": "stdout",
     "output_type": "stream",
     "text": [
      "\n"
     ]
    },
    {
     "data": {
      "application/vnd.jupyter.widget-view+json": {
       "model_id": "725035cc034648cda5efa848bd2fb31e",
       "version_major": 2,
       "version_minor": 0
      },
      "text/plain": [
       "HBox(children=(FloatProgress(value=0.0, layout=Layout(flex='2'), max=7.0), HTML(value='')), layout=Layout(disp…"
      ]
     },
     "metadata": {},
     "output_type": "display_data"
    },
    {
     "name": "stdout",
     "output_type": "stream",
     "text": [
      "\n"
     ]
    },
    {
     "data": {
      "application/vnd.jupyter.widget-view+json": {
       "model_id": "21c4dc75fde6452c9f442e11497b4cf2",
       "version_major": 2,
       "version_minor": 0
      },
      "text/plain": [
       "HBox(children=(FloatProgress(value=0.0, layout=Layout(flex='2'), max=7.0), HTML(value='')), layout=Layout(disp…"
      ]
     },
     "metadata": {},
     "output_type": "display_data"
    },
    {
     "name": "stdout",
     "output_type": "stream",
     "text": [
      "\n"
     ]
    },
    {
     "data": {
      "application/vnd.jupyter.widget-view+json": {
       "model_id": "a2c7e1290fab41aa9000bc587c54d8e1",
       "version_major": 2,
       "version_minor": 0
      },
      "text/plain": [
       "HBox(children=(FloatProgress(value=0.0, layout=Layout(flex='2'), max=7.0), HTML(value='')), layout=Layout(disp…"
      ]
     },
     "metadata": {},
     "output_type": "display_data"
    },
    {
     "name": "stdout",
     "output_type": "stream",
     "text": [
      "\n",
      "\n"
     ]
    },
    {
     "data": {
      "application/vnd.jupyter.widget-view+json": {
       "model_id": "6f443b57791c4a2f9d65d514b807fa55",
       "version_major": 2,
       "version_minor": 0
      },
      "text/plain": [
       "HBox(children=(FloatProgress(value=0.0, layout=Layout(flex='2'), max=9.0), HTML(value='')), layout=Layout(disp…"
      ]
     },
     "metadata": {},
     "output_type": "display_data"
    },
    {
     "data": {
      "application/vnd.jupyter.widget-view+json": {
       "model_id": "8bc7acbdf9f64164b4ccb6c6ccb4e5bd",
       "version_major": 2,
       "version_minor": 0
      },
      "text/plain": [
       "HBox(children=(FloatProgress(value=0.0, layout=Layout(flex='2'), max=7.0), HTML(value='')), layout=Layout(disp…"
      ]
     },
     "metadata": {},
     "output_type": "display_data"
    },
    {
     "name": "stdout",
     "output_type": "stream",
     "text": [
      "\n"
     ]
    },
    {
     "data": {
      "application/vnd.jupyter.widget-view+json": {
       "model_id": "9700b3da6f344f56859003f511ab350a",
       "version_major": 2,
       "version_minor": 0
      },
      "text/plain": [
       "HBox(children=(FloatProgress(value=0.0, layout=Layout(flex='2'), max=7.0), HTML(value='')), layout=Layout(disp…"
      ]
     },
     "metadata": {},
     "output_type": "display_data"
    },
    {
     "name": "stdout",
     "output_type": "stream",
     "text": [
      "\n"
     ]
    },
    {
     "data": {
      "application/vnd.jupyter.widget-view+json": {
       "model_id": "b767a32b86814989ac3ca35070ef4e56",
       "version_major": 2,
       "version_minor": 0
      },
      "text/plain": [
       "HBox(children=(FloatProgress(value=0.0, layout=Layout(flex='2'), max=7.0), HTML(value='')), layout=Layout(disp…"
      ]
     },
     "metadata": {},
     "output_type": "display_data"
    },
    {
     "name": "stdout",
     "output_type": "stream",
     "text": [
      "\n"
     ]
    },
    {
     "data": {
      "application/vnd.jupyter.widget-view+json": {
       "model_id": "322ae11730e14dd0b0ed8e058e425a6a",
       "version_major": 2,
       "version_minor": 0
      },
      "text/plain": [
       "HBox(children=(FloatProgress(value=0.0, layout=Layout(flex='2'), max=7.0), HTML(value='')), layout=Layout(disp…"
      ]
     },
     "metadata": {},
     "output_type": "display_data"
    },
    {
     "name": "stdout",
     "output_type": "stream",
     "text": [
      "\n"
     ]
    },
    {
     "data": {
      "application/vnd.jupyter.widget-view+json": {
       "model_id": "b419530f1e4a4b7cb5262e9d2f547ff1",
       "version_major": 2,
       "version_minor": 0
      },
      "text/plain": [
       "HBox(children=(FloatProgress(value=0.0, layout=Layout(flex='2'), max=7.0), HTML(value='')), layout=Layout(disp…"
      ]
     },
     "metadata": {},
     "output_type": "display_data"
    },
    {
     "name": "stdout",
     "output_type": "stream",
     "text": [
      "\n"
     ]
    },
    {
     "data": {
      "application/vnd.jupyter.widget-view+json": {
       "model_id": "e2138d2e9bae44afa6aafdadb1336749",
       "version_major": 2,
       "version_minor": 0
      },
      "text/plain": [
       "HBox(children=(FloatProgress(value=0.0, layout=Layout(flex='2'), max=7.0), HTML(value='')), layout=Layout(disp…"
      ]
     },
     "metadata": {},
     "output_type": "display_data"
    },
    {
     "name": "stdout",
     "output_type": "stream",
     "text": [
      "\n"
     ]
    },
    {
     "data": {
      "application/vnd.jupyter.widget-view+json": {
       "model_id": "a44e5684a46f46b8b922d10aa9bab547",
       "version_major": 2,
       "version_minor": 0
      },
      "text/plain": [
       "HBox(children=(FloatProgress(value=0.0, layout=Layout(flex='2'), max=7.0), HTML(value='')), layout=Layout(disp…"
      ]
     },
     "metadata": {},
     "output_type": "display_data"
    },
    {
     "name": "stdout",
     "output_type": "stream",
     "text": [
      "\n"
     ]
    },
    {
     "data": {
      "application/vnd.jupyter.widget-view+json": {
       "model_id": "351c01337a324249aecc7ab51c5de1ad",
       "version_major": 2,
       "version_minor": 0
      },
      "text/plain": [
       "HBox(children=(FloatProgress(value=0.0, layout=Layout(flex='2'), max=7.0), HTML(value='')), layout=Layout(disp…"
      ]
     },
     "metadata": {},
     "output_type": "display_data"
    },
    {
     "name": "stdout",
     "output_type": "stream",
     "text": [
      "\n"
     ]
    },
    {
     "data": {
      "application/vnd.jupyter.widget-view+json": {
       "model_id": "11b593d0c4964fe29d20f4690993f24a",
       "version_major": 2,
       "version_minor": 0
      },
      "text/plain": [
       "HBox(children=(FloatProgress(value=0.0, layout=Layout(flex='2'), max=7.0), HTML(value='')), layout=Layout(disp…"
      ]
     },
     "metadata": {},
     "output_type": "display_data"
    },
    {
     "name": "stdout",
     "output_type": "stream",
     "text": [
      "\n",
      "\n",
      "\n",
      "CPU times: user 10 s, sys: 3.89 s, total: 13.9 s\n",
      "Wall time: 20.1 s\n"
     ]
    },
    {
     "data": {
      "text/html": [
       "<div>\n",
       "<style scoped>\n",
       "    .dataframe tbody tr th:only-of-type {\n",
       "        vertical-align: middle;\n",
       "    }\n",
       "\n",
       "    .dataframe tbody tr th {\n",
       "        vertical-align: top;\n",
       "    }\n",
       "\n",
       "    .dataframe thead th {\n",
       "        text-align: right;\n",
       "    }\n",
       "</style>\n",
       "<table border=\"1\" class=\"dataframe\">\n",
       "  <thead>\n",
       "    <tr style=\"text-align: right;\">\n",
       "      <th></th>\n",
       "      <th>text</th>\n",
       "      <th>sentences_count</th>\n",
       "      <th>characters_count</th>\n",
       "      <th>spaces_count</th>\n",
       "      <th>words_count</th>\n",
       "      <th>duplicates_count</th>\n",
       "      <th>chars_excl_spaces_count</th>\n",
       "      <th>emoji_count</th>\n",
       "      <th>whole_numbers_count</th>\n",
       "      <th>alpha_numeric_count</th>\n",
       "      <th>...</th>\n",
       "      <th>dates_count</th>\n",
       "      <th>sentiment_polarity_score</th>\n",
       "      <th>sentiment_polarity</th>\n",
       "      <th>sentiment_polarity_summarised</th>\n",
       "      <th>sentiment_subjectivity_score</th>\n",
       "      <th>sentiment_subjectivity</th>\n",
       "      <th>sentiment_subjectivity_summarised</th>\n",
       "      <th>spelling_quality_score</th>\n",
       "      <th>spelling_quality</th>\n",
       "      <th>spelling_quality_summarised</th>\n",
       "    </tr>\n",
       "  </thead>\n",
       "  <tbody>\n",
       "    <tr>\n",
       "      <th>0</th>\n",
       "      <td>I love ⚽ very much 😁.</td>\n",
       "      <td>2</td>\n",
       "      <td>21</td>\n",
       "      <td>5</td>\n",
       "      <td>4</td>\n",
       "      <td>0</td>\n",
       "      <td>16</td>\n",
       "      <td>2</td>\n",
       "      <td>0</td>\n",
       "      <td>13</td>\n",
       "      <td>...</td>\n",
       "      <td>0</td>\n",
       "      <td>0.380000</td>\n",
       "      <td>Pretty positive</td>\n",
       "      <td>Positive</td>\n",
       "      <td>0.43</td>\n",
       "      <td>Objective/subjective</td>\n",
       "      <td>Objective/subjective</td>\n",
       "      <td>0.666667</td>\n",
       "      <td>Pretty good</td>\n",
       "      <td>Good</td>\n",
       "    </tr>\n",
       "    <tr>\n",
       "      <th>1</th>\n",
       "      <td>2833047 people live in this area. This is not ...</td>\n",
       "      <td>3</td>\n",
       "      <td>58</td>\n",
       "      <td>11</td>\n",
       "      <td>11</td>\n",
       "      <td>3</td>\n",
       "      <td>47</td>\n",
       "      <td>0</td>\n",
       "      <td>1</td>\n",
       "      <td>45</td>\n",
       "      <td>...</td>\n",
       "      <td>0</td>\n",
       "      <td>-0.106818</td>\n",
       "      <td>Pretty negative</td>\n",
       "      <td>Negative</td>\n",
       "      <td>0.55</td>\n",
       "      <td>Objective/subjective</td>\n",
       "      <td>Objective/subjective</td>\n",
       "      <td>0.750000</td>\n",
       "      <td>Pretty good</td>\n",
       "      <td>Good</td>\n",
       "    </tr>\n",
       "    <tr>\n",
       "      <th>2</th>\n",
       "      <td>2833047 and 1111 people live in this area.</td>\n",
       "      <td>2</td>\n",
       "      <td>42</td>\n",
       "      <td>7</td>\n",
       "      <td>6</td>\n",
       "      <td>0</td>\n",
       "      <td>35</td>\n",
       "      <td>0</td>\n",
       "      <td>2</td>\n",
       "      <td>34</td>\n",
       "      <td>...</td>\n",
       "      <td>0</td>\n",
       "      <td>0.136364</td>\n",
       "      <td>Pretty positive</td>\n",
       "      <td>Positive</td>\n",
       "      <td>0.50</td>\n",
       "      <td>Objective/subjective</td>\n",
       "      <td>Objective/subjective</td>\n",
       "      <td>1.000000</td>\n",
       "      <td>Very good</td>\n",
       "      <td>Good</td>\n",
       "    </tr>\n",
       "    <tr>\n",
       "      <th>3</th>\n",
       "      <td>This sentence doesn't seem to too many commas,...</td>\n",
       "      <td>2</td>\n",
       "      <td>74</td>\n",
       "      <td>11</td>\n",
       "      <td>13</td>\n",
       "      <td>0</td>\n",
       "      <td>63</td>\n",
       "      <td>0</td>\n",
       "      <td>0</td>\n",
       "      <td>56</td>\n",
       "      <td>...</td>\n",
       "      <td>0</td>\n",
       "      <td>0.375000</td>\n",
       "      <td>Pretty positive</td>\n",
       "      <td>Positive</td>\n",
       "      <td>0.75</td>\n",
       "      <td>Pretty subjective</td>\n",
       "      <td>Subjective</td>\n",
       "      <td>0.666667</td>\n",
       "      <td>Pretty good</td>\n",
       "      <td>Good</td>\n",
       "    </tr>\n",
       "    <tr>\n",
       "      <th>4</th>\n",
       "      <td>Todays date is 04/28/2020 for format mm/dd/yyy...</td>\n",
       "      <td>2</td>\n",
       "      <td>64</td>\n",
       "      <td>8</td>\n",
       "      <td>9</td>\n",
       "      <td>0</td>\n",
       "      <td>56</td>\n",
       "      <td>0</td>\n",
       "      <td>6</td>\n",
       "      <td>48</td>\n",
       "      <td>...</td>\n",
       "      <td>1</td>\n",
       "      <td>0.000000</td>\n",
       "      <td>Neutral</td>\n",
       "      <td>Neutral</td>\n",
       "      <td>0.00</td>\n",
       "      <td>Very objective</td>\n",
       "      <td>Objective</td>\n",
       "      <td>0.333333</td>\n",
       "      <td>Pretty bad</td>\n",
       "      <td>Bad</td>\n",
       "    </tr>\n",
       "  </tbody>\n",
       "</table>\n",
       "<p>5 rows × 23 columns</p>\n",
       "</div>"
      ],
      "text/plain": [
       "                                                text  sentences_count  \\\n",
       "0                              I love ⚽ very much 😁.                2   \n",
       "1  2833047 people live in this area. This is not ...                3   \n",
       "2         2833047 and 1111 people live in this area.                2   \n",
       "3  This sentence doesn't seem to too many commas,...                2   \n",
       "4  Todays date is 04/28/2020 for format mm/dd/yyy...                2   \n",
       "\n",
       "   characters_count  spaces_count  words_count  duplicates_count  \\\n",
       "0                21             5            4                 0   \n",
       "1                58            11           11                 3   \n",
       "2                42             7            6                 0   \n",
       "3                74            11           13                 0   \n",
       "4                64             8            9                 0   \n",
       "\n",
       "   chars_excl_spaces_count  emoji_count  whole_numbers_count  \\\n",
       "0                       16            2                    0   \n",
       "1                       47            0                    1   \n",
       "2                       35            0                    2   \n",
       "3                       63            0                    0   \n",
       "4                       56            0                    6   \n",
       "\n",
       "   alpha_numeric_count  ...  dates_count  sentiment_polarity_score  \\\n",
       "0                   13  ...            0                  0.380000   \n",
       "1                   45  ...            0                 -0.106818   \n",
       "2                   34  ...            0                  0.136364   \n",
       "3                   56  ...            0                  0.375000   \n",
       "4                   48  ...            1                  0.000000   \n",
       "\n",
       "   sentiment_polarity  sentiment_polarity_summarised  \\\n",
       "0     Pretty positive                       Positive   \n",
       "1     Pretty negative                       Negative   \n",
       "2     Pretty positive                       Positive   \n",
       "3     Pretty positive                       Positive   \n",
       "4             Neutral                        Neutral   \n",
       "\n",
       "   sentiment_subjectivity_score sentiment_subjectivity  \\\n",
       "0                          0.43   Objective/subjective   \n",
       "1                          0.55   Objective/subjective   \n",
       "2                          0.50   Objective/subjective   \n",
       "3                          0.75      Pretty subjective   \n",
       "4                          0.00         Very objective   \n",
       "\n",
       "  sentiment_subjectivity_summarised  spelling_quality_score spelling_quality  \\\n",
       "0              Objective/subjective                0.666667      Pretty good   \n",
       "1              Objective/subjective                0.750000      Pretty good   \n",
       "2              Objective/subjective                1.000000        Very good   \n",
       "3                        Subjective                0.666667      Pretty good   \n",
       "4                         Objective                0.333333       Pretty bad   \n",
       "\n",
       "  spelling_quality_summarised  \n",
       "0                        Good  \n",
       "1                        Good  \n",
       "2                        Good  \n",
       "3                        Good  \n",
       "4                         Bad  \n",
       "\n",
       "[5 rows x 23 columns]"
      ]
     },
     "execution_count": 12,
     "metadata": {},
     "output_type": "execute_result"
    }
   ],
   "source": [
    "%%time\n",
    "profiled_text_dataframe = apply_text_profiling(text_dataframe, 'text', params={'parallelism_method': 'default'})\n",
    "profiled_text_dataframe.head()"
   ]
  },
  {
   "cell_type": "markdown",
   "metadata": {},
   "source": [
    "### Sentiment Analysis"
   ]
  },
  {
   "cell_type": "code",
   "execution_count": 7,
   "metadata": {},
   "outputs": [
    {
     "name": "stderr",
     "output_type": "stream",
     "text": [
      "In /anaconda3/lib/python3.7/site-packages/matplotlib/mpl-data/stylelib/_classic_test.mplstyle: \n",
      "The savefig.frameon rcparam was deprecated in Matplotlib 3.1 and will be removed in 3.3.\n",
      "In /anaconda3/lib/python3.7/site-packages/matplotlib/mpl-data/stylelib/_classic_test.mplstyle: \n",
      "The verbose.level rcparam was deprecated in Matplotlib 3.1 and will be removed in 3.3.\n",
      "In /anaconda3/lib/python3.7/site-packages/matplotlib/mpl-data/stylelib/_classic_test.mplstyle: \n",
      "The verbose.fileo rcparam was deprecated in Matplotlib 3.1 and will be removed in 3.3.\n"
     ]
    },
    {
     "data": {
      "text/plain": [
       "<matplotlib.axes._subplots.AxesSubplot at 0x134b83ef0>"
      ]
     },
     "execution_count": 7,
     "metadata": {},
     "output_type": "execute_result"
    },
    {
     "data": {
      "image/png": "[encoded data removed]",
      "text/plain": [
       "<Figure size 432x288 with 1 Axes>"
      ]
     },
     "metadata": {
      "needs_background": "light"
     },
     "output_type": "display_data"
    }
   ],
   "source": [
    "profiled_text_dataframe['sentiment_polarity'].hist()"
   ]
  },
  {
   "cell_type": "code",
   "execution_count": 8,
   "metadata": {},
   "outputs": [
    {
     "data": {
      "text/plain": [
       "<matplotlib.axes._subplots.AxesSubplot at 0x134f1a160>"
      ]
     },
     "execution_count": 8,
     "metadata": {},
     "output_type": "execute_result"
    },
    {
     "data": {
      "image/png": "[encoded data removed]",
      "text/plain": [
       "<Figure size 432x288 with 1 Axes>"
      ]
     },
     "metadata": {
      "needs_background": "light"
     },
     "output_type": "display_data"
    }
   ],
   "source": [
    "profiled_text_dataframe['sentiment_subjectivity'].hist()"
   ]
  },
  {
   "cell_type": "markdown",
   "metadata": {},
   "source": [
    "### Spelling quality check"
   ]
  },
  {
   "cell_type": "markdown",
   "metadata": {},
   "source": [
    "#### The spelling score and spelling quality check is upto 70% accurate, it's using Peter Norvig’s “How to Write a Spelling Corrector\"."
   ]
  },
  {
   "cell_type": "code",
   "execution_count": 9,
   "metadata": {},
   "outputs": [
    {
     "data": {
      "text/plain": [
       "<matplotlib.axes._subplots.AxesSubplot at 0x134fa2828>"
      ]
     },
     "execution_count": 9,
     "metadata": {},
     "output_type": "execute_result"
    },
    {
     "data": {
      "image/png": "[encoded data removed]",
      "text/plain": [
       "<Figure size 432x288 with 1 Axes>"
      ]
     },
     "metadata": {
      "needs_background": "light"
     },
     "output_type": "display_data"
    }
   ],
   "source": [
    "profiled_text_dataframe['spelling_quality_score'].hist()"
   ]
  },
  {
   "cell_type": "code",
   "execution_count": 10,
   "metadata": {},
   "outputs": [
    {
     "data": {
      "text/plain": [
       "<matplotlib.axes._subplots.AxesSubplot at 0x13509f198>"
      ]
     },
     "execution_count": 10,
     "metadata": {},
     "output_type": "execute_result"
    },
    {
     "data": {
      "image/png": "[encoded data removed]",
      "text/plain": [
       "<Figure size 432x288 with 1 Axes>"
      ]
     },
     "metadata": {
      "needs_background": "light"
     },
     "output_type": "display_data"
    }
   ],
   "source": [
    "profiled_text_dataframe['spelling_quality'].hist()"
   ]
  },
  {
   "cell_type": "markdown",
   "metadata": {},
   "source": [
    "### Running describe() on the new NLP profiler generated dataframe"
   ]
  },
  {
   "cell_type": "code",
   "execution_count": 11,
   "metadata": {},
   "outputs": [
    {
     "data": {
      "text/html": [
       "<div>\n",
       "<style scoped>\n",
       "    .dataframe tbody tr th:only-of-type {\n",
       "        vertical-align: middle;\n",
       "    }\n",
       "\n",
       "    .dataframe tbody tr th {\n",
       "        vertical-align: top;\n",
       "    }\n",
       "\n",
       "    .dataframe thead th {\n",
       "        text-align: right;\n",
       "    }\n",
       "</style>\n",
       "<table border=\"1\" class=\"dataframe\">\n",
       "  <thead>\n",
       "    <tr style=\"text-align: right;\">\n",
       "      <th></th>\n",
       "      <th>sentences_count</th>\n",
       "      <th>characters_count</th>\n",
       "      <th>spaces_count</th>\n",
       "      <th>words_count</th>\n",
       "      <th>duplicates_count</th>\n",
       "      <th>chars_excl_spaces_count</th>\n",
       "      <th>emoji_count</th>\n",
       "      <th>whole_numbers_count</th>\n",
       "      <th>alpha_numeric_count</th>\n",
       "      <th>non_alpha_numeric_count</th>\n",
       "      <th>punctuations_count</th>\n",
       "      <th>stop_words_count</th>\n",
       "      <th>dates_count</th>\n",
       "      <th>sentiment_polarity_score</th>\n",
       "      <th>sentiment_subjectivity_score</th>\n",
       "      <th>spelling_quality_score</th>\n",
       "    </tr>\n",
       "  </thead>\n",
       "  <tbody>\n",
       "    <tr>\n",
       "      <th>count</th>\n",
       "      <td>7.000000</td>\n",
       "      <td>7.000000</td>\n",
       "      <td>7.000000</td>\n",
       "      <td>7.000000</td>\n",
       "      <td>7.000000</td>\n",
       "      <td>7.000000</td>\n",
       "      <td>7.000000</td>\n",
       "      <td>7.000000</td>\n",
       "      <td>7.000000</td>\n",
       "      <td>7.000000</td>\n",
       "      <td>7.00000</td>\n",
       "      <td>7.000000</td>\n",
       "      <td>7.000000</td>\n",
       "      <td>7.000000</td>\n",
       "      <td>7.000000</td>\n",
       "      <td>7.000000</td>\n",
       "    </tr>\n",
       "    <tr>\n",
       "      <th>mean</th>\n",
       "      <td>2.428571</td>\n",
       "      <td>61.571429</td>\n",
       "      <td>9.571429</td>\n",
       "      <td>9.857143</td>\n",
       "      <td>1.142857</td>\n",
       "      <td>52.000000</td>\n",
       "      <td>0.285714</td>\n",
       "      <td>2.142857</td>\n",
       "      <td>47.714286</td>\n",
       "      <td>13.857143</td>\n",
       "      <td>4.00000</td>\n",
       "      <td>3.714286</td>\n",
       "      <td>0.428571</td>\n",
       "      <td>0.212078</td>\n",
       "      <td>0.404286</td>\n",
       "      <td>0.676190</td>\n",
       "    </tr>\n",
       "    <tr>\n",
       "      <th>std</th>\n",
       "      <td>0.786796</td>\n",
       "      <td>28.129801</td>\n",
       "      <td>3.909695</td>\n",
       "      <td>4.670067</td>\n",
       "      <td>1.463850</td>\n",
       "      <td>24.481285</td>\n",
       "      <td>0.755929</td>\n",
       "      <td>2.734262</td>\n",
       "      <td>23.921499</td>\n",
       "      <td>4.634241</td>\n",
       "      <td>2.94392</td>\n",
       "      <td>1.889822</td>\n",
       "      <td>0.786796</td>\n",
       "      <td>0.285829</td>\n",
       "      <td>0.293193</td>\n",
       "      <td>0.323015</td>\n",
       "    </tr>\n",
       "    <tr>\n",
       "      <th>min</th>\n",
       "      <td>2.000000</td>\n",
       "      <td>21.000000</td>\n",
       "      <td>5.000000</td>\n",
       "      <td>4.000000</td>\n",
       "      <td>0.000000</td>\n",
       "      <td>16.000000</td>\n",
       "      <td>0.000000</td>\n",
       "      <td>0.000000</td>\n",
       "      <td>13.000000</td>\n",
       "      <td>8.000000</td>\n",
       "      <td>1.00000</td>\n",
       "      <td>1.000000</td>\n",
       "      <td>0.000000</td>\n",
       "      <td>-0.106818</td>\n",
       "      <td>0.000000</td>\n",
       "      <td>0.333333</td>\n",
       "    </tr>\n",
       "    <tr>\n",
       "      <th>25%</th>\n",
       "      <td>2.000000</td>\n",
       "      <td>50.000000</td>\n",
       "      <td>7.500000</td>\n",
       "      <td>7.000000</td>\n",
       "      <td>0.000000</td>\n",
       "      <td>41.000000</td>\n",
       "      <td>0.000000</td>\n",
       "      <td>0.000000</td>\n",
       "      <td>39.500000</td>\n",
       "      <td>10.500000</td>\n",
       "      <td>1.50000</td>\n",
       "      <td>3.000000</td>\n",
       "      <td>0.000000</td>\n",
       "      <td>0.000000</td>\n",
       "      <td>0.215000</td>\n",
       "      <td>0.366667</td>\n",
       "    </tr>\n",
       "    <tr>\n",
       "      <th>50%</th>\n",
       "      <td>2.000000</td>\n",
       "      <td>60.000000</td>\n",
       "      <td>8.000000</td>\n",
       "      <td>9.000000</td>\n",
       "      <td>0.000000</td>\n",
       "      <td>52.000000</td>\n",
       "      <td>0.000000</td>\n",
       "      <td>1.000000</td>\n",
       "      <td>46.000000</td>\n",
       "      <td>14.000000</td>\n",
       "      <td>3.00000</td>\n",
       "      <td>3.000000</td>\n",
       "      <td>0.000000</td>\n",
       "      <td>0.136364</td>\n",
       "      <td>0.500000</td>\n",
       "      <td>0.666667</td>\n",
       "    </tr>\n",
       "    <tr>\n",
       "      <th>75%</th>\n",
       "      <td>2.500000</td>\n",
       "      <td>69.000000</td>\n",
       "      <td>11.000000</td>\n",
       "      <td>12.000000</td>\n",
       "      <td>2.500000</td>\n",
       "      <td>59.500000</td>\n",
       "      <td>0.000000</td>\n",
       "      <td>4.000000</td>\n",
       "      <td>52.000000</td>\n",
       "      <td>17.000000</td>\n",
       "      <td>6.50000</td>\n",
       "      <td>4.500000</td>\n",
       "      <td>0.500000</td>\n",
       "      <td>0.377500</td>\n",
       "      <td>0.575000</td>\n",
       "      <td>1.000000</td>\n",
       "    </tr>\n",
       "    <tr>\n",
       "      <th>max</th>\n",
       "      <td>4.000000</td>\n",
       "      <td>112.000000</td>\n",
       "      <td>17.000000</td>\n",
       "      <td>18.000000</td>\n",
       "      <td>3.000000</td>\n",
       "      <td>95.000000</td>\n",
       "      <td>2.000000</td>\n",
       "      <td>6.000000</td>\n",
       "      <td>92.000000</td>\n",
       "      <td>20.000000</td>\n",
       "      <td>8.00000</td>\n",
       "      <td>7.000000</td>\n",
       "      <td>2.000000</td>\n",
       "      <td>0.700000</td>\n",
       "      <td>0.750000</td>\n",
       "      <td>1.000000</td>\n",
       "    </tr>\n",
       "  </tbody>\n",
       "</table>\n",
       "</div>"
      ],
      "text/plain": [
       "       sentences_count  characters_count  spaces_count  words_count  \\\n",
       "count         7.000000          7.000000      7.000000     7.000000   \n",
       "mean          2.428571         61.571429      9.571429     9.857143   \n",
       "std           0.786796         28.129801      3.909695     4.670067   \n",
       "min           2.000000         21.000000      5.000000     4.000000   \n",
       "25%           2.000000         50.000000      7.500000     7.000000   \n",
       "50%           2.000000         60.000000      8.000000     9.000000   \n",
       "75%           2.500000         69.000000     11.000000    12.000000   \n",
       "max           4.000000        112.000000     17.000000    18.000000   \n",
       "\n",
       "       duplicates_count  chars_excl_spaces_count  emoji_count  \\\n",
       "count          7.000000                 7.000000     7.000000   \n",
       "mean           1.142857                52.000000     0.285714   \n",
       "std            1.463850                24.481285     0.755929   \n",
       "min            0.000000                16.000000     0.000000   \n",
       "25%            0.000000                41.000000     0.000000   \n",
       "50%            0.000000                52.000000     0.000000   \n",
       "75%            2.500000                59.500000     0.000000   \n",
       "max            3.000000                95.000000     2.000000   \n",
       "\n",
       "       whole_numbers_count  alpha_numeric_count  non_alpha_numeric_count  \\\n",
       "count             7.000000             7.000000                 7.000000   \n",
       "mean              2.142857            47.714286                13.857143   \n",
       "std               2.734262            23.921499                 4.634241   \n",
       "min               0.000000            13.000000                 8.000000   \n",
       "25%               0.000000            39.500000                10.500000   \n",
       "50%               1.000000            46.000000                14.000000   \n",
       "75%               4.000000            52.000000                17.000000   \n",
       "max               6.000000            92.000000                20.000000   \n",
       "\n",
       "       punctuations_count  stop_words_count  dates_count  \\\n",
       "count             7.00000          7.000000     7.000000   \n",
       "mean              4.00000          3.714286     0.428571   \n",
       "std               2.94392          1.889822     0.786796   \n",
       "min               1.00000          1.000000     0.000000   \n",
       "25%               1.50000          3.000000     0.000000   \n",
       "50%               3.00000          3.000000     0.000000   \n",
       "75%               6.50000          4.500000     0.500000   \n",
       "max               8.00000          7.000000     2.000000   \n",
       "\n",
       "       sentiment_polarity_score  sentiment_subjectivity_score  \\\n",
       "count                  7.000000                      7.000000   \n",
       "mean                   0.212078                      0.404286   \n",
       "std                    0.285829                      0.293193   \n",
       "min                   -0.106818                      0.000000   \n",
       "25%                    0.000000                      0.215000   \n",
       "50%                    0.136364                      0.500000   \n",
       "75%                    0.377500                      0.575000   \n",
       "max                    0.700000                      0.750000   \n",
       "\n",
       "       spelling_quality_score  \n",
       "count                7.000000  \n",
       "mean                 0.676190  \n",
       "std                  0.323015  \n",
       "min                  0.333333  \n",
       "25%                  0.366667  \n",
       "50%                  0.666667  \n",
       "75%                  1.000000  \n",
       "max                  1.000000  "
      ]
     },
     "execution_count": 11,
     "metadata": {},
     "output_type": "execute_result"
    }
   ],
   "source": [
    "profiled_text_dataframe.describe()"
   ]
  },
  {
   "cell_type": "markdown",
   "metadata": {},
   "source": [
    "### Resources\n",
    "\n",
    "- https://www.kaggle.com/raenish/cheatsheet-text-helper-functions\n",
    "- https://textblob.readthedocs.io/en/dev/quickstart.html\n",
    "- [Approaching (Almost) Any NLP Problem on Kaggle](https://www.kaggle.com/abhishek/approaching-almost-any-nlp-problem-on-kaggle)\n",
    "- [Words of estimative probability](https://en.wikipedia.org/wiki/Words_of_estimative_probability)\n",
    "- [NLP Profiler source file](https://github.com/neomatrix369/awesome-ai-ml-dl/blob/master/examples/better-nlp/library/org/neomatrix369/nlp_profiler.py)\n",
    "- [Kaggle Utility script](https://www.kaggle.com/neomatrix369/nlp-profiler-class)\n",
    "- [Kaggle kernel](https://www.kaggle.com/neomatrix369/nlp-profiler-simple-dataset)\n",
    "- [Awesome AI-ML-DL: Better NLP library](https://bit.ly/better-nlp-launch)\n",
    "- [Awesome AI-ML-DL: NLP Resources](https://github.com/neomatrix369/awesome-ai-ml-dl/tree/master/natural-language-processing)\n",
    "- [Awesome AI-ML-DL Github](https://github.com/neomatrix369/awesome-ai-ml-dl/blob/)"
   ]
  }
 ],
 "metadata": {
  "kernelspec": {
   "display_name": "Python 3",
   "language": "python",
   "name": "python3"
  },
  "language_info": {
   "codemirror_mode": {
    "name": "ipython",
    "version": 3
   },
   "file_extension": ".py",
   "mimetype": "text/x-python",
   "name": "python",
   "nbconvert_exporter": "python",
   "pygments_lexer": "ipython3",
   "version": "3.7.2"
  }
 },
 "nbformat": 4,
 "nbformat_minor": 4
}
