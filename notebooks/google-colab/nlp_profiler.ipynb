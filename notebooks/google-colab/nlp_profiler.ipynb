{
 "cells": [
  {
   "cell_type": "markdown",
   "metadata": {
    "id": "view-in-github",
    "colab_type": "text"
   },
   "source": [
    "<a href=\"https://colab.research.google.com/github/neomatrix369/nlp_profiler/blob/master/notebooks/google-colab/nlp_profiler.ipynb\" target=\"_parent\"><img src=\"https://colab.research.google.com/assets/colab-badge.svg\" alt=\"Open In Colab\"/></a>"
   ]
  },
  {
   "cell_type": "code",
   "execution_count": 5,
   "metadata": {},
   "outputs": [
    {
     "name": "stdout",
     "output_type": "stream",
     "text": [
      "Library source found\n",
      "/Users/swami/git-repos/ai-ml-dl-stuff/awesome-ai-ml-dl/examples/better-nlp/build\n",
      "CPU times: user 4.79 ms, sys: 8.79 ms, total: 13.6 ms\n",
      "Wall time: 19 ms\n"
     ]
    }
   ],
   "source": [
    "%%bash\n",
    "\n",
    "pip install git+https://github.com/neomatrix369/nlp_profiler.git@master\n",
    "echo \"Once successfully installed, please RESTART your Jupyter kernels or Colab runtimes for the changes to take effect\""
   ]
  },
  {
   "cell_type": "code",
   "execution_count": 1,
   "metadata": {},
   "outputs": [
    {
     "name": "stderr",
     "output_type": "stream",
     "text": [
      "[nltk_data] Downloading package stopwords to /home/jovyan/nltk_data...\n",
      "[nltk_data]   Package stopwords is already up-to-date!\n",
      "[nltk_data] Downloading package punkt to /home/jovyan/nltk_data...\n",
      "[nltk_data]   Package punkt is already up-to-date!\n"
     ]
    }
   ],
   "source": [
    "import pandas as pd\n",
    "\n",
    "from nlp_profiler.core import apply_text_profiling"
   ]
  },
  {
   "cell_type": "markdown",
   "metadata": {},
   "source": [
    "#### Text messages with Emojis, Numbers, Alphanumeric, None-alphanumeric, Punctuations, Dates and Duplicates"
   ]
  },
  {
   "cell_type": "code",
   "execution_count": 2,
   "metadata": {},
   "outputs": [],
   "source": [
    "text_with_emojis = \"I love ⚽ very much 😁.\"\n",
    "text_with_a_number = '2833047 people live in this area. It is not a good area.'\n",
    "text_with_two_numbers = '2833047 and 1111 people live in this area.'\n",
    "text_with_punctuations = \"This sentence doesn't seem to too many commas, periods or semi-colons (;).\"\n",
    "text_with_a_date = \"Todays date is 04/28/2020 for format mm/dd/yyyy, not 28/04/2020.\"\n",
    "text_with_dates = \"Todays date is 28/04/2020 and tomorrow's date is 29/04/2020.\"\n",
    "text_with_duplicates = 'Everyone here is so hardworking. Hardworking people. I think hardworking people are a good trait in our company.'"
   ]
  },
  {
   "cell_type": "code",
   "execution_count": 3,
   "metadata": {},
   "outputs": [
    {
     "data": {
      "text/html": [
       "<div>\n",
       "<style scoped>\n",
       "    .dataframe tbody tr th:only-of-type {\n",
       "        vertical-align: middle;\n",
       "    }\n",
       "\n",
       "    .dataframe tbody tr th {\n",
       "        vertical-align: top;\n",
       "    }\n",
       "\n",
       "    .dataframe thead th {\n",
       "        text-align: right;\n",
       "    }\n",
       "</style>\n",
       "<table border=\"1\" class=\"dataframe\">\n",
       "  <thead>\n",
       "    <tr style=\"text-align: right;\">\n",
       "      <th></th>\n",
       "      <th>text</th>\n",
       "    </tr>\n",
       "  </thead>\n",
       "  <tbody>\n",
       "    <tr>\n",
       "      <th>0</th>\n",
       "      <td>I love ⚽ very much 😁.</td>\n",
       "    </tr>\n",
       "    <tr>\n",
       "      <th>1</th>\n",
       "      <td>2833047 people live in this area. It is not a ...</td>\n",
       "    </tr>\n",
       "    <tr>\n",
       "      <th>2</th>\n",
       "      <td>2833047 and 1111 people live in this area.</td>\n",
       "    </tr>\n",
       "    <tr>\n",
       "      <th>3</th>\n",
       "      <td>This sentence doesn't seem to too many commas,...</td>\n",
       "    </tr>\n",
       "    <tr>\n",
       "      <th>4</th>\n",
       "      <td>Todays date is 04/28/2020 for format mm/dd/yyy...</td>\n",
       "    </tr>\n",
       "    <tr>\n",
       "      <th>5</th>\n",
       "      <td>Todays date is 28/04/2020 and tomorrow's date ...</td>\n",
       "    </tr>\n",
       "    <tr>\n",
       "      <th>6</th>\n",
       "      <td>Everyone here is so hardworking. Hardworking p...</td>\n",
       "    </tr>\n",
       "  </tbody>\n",
       "</table>\n",
       "</div>"
      ],
      "text/plain": [
       "                                                text\n",
       "0                              I love ⚽ very much 😁.\n",
       "1  2833047 people live in this area. It is not a ...\n",
       "2         2833047 and 1111 people live in this area.\n",
       "3  This sentence doesn't seem to too many commas,...\n",
       "4  Todays date is 04/28/2020 for format mm/dd/yyy...\n",
       "5  Todays date is 28/04/2020 and tomorrow's date ...\n",
       "6  Everyone here is so hardworking. Hardworking p..."
      ]
     },
     "execution_count": 3,
     "metadata": {},
     "output_type": "execute_result"
    }
   ],
   "source": [
    "data = [text_with_emojis, text_with_a_number, text_with_two_numbers, \n",
    "        text_with_punctuations, text_with_a_date, text_with_dates, text_with_duplicates]\n",
    "text_dataframe = pd.DataFrame(data, columns=['text'])\n",
    "text_dataframe"
   ]
  },
  {
   "cell_type": "markdown",
   "metadata": {},
   "source": [
    "## Pandas describe() function"
   ]
  },
  {
   "cell_type": "code",
   "execution_count": 4,
   "metadata": {},
   "outputs": [
    {
     "data": {
      "text/html": [
       "<div>\n",
       "<style scoped>\n",
       "    .dataframe tbody tr th:only-of-type {\n",
       "        vertical-align: middle;\n",
       "    }\n",
       "\n",
       "    .dataframe tbody tr th {\n",
       "        vertical-align: top;\n",
       "    }\n",
       "\n",
       "    .dataframe thead th {\n",
       "        text-align: right;\n",
       "    }\n",
       "</style>\n",
       "<table border=\"1\" class=\"dataframe\">\n",
       "  <thead>\n",
       "    <tr style=\"text-align: right;\">\n",
       "      <th></th>\n",
       "      <th>text</th>\n",
       "    </tr>\n",
       "  </thead>\n",
       "  <tbody>\n",
       "    <tr>\n",
       "      <th>count</th>\n",
       "      <td>7</td>\n",
       "    </tr>\n",
       "    <tr>\n",
       "      <th>unique</th>\n",
       "      <td>7</td>\n",
       "    </tr>\n",
       "    <tr>\n",
       "      <th>top</th>\n",
       "      <td>Everyone here is so hardworking. Hardworking p...</td>\n",
       "    </tr>\n",
       "    <tr>\n",
       "      <th>freq</th>\n",
       "      <td>1</td>\n",
       "    </tr>\n",
       "  </tbody>\n",
       "</table>\n",
       "</div>"
      ],
      "text/plain": [
       "                                                     text\n",
       "count                                                   7\n",
       "unique                                                  7\n",
       "top     Everyone here is so hardworking. Hardworking p...\n",
       "freq                                                    1"
      ]
     },
     "execution_count": 4,
     "metadata": {},
     "output_type": "execute_result"
    }
   ],
   "source": [
    "text_dataframe.describe()"
   ]
  },
  {
   "cell_type": "markdown",
   "metadata": {},
   "source": [
    "## NLP profiler's equivalent to that"
   ]
  },
  {
   "cell_type": "code",
   "execution_count": 5,
   "metadata": {},
   "outputs": [
    {
     "name": "stdout",
     "output_type": "stream",
     "text": [
      "params: {}\n"
     ]
    },
    {
     "data": {
      "text/html": [
       "<div>\n",
       "<style scoped>\n",
       "    .dataframe tbody tr th:only-of-type {\n",
       "        vertical-align: middle;\n",
       "    }\n",
       "\n",
       "    .dataframe tbody tr th {\n",
       "        vertical-align: top;\n",
       "    }\n",
       "\n",
       "    .dataframe thead th {\n",
       "        text-align: right;\n",
       "    }\n",
       "</style>\n",
       "<table border=\"1\" class=\"dataframe\">\n",
       "  <thead>\n",
       "    <tr style=\"text-align: right;\">\n",
       "      <th></th>\n",
       "      <th>text</th>\n",
       "      <th>sentiment_polarity_score</th>\n",
       "      <th>sentiment_polarity</th>\n",
       "      <th>sentiment_polarity_summarised</th>\n",
       "      <th>sentiment_subjectivity_score</th>\n",
       "      <th>sentiment_subjectivity</th>\n",
       "      <th>sentiment_subjectivity_summarised</th>\n",
       "      <th>spelling_quality_score</th>\n",
       "      <th>spelling_quality</th>\n",
       "      <th>spelling_quality_summarised</th>\n",
       "      <th>...</th>\n",
       "      <th>words_count</th>\n",
       "      <th>duplicates_count</th>\n",
       "      <th>chars_excl_spaces_count</th>\n",
       "      <th>emoji_count</th>\n",
       "      <th>whole_numbers_count</th>\n",
       "      <th>alpha_numeric_count</th>\n",
       "      <th>non_alpha_numeric_count</th>\n",
       "      <th>punctuations_count</th>\n",
       "      <th>stop_words_count</th>\n",
       "      <th>dates_count</th>\n",
       "    </tr>\n",
       "  </thead>\n",
       "  <tbody>\n",
       "    <tr>\n",
       "      <th>0</th>\n",
       "      <td>I love ⚽ very much 😁.</td>\n",
       "      <td>0.380000</td>\n",
       "      <td>Pretty positive</td>\n",
       "      <td>Positive</td>\n",
       "      <td>0.43</td>\n",
       "      <td>Objective/subjective</td>\n",
       "      <td>Subjective</td>\n",
       "      <td>1.000000</td>\n",
       "      <td>Very good</td>\n",
       "      <td>Good</td>\n",
       "      <td>...</td>\n",
       "      <td>4</td>\n",
       "      <td>0</td>\n",
       "      <td>16</td>\n",
       "      <td>2</td>\n",
       "      <td>0</td>\n",
       "      <td>13</td>\n",
       "      <td>8</td>\n",
       "      <td>1</td>\n",
       "      <td>1</td>\n",
       "      <td>0</td>\n",
       "    </tr>\n",
       "    <tr>\n",
       "      <th>1</th>\n",
       "      <td>2833047 people live in this area. It is not a ...</td>\n",
       "      <td>-0.106818</td>\n",
       "      <td>Pretty negative</td>\n",
       "      <td>Negative</td>\n",
       "      <td>0.55</td>\n",
       "      <td>Objective/subjective</td>\n",
       "      <td>Subjective</td>\n",
       "      <td>0.968802</td>\n",
       "      <td>Quite good</td>\n",
       "      <td>Good</td>\n",
       "      <td>...</td>\n",
       "      <td>11</td>\n",
       "      <td>2</td>\n",
       "      <td>45</td>\n",
       "      <td>0</td>\n",
       "      <td>1</td>\n",
       "      <td>43</td>\n",
       "      <td>13</td>\n",
       "      <td>2</td>\n",
       "      <td>5</td>\n",
       "      <td>0</td>\n",
       "    </tr>\n",
       "    <tr>\n",
       "      <th>2</th>\n",
       "      <td>2833047 and 1111 people live in this area.</td>\n",
       "      <td>0.136364</td>\n",
       "      <td>Pretty positive</td>\n",
       "      <td>Positive</td>\n",
       "      <td>0.50</td>\n",
       "      <td>Objective/subjective</td>\n",
       "      <td>Subjective</td>\n",
       "      <td>1.000000</td>\n",
       "      <td>Very good</td>\n",
       "      <td>Good</td>\n",
       "      <td>...</td>\n",
       "      <td>6</td>\n",
       "      <td>0</td>\n",
       "      <td>35</td>\n",
       "      <td>0</td>\n",
       "      <td>2</td>\n",
       "      <td>34</td>\n",
       "      <td>8</td>\n",
       "      <td>1</td>\n",
       "      <td>3</td>\n",
       "      <td>0</td>\n",
       "    </tr>\n",
       "    <tr>\n",
       "      <th>3</th>\n",
       "      <td>This sentence doesn't seem to too many commas,...</td>\n",
       "      <td>0.375000</td>\n",
       "      <td>Pretty positive</td>\n",
       "      <td>Positive</td>\n",
       "      <td>0.75</td>\n",
       "      <td>Pretty subjective</td>\n",
       "      <td>Subjective</td>\n",
       "      <td>0.923887</td>\n",
       "      <td>Quite good</td>\n",
       "      <td>Good</td>\n",
       "      <td>...</td>\n",
       "      <td>13</td>\n",
       "      <td>0</td>\n",
       "      <td>63</td>\n",
       "      <td>0</td>\n",
       "      <td>0</td>\n",
       "      <td>56</td>\n",
       "      <td>18</td>\n",
       "      <td>7</td>\n",
       "      <td>4</td>\n",
       "      <td>0</td>\n",
       "    </tr>\n",
       "    <tr>\n",
       "      <th>4</th>\n",
       "      <td>Todays date is 04/28/2020 for format mm/dd/yyy...</td>\n",
       "      <td>0.000000</td>\n",
       "      <td>Neutral</td>\n",
       "      <td>Neutral</td>\n",
       "      <td>0.00</td>\n",
       "      <td>Very objective</td>\n",
       "      <td>Objective</td>\n",
       "      <td>0.711513</td>\n",
       "      <td>Pretty good</td>\n",
       "      <td>Good</td>\n",
       "      <td>...</td>\n",
       "      <td>9</td>\n",
       "      <td>0</td>\n",
       "      <td>56</td>\n",
       "      <td>0</td>\n",
       "      <td>6</td>\n",
       "      <td>48</td>\n",
       "      <td>16</td>\n",
       "      <td>8</td>\n",
       "      <td>3</td>\n",
       "      <td>1</td>\n",
       "    </tr>\n",
       "  </tbody>\n",
       "</table>\n",
       "<p>5 rows × 23 columns</p>\n",
       "</div>"
      ],
      "text/plain": [
       "                                                text  \\\n",
       "0                              I love ⚽ very much 😁.   \n",
       "1  2833047 people live in this area. It is not a ...   \n",
       "2         2833047 and 1111 people live in this area.   \n",
       "3  This sentence doesn't seem to too many commas,...   \n",
       "4  Todays date is 04/28/2020 for format mm/dd/yyy...   \n",
       "\n",
       "   sentiment_polarity_score sentiment_polarity sentiment_polarity_summarised  \\\n",
       "0                  0.380000    Pretty positive                      Positive   \n",
       "1                 -0.106818    Pretty negative                      Negative   \n",
       "2                  0.136364    Pretty positive                      Positive   \n",
       "3                  0.375000    Pretty positive                      Positive   \n",
       "4                  0.000000            Neutral                       Neutral   \n",
       "\n",
       "   sentiment_subjectivity_score sentiment_subjectivity  \\\n",
       "0                          0.43   Objective/subjective   \n",
       "1                          0.55   Objective/subjective   \n",
       "2                          0.50   Objective/subjective   \n",
       "3                          0.75      Pretty subjective   \n",
       "4                          0.00         Very objective   \n",
       "\n",
       "  sentiment_subjectivity_summarised  spelling_quality_score spelling_quality  \\\n",
       "0                        Subjective                1.000000        Very good   \n",
       "1                        Subjective                0.968802       Quite good   \n",
       "2                        Subjective                1.000000        Very good   \n",
       "3                        Subjective                0.923887       Quite good   \n",
       "4                         Objective                0.711513      Pretty good   \n",
       "\n",
       "  spelling_quality_summarised  ...  words_count  duplicates_count  \\\n",
       "0                        Good  ...            4                 0   \n",
       "1                        Good  ...           11                 2   \n",
       "2                        Good  ...            6                 0   \n",
       "3                        Good  ...           13                 0   \n",
       "4                        Good  ...            9                 0   \n",
       "\n",
       "   chars_excl_spaces_count  emoji_count  whole_numbers_count  \\\n",
       "0                       16            2                    0   \n",
       "1                       45            0                    1   \n",
       "2                       35            0                    2   \n",
       "3                       63            0                    0   \n",
       "4                       56            0                    6   \n",
       "\n",
       "   alpha_numeric_count  non_alpha_numeric_count  punctuations_count  \\\n",
       "0                   13                        8                   1   \n",
       "1                   43                       13                   2   \n",
       "2                   34                        8                   1   \n",
       "3                   56                       18                   7   \n",
       "4                   48                       16                   8   \n",
       "\n",
       "   stop_words_count  dates_count  \n",
       "0                 1            0  \n",
       "1                 5            0  \n",
       "2                 3            0  \n",
       "3                 4            0  \n",
       "4                 3            1  \n",
       "\n",
       "[5 rows x 23 columns]"
      ]
     },
     "execution_count": 5,
     "metadata": {},
     "output_type": "execute_result"
    }
   ],
   "source": [
    "profiled_text_dataframe = apply_text_profiling(text_dataframe, 'text')\n",
    "profiled_text_dataframe.head()"
   ]
  },
  {
   "cell_type": "markdown",
   "metadata": {},
   "source": [
    "### Sentiment Analysis"
   ]
  },
  {
   "cell_type": "code",
   "execution_count": 6,
   "metadata": {},
   "outputs": [
    {
     "data": {
      "text/plain": [
       "<matplotlib.axes._subplots.AxesSubplot at 0x7f7ce87f8250>"
      ]
     },
     "execution_count": 6,
     "metadata": {},
     "output_type": "execute_result"
    },
    {
     "data": {
      "image/png": "[encoded data removed]",
      "text/plain": [
       "<Figure size 432x288 with 1 Axes>"
      ]
     },
     "metadata": {
      "needs_background": "light"
     },
     "output_type": "display_data"
    }
   ],
   "source": [
    "profiled_text_dataframe['sentiment_polarity'].hist()"
   ]
  },
  {
   "cell_type": "code",
   "execution_count": 7,
   "metadata": {},
   "outputs": [
    {
     "data": {
      "text/plain": [
       "<matplotlib.axes._subplots.AxesSubplot at 0x7f7ce67554f0>"
      ]
     },
     "execution_count": 7,
     "metadata": {},
     "output_type": "execute_result"
    },
    {
     "data": {
      "image/png": "[encoded data removed]",
      "text/plain": [
       "<Figure size 432x288 with 1 Axes>"
      ]
     },
     "metadata": {
      "needs_background": "light"
     },
     "output_type": "display_data"
    }
   ],
   "source": [
    "profiled_text_dataframe['sentiment_subjectivity'].hist()"
   ]
  },
  {
   "cell_type": "markdown",
   "metadata": {},
   "source": [
    "### Spelling quality check"
   ]
  },
  {
   "cell_type": "markdown",
   "metadata": {},
   "source": [
    "#### The spelling score and spelling quality check is upto 70% accurate, it's using Peter Norvig’s “How to Write a Spelling Corrector\"."
   ]
  },
  {
   "cell_type": "code",
   "execution_count": 8,
   "metadata": {},
   "outputs": [
    {
     "data": {
      "text/plain": [
       "<matplotlib.axes._subplots.AxesSubplot at 0x7f7ce66cf7f0>"
      ]
     },
     "execution_count": 8,
     "metadata": {},
     "output_type": "execute_result"
    },
    {
     "data": {
      "image/png": "[encoded data removed]",
      "text/plain": [
       "<Figure size 432x288 with 1 Axes>"
      ]
     },
     "metadata": {
      "needs_background": "light"
     },
     "output_type": "display_data"
    }
   ],
   "source": [
    "profiled_text_dataframe['spelling_quality_score'].hist()"
   ]
  },
  {
   "cell_type": "code",
   "execution_count": 9,
   "metadata": {},
   "outputs": [
    {
     "data": {
      "text/plain": [
       "<matplotlib.axes._subplots.AxesSubplot at 0x7f7ce6654a90>"
      ]
     },
     "execution_count": 9,
     "metadata": {},
     "output_type": "execute_result"
    },
    {
     "data": {
      "image/png": "[encoded data removed]",
      "text/plain": [
       "<Figure size 432x288 with 1 Axes>"
      ]
     },
     "metadata": {
      "needs_background": "light"
     },
     "output_type": "display_data"
    }
   ],
   "source": [
    "profiled_text_dataframe['spelling_quality'].hist()"
   ]
  },
  {
   "cell_type": "markdown",
   "metadata": {},
   "source": [
    "### Running describe() on the new NLP profiler generated dataframe"
   ]
  },
  {
   "cell_type": "code",
   "execution_count": 10,
   "metadata": {},
   "outputs": [
    {
     "data": {
      "text/html": [
       "<div>\n",
       "<style scoped>\n",
       "    .dataframe tbody tr th:only-of-type {\n",
       "        vertical-align: middle;\n",
       "    }\n",
       "\n",
       "    .dataframe tbody tr th {\n",
       "        vertical-align: top;\n",
       "    }\n",
       "\n",
       "    .dataframe thead th {\n",
       "        text-align: right;\n",
       "    }\n",
       "</style>\n",
       "<table border=\"1\" class=\"dataframe\">\n",
       "  <thead>\n",
       "    <tr style=\"text-align: right;\">\n",
       "      <th></th>\n",
       "      <th>sentiment_polarity_score</th>\n",
       "      <th>sentiment_subjectivity_score</th>\n",
       "      <th>spelling_quality_score</th>\n",
       "      <th>sentences_count</th>\n",
       "      <th>characters_count</th>\n",
       "      <th>spaces_count</th>\n",
       "      <th>words_count</th>\n",
       "      <th>duplicates_count</th>\n",
       "      <th>chars_excl_spaces_count</th>\n",
       "      <th>emoji_count</th>\n",
       "      <th>whole_numbers_count</th>\n",
       "      <th>alpha_numeric_count</th>\n",
       "      <th>non_alpha_numeric_count</th>\n",
       "      <th>punctuations_count</th>\n",
       "      <th>stop_words_count</th>\n",
       "      <th>dates_count</th>\n",
       "    </tr>\n",
       "  </thead>\n",
       "  <tbody>\n",
       "    <tr>\n",
       "      <th>count</th>\n",
       "      <td>7.000000</td>\n",
       "      <td>7.000000</td>\n",
       "      <td>7.000000</td>\n",
       "      <td>7.000000</td>\n",
       "      <td>7.000000</td>\n",
       "      <td>7.000000</td>\n",
       "      <td>7.000000</td>\n",
       "      <td>7.000000</td>\n",
       "      <td>7.000000</td>\n",
       "      <td>7.000000</td>\n",
       "      <td>7.000000</td>\n",
       "      <td>7.000000</td>\n",
       "      <td>7.000000</td>\n",
       "      <td>7.00000</td>\n",
       "      <td>7.000000</td>\n",
       "      <td>7.000000</td>\n",
       "    </tr>\n",
       "    <tr>\n",
       "      <th>mean</th>\n",
       "      <td>0.212078</td>\n",
       "      <td>0.404286</td>\n",
       "      <td>0.887087</td>\n",
       "      <td>2.428571</td>\n",
       "      <td>61.285714</td>\n",
       "      <td>9.571429</td>\n",
       "      <td>9.857143</td>\n",
       "      <td>1.000000</td>\n",
       "      <td>51.714286</td>\n",
       "      <td>0.285714</td>\n",
       "      <td>2.142857</td>\n",
       "      <td>47.428571</td>\n",
       "      <td>13.857143</td>\n",
       "      <td>4.00000</td>\n",
       "      <td>3.714286</td>\n",
       "      <td>0.428571</td>\n",
       "    </tr>\n",
       "    <tr>\n",
       "      <th>std</th>\n",
       "      <td>0.285829</td>\n",
       "      <td>0.293193</td>\n",
       "      <td>0.118690</td>\n",
       "      <td>0.786796</td>\n",
       "      <td>28.182230</td>\n",
       "      <td>3.909695</td>\n",
       "      <td>4.670067</td>\n",
       "      <td>1.290994</td>\n",
       "      <td>24.560906</td>\n",
       "      <td>0.755929</td>\n",
       "      <td>2.734262</td>\n",
       "      <td>23.971213</td>\n",
       "      <td>4.634241</td>\n",
       "      <td>2.94392</td>\n",
       "      <td>1.889822</td>\n",
       "      <td>0.786796</td>\n",
       "    </tr>\n",
       "    <tr>\n",
       "      <th>min</th>\n",
       "      <td>-0.106818</td>\n",
       "      <td>0.000000</td>\n",
       "      <td>0.711513</td>\n",
       "      <td>2.000000</td>\n",
       "      <td>21.000000</td>\n",
       "      <td>5.000000</td>\n",
       "      <td>4.000000</td>\n",
       "      <td>0.000000</td>\n",
       "      <td>16.000000</td>\n",
       "      <td>0.000000</td>\n",
       "      <td>0.000000</td>\n",
       "      <td>13.000000</td>\n",
       "      <td>8.000000</td>\n",
       "      <td>1.00000</td>\n",
       "      <td>1.000000</td>\n",
       "      <td>0.000000</td>\n",
       "    </tr>\n",
       "    <tr>\n",
       "      <th>25%</th>\n",
       "      <td>0.000000</td>\n",
       "      <td>0.215000</td>\n",
       "      <td>0.802705</td>\n",
       "      <td>2.000000</td>\n",
       "      <td>49.000000</td>\n",
       "      <td>7.500000</td>\n",
       "      <td>7.000000</td>\n",
       "      <td>0.000000</td>\n",
       "      <td>40.000000</td>\n",
       "      <td>0.000000</td>\n",
       "      <td>0.000000</td>\n",
       "      <td>38.500000</td>\n",
       "      <td>10.500000</td>\n",
       "      <td>1.50000</td>\n",
       "      <td>3.000000</td>\n",
       "      <td>0.000000</td>\n",
       "    </tr>\n",
       "    <tr>\n",
       "      <th>50%</th>\n",
       "      <td>0.136364</td>\n",
       "      <td>0.500000</td>\n",
       "      <td>0.923887</td>\n",
       "      <td>2.000000</td>\n",
       "      <td>60.000000</td>\n",
       "      <td>8.000000</td>\n",
       "      <td>9.000000</td>\n",
       "      <td>0.000000</td>\n",
       "      <td>52.000000</td>\n",
       "      <td>0.000000</td>\n",
       "      <td>1.000000</td>\n",
       "      <td>46.000000</td>\n",
       "      <td>14.000000</td>\n",
       "      <td>3.00000</td>\n",
       "      <td>3.000000</td>\n",
       "      <td>0.000000</td>\n",
       "    </tr>\n",
       "    <tr>\n",
       "      <th>75%</th>\n",
       "      <td>0.377500</td>\n",
       "      <td>0.575000</td>\n",
       "      <td>0.984401</td>\n",
       "      <td>2.500000</td>\n",
       "      <td>69.000000</td>\n",
       "      <td>11.000000</td>\n",
       "      <td>12.000000</td>\n",
       "      <td>2.000000</td>\n",
       "      <td>59.500000</td>\n",
       "      <td>0.000000</td>\n",
       "      <td>4.000000</td>\n",
       "      <td>52.000000</td>\n",
       "      <td>17.000000</td>\n",
       "      <td>6.50000</td>\n",
       "      <td>4.500000</td>\n",
       "      <td>0.500000</td>\n",
       "    </tr>\n",
       "    <tr>\n",
       "      <th>max</th>\n",
       "      <td>0.700000</td>\n",
       "      <td>0.750000</td>\n",
       "      <td>1.000000</td>\n",
       "      <td>4.000000</td>\n",
       "      <td>112.000000</td>\n",
       "      <td>17.000000</td>\n",
       "      <td>18.000000</td>\n",
       "      <td>3.000000</td>\n",
       "      <td>95.000000</td>\n",
       "      <td>2.000000</td>\n",
       "      <td>6.000000</td>\n",
       "      <td>92.000000</td>\n",
       "      <td>20.000000</td>\n",
       "      <td>8.00000</td>\n",
       "      <td>7.000000</td>\n",
       "      <td>2.000000</td>\n",
       "    </tr>\n",
       "  </tbody>\n",
       "</table>\n",
       "</div>"
      ],
      "text/plain": [
       "       sentiment_polarity_score  sentiment_subjectivity_score  \\\n",
       "count                  7.000000                      7.000000   \n",
       "mean                   0.212078                      0.404286   \n",
       "std                    0.285829                      0.293193   \n",
       "min                   -0.106818                      0.000000   \n",
       "25%                    0.000000                      0.215000   \n",
       "50%                    0.136364                      0.500000   \n",
       "75%                    0.377500                      0.575000   \n",
       "max                    0.700000                      0.750000   \n",
       "\n",
       "       spelling_quality_score  sentences_count  characters_count  \\\n",
       "count                7.000000         7.000000          7.000000   \n",
       "mean                 0.887087         2.428571         61.285714   \n",
       "std                  0.118690         0.786796         28.182230   \n",
       "min                  0.711513         2.000000         21.000000   \n",
       "25%                  0.802705         2.000000         49.000000   \n",
       "50%                  0.923887         2.000000         60.000000   \n",
       "75%                  0.984401         2.500000         69.000000   \n",
       "max                  1.000000         4.000000        112.000000   \n",
       "\n",
       "       spaces_count  words_count  duplicates_count  chars_excl_spaces_count  \\\n",
       "count      7.000000     7.000000          7.000000                 7.000000   \n",
       "mean       9.571429     9.857143          1.000000                51.714286   \n",
       "std        3.909695     4.670067          1.290994                24.560906   \n",
       "min        5.000000     4.000000          0.000000                16.000000   \n",
       "25%        7.500000     7.000000          0.000000                40.000000   \n",
       "50%        8.000000     9.000000          0.000000                52.000000   \n",
       "75%       11.000000    12.000000          2.000000                59.500000   \n",
       "max       17.000000    18.000000          3.000000                95.000000   \n",
       "\n",
       "       emoji_count  whole_numbers_count  alpha_numeric_count  \\\n",
       "count     7.000000             7.000000             7.000000   \n",
       "mean      0.285714             2.142857            47.428571   \n",
       "std       0.755929             2.734262            23.971213   \n",
       "min       0.000000             0.000000            13.000000   \n",
       "25%       0.000000             0.000000            38.500000   \n",
       "50%       0.000000             1.000000            46.000000   \n",
       "75%       0.000000             4.000000            52.000000   \n",
       "max       2.000000             6.000000            92.000000   \n",
       "\n",
       "       non_alpha_numeric_count  punctuations_count  stop_words_count  \\\n",
       "count                 7.000000             7.00000          7.000000   \n",
       "mean                 13.857143             4.00000          3.714286   \n",
       "std                   4.634241             2.94392          1.889822   \n",
       "min                   8.000000             1.00000          1.000000   \n",
       "25%                  10.500000             1.50000          3.000000   \n",
       "50%                  14.000000             3.00000          3.000000   \n",
       "75%                  17.000000             6.50000          4.500000   \n",
       "max                  20.000000             8.00000          7.000000   \n",
       "\n",
       "       dates_count  \n",
       "count     7.000000  \n",
       "mean      0.428571  \n",
       "std       0.786796  \n",
       "min       0.000000  \n",
       "25%       0.000000  \n",
       "50%       0.000000  \n",
       "75%       0.500000  \n",
       "max       2.000000  "
      ]
     },
     "execution_count": 10,
     "metadata": {},
     "output_type": "execute_result"
    }
   ],
   "source": [
    "profiled_text_dataframe.describe()"
   ]
  },
  {
   "cell_type": "markdown",
   "metadata": {},
   "source": [
    "### Resources\n",
    "\n",
    "- https://www.kaggle.com/raenish/cheatsheet-text-helper-functions\n",
    "- https://textblob.readthedocs.io/en/dev/quickstart.html\n",
    "- [Approaching (Almost) Any NLP Problem on Kaggle](https://www.kaggle.com/abhishek/approaching-almost-any-nlp-problem-on-kaggle)\n",
    "- [Words of estimative probability](https://en.wikipedia.org/wiki/Words_of_estimative_probability)\n",
    "- [NLP Profiler source file](https://github.com/neomatrix369/awesome-ai-ml-dl/blob/master/examples/better-nlp/library/org/neomatrix369/nlp_profiler.py)\n",
    "- [Kaggle Utility script](https://www.kaggle.com/neomatrix369/nlp-profiler-class)\n",
    "- [Kaggle kernel](https://www.kaggle.com/neomatrix369/nlp-profiler-simple-dataset)\n",
    "- [Awesome AI-ML-DL: Better NLP library](https://bit.ly/better-nlp-launch)\n",
    "- [Awesome AI-ML-DL: NLP Resources](https://github.com/neomatrix369/awesome-ai-ml-dl/tree/master/natural-language-processing)\n",
    "- [Awesome AI-ML-DL Github](https://github.com/neomatrix369/awesome-ai-ml-dl/blob/)"
   ]
  }
 ],
 "metadata": {
  "kernelspec": {
   "display_name": "Python 3",
   "language": "python",
   "name": "python3"
  },
  "language_info": {
   "codemirror_mode": {
    "name": "ipython",
    "version": 3
   },
   "file_extension": ".py",
   "mimetype": "text/x-python",
   "name": "python",
   "nbconvert_exporter": "python",
   "pygments_lexer": "ipython3",
   "version": "3.8.5"
  }
 },
 "nbformat": 4,
 "nbformat_minor": 4
}